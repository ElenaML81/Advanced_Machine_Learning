{
 "cells": [
  {
   "cell_type": "markdown",
   "id": "03578ff6",
   "metadata": {},
   "source": [
    "### S12 T01: Pipelines, grid search, text mining"
   ]
  },
  {
   "cell_type": "markdown",
   "id": "1ce904b4",
   "metadata": {},
   "source": [
    "### - Exercici 1\n",
    "\n",
    "Agafa el conjunt de dades que vulguis i realitza un pipeline i un gridsearch aplicant l'algorisme de Random Forest."
   ]
  },
  {
   "cell_type": "code",
   "execution_count": 1,
   "id": "095db383",
   "metadata": {
    "ExecuteTime": {
     "end_time": "2022-05-27T16:10:56.606650Z",
     "start_time": "2022-05-27T16:10:55.243969Z"
    }
   },
   "outputs": [],
   "source": [
    "import pandas as pd \n",
    "pd.set_option('display.max_columns', 500)\n",
    "import numpy as np \n",
    "import matplotlib.pyplot as plt\n",
    "import seaborn as sns\n",
    "import warnings\n",
    "warnings.filterwarnings(\"ignore\")"
   ]
  },
  {
   "cell_type": "markdown",
   "id": "7d6c6a1d",
   "metadata": {},
   "source": [
    "### Life Expectancy (WHO) dataset"
   ]
  },
  {
   "cell_type": "markdown",
   "id": "9e44f100",
   "metadata": {},
   "source": [
    "This dataset is taken from kaggle, from the following link:  https://www.kaggle.com/datasets/kumarajarshi/life-expectancy-who"
   ]
  },
  {
   "cell_type": "markdown",
   "id": "df467fa7",
   "metadata": {},
   "source": [
    "This is a dataset that brings together several factors that determine **life expectancy** in various countries.  The dataset includes data collected from several countries over several years by the World Health Organization (WHO). For this exercise **we will focus on the prediction of Life expectancy given all the other features.**"
   ]
  },
  {
   "cell_type": "code",
   "execution_count": 2,
   "id": "70ed5b36",
   "metadata": {
    "ExecuteTime": {
     "end_time": "2022-05-27T16:10:56.637783Z",
     "start_time": "2022-05-27T16:10:56.607057Z"
    }
   },
   "outputs": [],
   "source": [
    "data = pd.read_csv('life_expectancy_data.csv')"
   ]
  },
  {
   "cell_type": "code",
   "execution_count": 3,
   "id": "6ad33e49",
   "metadata": {
    "ExecuteTime": {
     "end_time": "2022-05-27T16:10:56.669309Z",
     "start_time": "2022-05-27T16:10:56.638706Z"
    }
   },
   "outputs": [
    {
     "data": {
      "text/html": [
       "<div>\n",
       "<style scoped>\n",
       "    .dataframe tbody tr th:only-of-type {\n",
       "        vertical-align: middle;\n",
       "    }\n",
       "\n",
       "    .dataframe tbody tr th {\n",
       "        vertical-align: top;\n",
       "    }\n",
       "\n",
       "    .dataframe thead th {\n",
       "        text-align: right;\n",
       "    }\n",
       "</style>\n",
       "<table border=\"1\" class=\"dataframe\">\n",
       "  <thead>\n",
       "    <tr style=\"text-align: right;\">\n",
       "      <th></th>\n",
       "      <th>Country</th>\n",
       "      <th>Year</th>\n",
       "      <th>Status</th>\n",
       "      <th>Life expectancy</th>\n",
       "      <th>Adult Mortality</th>\n",
       "      <th>infant deaths</th>\n",
       "      <th>Alcohol</th>\n",
       "      <th>percentage expenditure</th>\n",
       "      <th>Hepatitis B</th>\n",
       "      <th>Measles</th>\n",
       "      <th>BMI</th>\n",
       "      <th>under-five deaths</th>\n",
       "      <th>Polio</th>\n",
       "      <th>Total expenditure</th>\n",
       "      <th>Diphtheria</th>\n",
       "      <th>HIV/AIDS</th>\n",
       "      <th>GDP</th>\n",
       "      <th>Population</th>\n",
       "      <th>thinness  1-19 years</th>\n",
       "      <th>thinness 5-9 years</th>\n",
       "      <th>Income composition of resources</th>\n",
       "      <th>Schooling</th>\n",
       "    </tr>\n",
       "  </thead>\n",
       "  <tbody>\n",
       "    <tr>\n",
       "      <th>0</th>\n",
       "      <td>Afghanistan</td>\n",
       "      <td>2015</td>\n",
       "      <td>Developing</td>\n",
       "      <td>65.0</td>\n",
       "      <td>263.0</td>\n",
       "      <td>62</td>\n",
       "      <td>0.01</td>\n",
       "      <td>71.279624</td>\n",
       "      <td>65.0</td>\n",
       "      <td>1154</td>\n",
       "      <td>19.1</td>\n",
       "      <td>83</td>\n",
       "      <td>6.0</td>\n",
       "      <td>8.16</td>\n",
       "      <td>65.0</td>\n",
       "      <td>0.1</td>\n",
       "      <td>584.259210</td>\n",
       "      <td>33736494.0</td>\n",
       "      <td>17.2</td>\n",
       "      <td>17.3</td>\n",
       "      <td>0.479</td>\n",
       "      <td>10.1</td>\n",
       "    </tr>\n",
       "    <tr>\n",
       "      <th>1</th>\n",
       "      <td>Afghanistan</td>\n",
       "      <td>2014</td>\n",
       "      <td>Developing</td>\n",
       "      <td>59.9</td>\n",
       "      <td>271.0</td>\n",
       "      <td>64</td>\n",
       "      <td>0.01</td>\n",
       "      <td>73.523582</td>\n",
       "      <td>62.0</td>\n",
       "      <td>492</td>\n",
       "      <td>18.6</td>\n",
       "      <td>86</td>\n",
       "      <td>58.0</td>\n",
       "      <td>8.18</td>\n",
       "      <td>62.0</td>\n",
       "      <td>0.1</td>\n",
       "      <td>612.696514</td>\n",
       "      <td>327582.0</td>\n",
       "      <td>17.5</td>\n",
       "      <td>17.5</td>\n",
       "      <td>0.476</td>\n",
       "      <td>10.0</td>\n",
       "    </tr>\n",
       "    <tr>\n",
       "      <th>2</th>\n",
       "      <td>Afghanistan</td>\n",
       "      <td>2013</td>\n",
       "      <td>Developing</td>\n",
       "      <td>59.9</td>\n",
       "      <td>268.0</td>\n",
       "      <td>66</td>\n",
       "      <td>0.01</td>\n",
       "      <td>73.219243</td>\n",
       "      <td>64.0</td>\n",
       "      <td>430</td>\n",
       "      <td>18.1</td>\n",
       "      <td>89</td>\n",
       "      <td>62.0</td>\n",
       "      <td>8.13</td>\n",
       "      <td>64.0</td>\n",
       "      <td>0.1</td>\n",
       "      <td>631.744976</td>\n",
       "      <td>31731688.0</td>\n",
       "      <td>17.7</td>\n",
       "      <td>17.7</td>\n",
       "      <td>0.470</td>\n",
       "      <td>9.9</td>\n",
       "    </tr>\n",
       "    <tr>\n",
       "      <th>3</th>\n",
       "      <td>Afghanistan</td>\n",
       "      <td>2012</td>\n",
       "      <td>Developing</td>\n",
       "      <td>59.5</td>\n",
       "      <td>272.0</td>\n",
       "      <td>69</td>\n",
       "      <td>0.01</td>\n",
       "      <td>78.184215</td>\n",
       "      <td>67.0</td>\n",
       "      <td>2787</td>\n",
       "      <td>17.6</td>\n",
       "      <td>93</td>\n",
       "      <td>67.0</td>\n",
       "      <td>8.52</td>\n",
       "      <td>67.0</td>\n",
       "      <td>0.1</td>\n",
       "      <td>669.959000</td>\n",
       "      <td>3696958.0</td>\n",
       "      <td>17.9</td>\n",
       "      <td>18.0</td>\n",
       "      <td>0.463</td>\n",
       "      <td>9.8</td>\n",
       "    </tr>\n",
       "    <tr>\n",
       "      <th>4</th>\n",
       "      <td>Afghanistan</td>\n",
       "      <td>2011</td>\n",
       "      <td>Developing</td>\n",
       "      <td>59.2</td>\n",
       "      <td>275.0</td>\n",
       "      <td>71</td>\n",
       "      <td>0.01</td>\n",
       "      <td>7.097109</td>\n",
       "      <td>68.0</td>\n",
       "      <td>3013</td>\n",
       "      <td>17.2</td>\n",
       "      <td>97</td>\n",
       "      <td>68.0</td>\n",
       "      <td>7.87</td>\n",
       "      <td>68.0</td>\n",
       "      <td>0.1</td>\n",
       "      <td>63.537231</td>\n",
       "      <td>2978599.0</td>\n",
       "      <td>18.2</td>\n",
       "      <td>18.2</td>\n",
       "      <td>0.454</td>\n",
       "      <td>9.5</td>\n",
       "    </tr>\n",
       "  </tbody>\n",
       "</table>\n",
       "</div>"
      ],
      "text/plain": [
       "       Country  Year      Status  Life expectancy   Adult Mortality  \\\n",
       "0  Afghanistan  2015  Developing              65.0            263.0   \n",
       "1  Afghanistan  2014  Developing              59.9            271.0   \n",
       "2  Afghanistan  2013  Developing              59.9            268.0   \n",
       "3  Afghanistan  2012  Developing              59.5            272.0   \n",
       "4  Afghanistan  2011  Developing              59.2            275.0   \n",
       "\n",
       "   infant deaths  Alcohol  percentage expenditure  Hepatitis B  Measles   \\\n",
       "0             62     0.01               71.279624         65.0      1154   \n",
       "1             64     0.01               73.523582         62.0       492   \n",
       "2             66     0.01               73.219243         64.0       430   \n",
       "3             69     0.01               78.184215         67.0      2787   \n",
       "4             71     0.01                7.097109         68.0      3013   \n",
       "\n",
       "    BMI   under-five deaths   Polio  Total expenditure  Diphtheria   \\\n",
       "0   19.1                  83    6.0               8.16         65.0   \n",
       "1   18.6                  86   58.0               8.18         62.0   \n",
       "2   18.1                  89   62.0               8.13         64.0   \n",
       "3   17.6                  93   67.0               8.52         67.0   \n",
       "4   17.2                  97   68.0               7.87         68.0   \n",
       "\n",
       "    HIV/AIDS         GDP  Population   thinness  1-19 years  \\\n",
       "0        0.1  584.259210  33736494.0                   17.2   \n",
       "1        0.1  612.696514    327582.0                   17.5   \n",
       "2        0.1  631.744976  31731688.0                   17.7   \n",
       "3        0.1  669.959000   3696958.0                   17.9   \n",
       "4        0.1   63.537231   2978599.0                   18.2   \n",
       "\n",
       "    thinness 5-9 years  Income composition of resources  Schooling  \n",
       "0                 17.3                            0.479       10.1  \n",
       "1                 17.5                            0.476       10.0  \n",
       "2                 17.7                            0.470        9.9  \n",
       "3                 18.0                            0.463        9.8  \n",
       "4                 18.2                            0.454        9.5  "
      ]
     },
     "execution_count": 3,
     "metadata": {},
     "output_type": "execute_result"
    }
   ],
   "source": [
    "data.head()"
   ]
  },
  {
   "cell_type": "code",
   "execution_count": 4,
   "id": "17ab8fa8",
   "metadata": {
    "ExecuteTime": {
     "end_time": "2022-05-27T16:10:56.685013Z",
     "start_time": "2022-05-27T16:10:56.670306Z"
    }
   },
   "outputs": [
    {
     "name": "stdout",
     "output_type": "stream",
     "text": [
      "We have 193 different countries in the dataset. \n"
     ]
    }
   ],
   "source": [
    "# check the number of countries on the dataset \n",
    "print('We have', len(data.Country.unique()), 'different countries in the dataset. ')"
   ]
  },
  {
   "cell_type": "code",
   "execution_count": 5,
   "id": "c0d986d4",
   "metadata": {
    "ExecuteTime": {
     "end_time": "2022-05-27T16:10:56.700230Z",
     "start_time": "2022-05-27T16:10:56.686009Z"
    }
   },
   "outputs": [
    {
     "data": {
      "text/plain": [
       "array([2015, 2014, 2013, 2012, 2011, 2010, 2009, 2008, 2007, 2006, 2005,\n",
       "       2004, 2003, 2002, 2001, 2000], dtype=int64)"
      ]
     },
     "execution_count": 5,
     "metadata": {},
     "output_type": "execute_result"
    }
   ],
   "source": [
    "data.Year.unique()"
   ]
  },
  {
   "cell_type": "markdown",
   "id": "98aebc54",
   "metadata": {},
   "source": [
    "The data is from 2000 to 2015. "
   ]
  },
  {
   "cell_type": "code",
   "execution_count": 6,
   "id": "9c39a62b",
   "metadata": {
    "ExecuteTime": {
     "end_time": "2022-05-27T16:10:56.716028Z",
     "start_time": "2022-05-27T16:10:56.703585Z"
    }
   },
   "outputs": [
    {
     "data": {
      "text/plain": [
       "Index(['Country', 'Year', 'Status', 'Life expectancy ', 'Adult Mortality',\n",
       "       'infant deaths', 'Alcohol', 'percentage expenditure', 'Hepatitis B',\n",
       "       'Measles ', ' BMI ', 'under-five deaths ', 'Polio', 'Total expenditure',\n",
       "       'Diphtheria ', ' HIV/AIDS', 'GDP', 'Population',\n",
       "       ' thinness  1-19 years', ' thinness 5-9 years',\n",
       "       'Income composition of resources', 'Schooling'],\n",
       "      dtype='object')"
      ]
     },
     "execution_count": 6,
     "metadata": {},
     "output_type": "execute_result"
    }
   ],
   "source": [
    "data.columns"
   ]
  },
  {
   "cell_type": "code",
   "execution_count": 7,
   "id": "5d7ebab2",
   "metadata": {
    "ExecuteTime": {
     "end_time": "2022-05-27T16:10:56.732329Z",
     "start_time": "2022-05-27T16:10:56.719011Z"
    }
   },
   "outputs": [
    {
     "data": {
      "text/plain": [
       "(2938, 22)"
      ]
     },
     "execution_count": 7,
     "metadata": {},
     "output_type": "execute_result"
    }
   ],
   "source": [
    "data.shape"
   ]
  },
  {
   "cell_type": "markdown",
   "id": "8a992b50",
   "metadata": {},
   "source": [
    "This dataset containts 2938 rows and 22 columns. "
   ]
  },
  {
   "cell_type": "markdown",
   "id": "a2b395ed",
   "metadata": {},
   "source": [
    "info about ecah column: \n",
    "\n",
    "+ **Country**: Country\n",
    "+ **Year**: Year (from 2000 to 2015)\n",
    "+ **Status**: Developed or Developing country\n",
    "+ **Life expectancy**: Life Expectancy in age (target column) \n",
    "+ **Adult Mortality**: Adult Mortality Rates of both sexes (probability of dying between 15 and 60 years per 1000 population)\n",
    "+ **Infand Deaths** : Number of Infant Deaths per 1000 population\n",
    "+ **Alcohol**: Alcohol, recorded per capita (15+) consumption (in litres of pure alcohol)\n",
    "+ **Percentage Expenditure**: Expenditure on health as a percentage of Gross Domestic Product per capita(%)\n",
    "+ **Hepatitis B**: Hepatitis B (HepB) immunization coverage among 1-year-olds (%)\n",
    "+ **Measles** : Measles - number of reported cases per 1000 population\n",
    "+ **BMI** : Average Body Mass Index of entire population\n",
    "+ **Under-five Deaths** : Number of under-five deaths per 1000 population\n",
    "+ **Polio**: Polio (Pol3) immunization coverage among 1-year-olds (%)\n",
    "+ **Total Expenditure**: General government expenditure on health as a percentage of total government expenditure (%)\n",
    "+ **Diphteria**: Diphtheria tetanus toxoid and pertussis (DTP3) immunization coverage among 1-year-olds (%)\n",
    "+ **HIV/AIDS** : Deaths per 1 000 live births HIV/AIDS (0-4 years)\n",
    "+ **GDP**: Gross Domestic Product per capita (in USD)\n",
    "+ **Population**: Population of the country\n",
    "+ **Thinness  1-19 years** : Prevalence of thinness among children and adolescents for Age 10 to 19 (% )\n",
    "+ **Thinness 5-9 years** : Prevalence of thinness among children for Age 5 to 9(%)\n",
    "+ **Income composition of resources** : Human Development Index in terms of income composition of resources (index ranging from 0 to 1)\n",
    "+ **Schooling** : Number of years of Schooling(years)"
   ]
  },
  {
   "cell_type": "markdown",
   "id": "bf787a79",
   "metadata": {},
   "source": [
    "Check summary statistics for the dataset: "
   ]
  },
  {
   "cell_type": "code",
   "execution_count": 8,
   "id": "69d0de6a",
   "metadata": {
    "ExecuteTime": {
     "end_time": "2022-05-27T16:10:56.779835Z",
     "start_time": "2022-05-27T16:10:56.734326Z"
    }
   },
   "outputs": [
    {
     "data": {
      "text/html": [
       "<div>\n",
       "<style scoped>\n",
       "    .dataframe tbody tr th:only-of-type {\n",
       "        vertical-align: middle;\n",
       "    }\n",
       "\n",
       "    .dataframe tbody tr th {\n",
       "        vertical-align: top;\n",
       "    }\n",
       "\n",
       "    .dataframe thead th {\n",
       "        text-align: right;\n",
       "    }\n",
       "</style>\n",
       "<table border=\"1\" class=\"dataframe\">\n",
       "  <thead>\n",
       "    <tr style=\"text-align: right;\">\n",
       "      <th></th>\n",
       "      <th>Year</th>\n",
       "      <th>Life expectancy</th>\n",
       "      <th>Adult Mortality</th>\n",
       "      <th>infant deaths</th>\n",
       "      <th>Alcohol</th>\n",
       "      <th>percentage expenditure</th>\n",
       "      <th>Hepatitis B</th>\n",
       "      <th>Measles</th>\n",
       "      <th>BMI</th>\n",
       "      <th>under-five deaths</th>\n",
       "      <th>Polio</th>\n",
       "      <th>Total expenditure</th>\n",
       "      <th>Diphtheria</th>\n",
       "      <th>HIV/AIDS</th>\n",
       "      <th>GDP</th>\n",
       "      <th>Population</th>\n",
       "      <th>thinness  1-19 years</th>\n",
       "      <th>thinness 5-9 years</th>\n",
       "      <th>Income composition of resources</th>\n",
       "      <th>Schooling</th>\n",
       "    </tr>\n",
       "  </thead>\n",
       "  <tbody>\n",
       "    <tr>\n",
       "      <th>count</th>\n",
       "      <td>2938.00</td>\n",
       "      <td>2928.00</td>\n",
       "      <td>2928.00</td>\n",
       "      <td>2938.00</td>\n",
       "      <td>2744.00</td>\n",
       "      <td>2938.00</td>\n",
       "      <td>2385.00</td>\n",
       "      <td>2938.00</td>\n",
       "      <td>2904.00</td>\n",
       "      <td>2938.00</td>\n",
       "      <td>2919.00</td>\n",
       "      <td>2712.00</td>\n",
       "      <td>2919.00</td>\n",
       "      <td>2938.00</td>\n",
       "      <td>2490.00</td>\n",
       "      <td>2.286000e+03</td>\n",
       "      <td>2904.00</td>\n",
       "      <td>2904.00</td>\n",
       "      <td>2771.00</td>\n",
       "      <td>2775.00</td>\n",
       "    </tr>\n",
       "    <tr>\n",
       "      <th>mean</th>\n",
       "      <td>2007.52</td>\n",
       "      <td>69.22</td>\n",
       "      <td>164.80</td>\n",
       "      <td>30.30</td>\n",
       "      <td>4.60</td>\n",
       "      <td>738.25</td>\n",
       "      <td>80.94</td>\n",
       "      <td>2419.59</td>\n",
       "      <td>38.32</td>\n",
       "      <td>42.04</td>\n",
       "      <td>82.55</td>\n",
       "      <td>5.94</td>\n",
       "      <td>82.32</td>\n",
       "      <td>1.74</td>\n",
       "      <td>7483.16</td>\n",
       "      <td>1.275338e+07</td>\n",
       "      <td>4.84</td>\n",
       "      <td>4.87</td>\n",
       "      <td>0.63</td>\n",
       "      <td>11.99</td>\n",
       "    </tr>\n",
       "    <tr>\n",
       "      <th>std</th>\n",
       "      <td>4.61</td>\n",
       "      <td>9.52</td>\n",
       "      <td>124.29</td>\n",
       "      <td>117.93</td>\n",
       "      <td>4.05</td>\n",
       "      <td>1987.91</td>\n",
       "      <td>25.07</td>\n",
       "      <td>11467.27</td>\n",
       "      <td>20.04</td>\n",
       "      <td>160.45</td>\n",
       "      <td>23.43</td>\n",
       "      <td>2.50</td>\n",
       "      <td>23.72</td>\n",
       "      <td>5.08</td>\n",
       "      <td>14270.17</td>\n",
       "      <td>6.101210e+07</td>\n",
       "      <td>4.42</td>\n",
       "      <td>4.51</td>\n",
       "      <td>0.21</td>\n",
       "      <td>3.36</td>\n",
       "    </tr>\n",
       "    <tr>\n",
       "      <th>min</th>\n",
       "      <td>2000.00</td>\n",
       "      <td>36.30</td>\n",
       "      <td>1.00</td>\n",
       "      <td>0.00</td>\n",
       "      <td>0.01</td>\n",
       "      <td>0.00</td>\n",
       "      <td>1.00</td>\n",
       "      <td>0.00</td>\n",
       "      <td>1.00</td>\n",
       "      <td>0.00</td>\n",
       "      <td>3.00</td>\n",
       "      <td>0.37</td>\n",
       "      <td>2.00</td>\n",
       "      <td>0.10</td>\n",
       "      <td>1.68</td>\n",
       "      <td>3.400000e+01</td>\n",
       "      <td>0.10</td>\n",
       "      <td>0.10</td>\n",
       "      <td>0.00</td>\n",
       "      <td>0.00</td>\n",
       "    </tr>\n",
       "    <tr>\n",
       "      <th>25%</th>\n",
       "      <td>2004.00</td>\n",
       "      <td>63.10</td>\n",
       "      <td>74.00</td>\n",
       "      <td>0.00</td>\n",
       "      <td>0.88</td>\n",
       "      <td>4.69</td>\n",
       "      <td>77.00</td>\n",
       "      <td>0.00</td>\n",
       "      <td>19.30</td>\n",
       "      <td>0.00</td>\n",
       "      <td>78.00</td>\n",
       "      <td>4.26</td>\n",
       "      <td>78.00</td>\n",
       "      <td>0.10</td>\n",
       "      <td>463.94</td>\n",
       "      <td>1.957932e+05</td>\n",
       "      <td>1.60</td>\n",
       "      <td>1.50</td>\n",
       "      <td>0.49</td>\n",
       "      <td>10.10</td>\n",
       "    </tr>\n",
       "    <tr>\n",
       "      <th>50%</th>\n",
       "      <td>2008.00</td>\n",
       "      <td>72.10</td>\n",
       "      <td>144.00</td>\n",
       "      <td>3.00</td>\n",
       "      <td>3.76</td>\n",
       "      <td>64.91</td>\n",
       "      <td>92.00</td>\n",
       "      <td>17.00</td>\n",
       "      <td>43.50</td>\n",
       "      <td>4.00</td>\n",
       "      <td>93.00</td>\n",
       "      <td>5.76</td>\n",
       "      <td>93.00</td>\n",
       "      <td>0.10</td>\n",
       "      <td>1766.95</td>\n",
       "      <td>1.386542e+06</td>\n",
       "      <td>3.30</td>\n",
       "      <td>3.30</td>\n",
       "      <td>0.68</td>\n",
       "      <td>12.30</td>\n",
       "    </tr>\n",
       "    <tr>\n",
       "      <th>75%</th>\n",
       "      <td>2012.00</td>\n",
       "      <td>75.70</td>\n",
       "      <td>228.00</td>\n",
       "      <td>22.00</td>\n",
       "      <td>7.70</td>\n",
       "      <td>441.53</td>\n",
       "      <td>97.00</td>\n",
       "      <td>360.25</td>\n",
       "      <td>56.20</td>\n",
       "      <td>28.00</td>\n",
       "      <td>97.00</td>\n",
       "      <td>7.49</td>\n",
       "      <td>97.00</td>\n",
       "      <td>0.80</td>\n",
       "      <td>5910.81</td>\n",
       "      <td>7.420359e+06</td>\n",
       "      <td>7.20</td>\n",
       "      <td>7.20</td>\n",
       "      <td>0.78</td>\n",
       "      <td>14.30</td>\n",
       "    </tr>\n",
       "    <tr>\n",
       "      <th>max</th>\n",
       "      <td>2015.00</td>\n",
       "      <td>89.00</td>\n",
       "      <td>723.00</td>\n",
       "      <td>1800.00</td>\n",
       "      <td>17.87</td>\n",
       "      <td>19479.91</td>\n",
       "      <td>99.00</td>\n",
       "      <td>212183.00</td>\n",
       "      <td>87.30</td>\n",
       "      <td>2500.00</td>\n",
       "      <td>99.00</td>\n",
       "      <td>17.60</td>\n",
       "      <td>99.00</td>\n",
       "      <td>50.60</td>\n",
       "      <td>119172.74</td>\n",
       "      <td>1.293859e+09</td>\n",
       "      <td>27.70</td>\n",
       "      <td>28.60</td>\n",
       "      <td>0.95</td>\n",
       "      <td>20.70</td>\n",
       "    </tr>\n",
       "  </tbody>\n",
       "</table>\n",
       "</div>"
      ],
      "text/plain": [
       "          Year  Life expectancy   Adult Mortality  infant deaths  Alcohol  \\\n",
       "count  2938.00           2928.00          2928.00        2938.00  2744.00   \n",
       "mean   2007.52             69.22           164.80          30.30     4.60   \n",
       "std       4.61              9.52           124.29         117.93     4.05   \n",
       "min    2000.00             36.30             1.00           0.00     0.01   \n",
       "25%    2004.00             63.10            74.00           0.00     0.88   \n",
       "50%    2008.00             72.10           144.00           3.00     3.76   \n",
       "75%    2012.00             75.70           228.00          22.00     7.70   \n",
       "max    2015.00             89.00           723.00        1800.00    17.87   \n",
       "\n",
       "       percentage expenditure  Hepatitis B   Measles      BMI   \\\n",
       "count                 2938.00      2385.00    2938.00  2904.00   \n",
       "mean                   738.25        80.94    2419.59    38.32   \n",
       "std                   1987.91        25.07   11467.27    20.04   \n",
       "min                      0.00         1.00       0.00     1.00   \n",
       "25%                      4.69        77.00       0.00    19.30   \n",
       "50%                     64.91        92.00      17.00    43.50   \n",
       "75%                    441.53        97.00     360.25    56.20   \n",
       "max                  19479.91        99.00  212183.00    87.30   \n",
       "\n",
       "       under-five deaths     Polio  Total expenditure  Diphtheria    HIV/AIDS  \\\n",
       "count             2938.00  2919.00            2712.00      2919.00    2938.00   \n",
       "mean                42.04    82.55               5.94        82.32       1.74   \n",
       "std                160.45    23.43               2.50        23.72       5.08   \n",
       "min                  0.00     3.00               0.37         2.00       0.10   \n",
       "25%                  0.00    78.00               4.26        78.00       0.10   \n",
       "50%                  4.00    93.00               5.76        93.00       0.10   \n",
       "75%                 28.00    97.00               7.49        97.00       0.80   \n",
       "max               2500.00    99.00              17.60        99.00      50.60   \n",
       "\n",
       "             GDP    Population   thinness  1-19 years   thinness 5-9 years  \\\n",
       "count    2490.00  2.286000e+03                2904.00              2904.00   \n",
       "mean     7483.16  1.275338e+07                   4.84                 4.87   \n",
       "std     14270.17  6.101210e+07                   4.42                 4.51   \n",
       "min         1.68  3.400000e+01                   0.10                 0.10   \n",
       "25%       463.94  1.957932e+05                   1.60                 1.50   \n",
       "50%      1766.95  1.386542e+06                   3.30                 3.30   \n",
       "75%      5910.81  7.420359e+06                   7.20                 7.20   \n",
       "max    119172.74  1.293859e+09                  27.70                28.60   \n",
       "\n",
       "       Income composition of resources  Schooling  \n",
       "count                          2771.00    2775.00  \n",
       "mean                              0.63      11.99  \n",
       "std                               0.21       3.36  \n",
       "min                               0.00       0.00  \n",
       "25%                               0.49      10.10  \n",
       "50%                               0.68      12.30  \n",
       "75%                               0.78      14.30  \n",
       "max                               0.95      20.70  "
      ]
     },
     "execution_count": 8,
     "metadata": {},
     "output_type": "execute_result"
    }
   ],
   "source": [
    "data.describe().round(2)"
   ]
  },
  {
   "cell_type": "markdown",
   "id": "fbb2be82",
   "metadata": {},
   "source": [
    "#### Treatment of missing values"
   ]
  },
  {
   "cell_type": "code",
   "execution_count": 9,
   "id": "995c0b2b",
   "metadata": {
    "ExecuteTime": {
     "end_time": "2022-05-27T16:10:56.795390Z",
     "start_time": "2022-05-27T16:10:56.780831Z"
    }
   },
   "outputs": [
    {
     "data": {
      "text/plain": [
       "Country                              0\n",
       "Year                                 0\n",
       "Status                               0\n",
       "Life expectancy                     10\n",
       "Adult Mortality                     10\n",
       "infant deaths                        0\n",
       "Alcohol                            194\n",
       "percentage expenditure               0\n",
       "Hepatitis B                        553\n",
       "Measles                              0\n",
       " BMI                                34\n",
       "under-five deaths                    0\n",
       "Polio                               19\n",
       "Total expenditure                  226\n",
       "Diphtheria                          19\n",
       " HIV/AIDS                            0\n",
       "GDP                                448\n",
       "Population                         652\n",
       " thinness  1-19 years               34\n",
       " thinness 5-9 years                 34\n",
       "Income composition of resources    167\n",
       "Schooling                          163\n",
       "dtype: int64"
      ]
     },
     "execution_count": 9,
     "metadata": {},
     "output_type": "execute_result"
    }
   ],
   "source": [
    "data.isnull().sum()"
   ]
  },
  {
   "cell_type": "markdown",
   "id": "e7cd67dd",
   "metadata": {},
   "source": [
    "We have several columns with missing values, let´s check how the missing values are distributed accross the dataset: "
   ]
  },
  {
   "cell_type": "code",
   "execution_count": 10,
   "id": "4a97c7c9",
   "metadata": {
    "ExecuteTime": {
     "end_time": "2022-05-27T16:10:57.182704Z",
     "start_time": "2022-05-27T16:10:56.797384Z"
    }
   },
   "outputs": [
    {
     "data": {
      "text/plain": [
       "<AxesSubplot:>"
      ]
     },
     "execution_count": 10,
     "metadata": {},
     "output_type": "execute_result"
    },
    {
     "data": {
      "image/png": "[encoded data removed]",
      "text/plain": [
       "<Figure size 720x432 with 2 Axes>"
      ]
     },
     "metadata": {
      "needs_background": "light"
     },
     "output_type": "display_data"
    }
   ],
   "source": [
    "# show missing values and how they are distributed in the dataset \n",
    "import missingno as msno\n",
    "msno.matrix(data, color=(0.4, 0.3, 0.5), figsize=(10,6),fontsize=(10))"
   ]
  },
  {
   "cell_type": "markdown",
   "id": "2937dac2",
   "metadata": {
    "ExecuteTime": {
     "end_time": "2022-05-25T15:52:01.700120Z",
     "start_time": "2022-05-25T15:52:01.693086Z"
    }
   },
   "source": [
    "Some observations share missing values on multiple columns but others don't."
   ]
  },
  {
   "cell_type": "markdown",
   "id": "38cf519a",
   "metadata": {},
   "source": [
    "#### Missing Values Strategy \n",
    "\n",
    "+ To fill in the missing data, we believe that a good strategy would be to group the data by country and fill in the missing value with the mean of that country (we have data for 16 years for each country). In this way we preserve the characteristics of each country without mixing data from countries that are very different from each other. \n",
    "\n",
    "\n",
    "+ The data is for consecutive years, so filling them in with the mean by country may be a good approximation as we understand that in general the changes in these time periods will generally not be very large. \n",
    "\n",
    "\n",
    "+ If after applying this operation there are still missing data, it means that for that particular country we do not have that data for any year, so the most correct thing to do in these cases would be to eliminate the data for that country. \n",
    "\n",
    "\n",
    "+ With this strategy, it is possible that the number of countries for the study will be significantly reduced, but the idea is that our model will contain the most realistic data possible, even if we reduce the number of countries participating in the study. \n",
    "\n",
    "\n",
    "+ In a more detailed study we could look for the missing data by searching for the information in other sources, but for the purpose of this exercise we will keep it simple. "
   ]
  },
  {
   "cell_type": "markdown",
   "id": "96e0ae5b",
   "metadata": {},
   "source": [
    "Firstly, we´ll check the number of observations per country: "
   ]
  },
  {
   "cell_type": "code",
   "execution_count": 11,
   "id": "cb83fc61",
   "metadata": {
    "ExecuteTime": {
     "end_time": "2022-05-27T16:10:57.213952Z",
     "start_time": "2022-05-27T16:10:57.183628Z"
    }
   },
   "outputs": [
    {
     "data": {
      "text/html": [
       "<div>\n",
       "<style scoped>\n",
       "    .dataframe tbody tr th:only-of-type {\n",
       "        vertical-align: middle;\n",
       "    }\n",
       "\n",
       "    .dataframe tbody tr th {\n",
       "        vertical-align: top;\n",
       "    }\n",
       "\n",
       "    .dataframe thead th {\n",
       "        text-align: right;\n",
       "    }\n",
       "</style>\n",
       "<table border=\"1\" class=\"dataframe\">\n",
       "  <thead>\n",
       "    <tr style=\"text-align: right;\">\n",
       "      <th></th>\n",
       "      <th>Counts</th>\n",
       "    </tr>\n",
       "    <tr>\n",
       "      <th>Countries</th>\n",
       "      <th></th>\n",
       "    </tr>\n",
       "  </thead>\n",
       "  <tbody>\n",
       "    <tr>\n",
       "      <th>Afghanistan</th>\n",
       "      <td>16</td>\n",
       "    </tr>\n",
       "    <tr>\n",
       "      <th>Peru</th>\n",
       "      <td>16</td>\n",
       "    </tr>\n",
       "    <tr>\n",
       "      <th>Nicaragua</th>\n",
       "      <td>16</td>\n",
       "    </tr>\n",
       "    <tr>\n",
       "      <th>Niger</th>\n",
       "      <td>16</td>\n",
       "    </tr>\n",
       "    <tr>\n",
       "      <th>Nigeria</th>\n",
       "      <td>16</td>\n",
       "    </tr>\n",
       "    <tr>\n",
       "      <th>...</th>\n",
       "      <td>...</td>\n",
       "    </tr>\n",
       "    <tr>\n",
       "      <th>Niue</th>\n",
       "      <td>1</td>\n",
       "    </tr>\n",
       "    <tr>\n",
       "      <th>San Marino</th>\n",
       "      <td>1</td>\n",
       "    </tr>\n",
       "    <tr>\n",
       "      <th>Nauru</th>\n",
       "      <td>1</td>\n",
       "    </tr>\n",
       "    <tr>\n",
       "      <th>Saint Kitts and Nevis</th>\n",
       "      <td>1</td>\n",
       "    </tr>\n",
       "    <tr>\n",
       "      <th>Dominica</th>\n",
       "      <td>1</td>\n",
       "    </tr>\n",
       "  </tbody>\n",
       "</table>\n",
       "<p>193 rows × 1 columns</p>\n",
       "</div>"
      ],
      "text/plain": [
       "                       Counts\n",
       "Countries                    \n",
       "Afghanistan                16\n",
       "Peru                       16\n",
       "Nicaragua                  16\n",
       "Niger                      16\n",
       "Nigeria                    16\n",
       "...                       ...\n",
       "Niue                        1\n",
       "San Marino                  1\n",
       "Nauru                       1\n",
       "Saint Kitts and Nevis       1\n",
       "Dominica                    1\n",
       "\n",
       "[193 rows x 1 columns]"
      ]
     },
     "execution_count": 11,
     "metadata": {},
     "output_type": "execute_result"
    }
   ],
   "source": [
    "country_counts = data.Country.value_counts().rename_axis('Countries').to_frame('Counts')\n",
    "country_counts"
   ]
  },
  {
   "cell_type": "code",
   "execution_count": 12,
   "id": "9a0dee73",
   "metadata": {
    "ExecuteTime": {
     "end_time": "2022-05-27T16:10:57.230033Z",
     "start_time": "2022-05-27T16:10:57.214868Z"
    }
   },
   "outputs": [
    {
     "data": {
      "text/plain": [
       "array([16,  1], dtype=int64)"
      ]
     },
     "execution_count": 12,
     "metadata": {},
     "output_type": "execute_result"
    }
   ],
   "source": [
    "country_counts.Counts.unique()"
   ]
  },
  {
   "cell_type": "code",
   "execution_count": 13,
   "id": "2ab047bf",
   "metadata": {
    "ExecuteTime": {
     "end_time": "2022-05-27T16:10:57.245602Z",
     "start_time": "2022-05-27T16:10:57.230949Z"
    }
   },
   "outputs": [
    {
     "data": {
      "text/plain": [
       "16    183\n",
       "1      10\n",
       "Name: Counts, dtype: int64"
      ]
     },
     "execution_count": 13,
     "metadata": {},
     "output_type": "execute_result"
    }
   ],
   "source": [
    "country_counts.Counts.value_counts()"
   ]
  },
  {
   "cell_type": "markdown",
   "id": "6d10ab9c",
   "metadata": {},
   "source": [
    "In our dataset we note that for 183 countries we have data for 16 years but we also have 10 countries where we only have data for one year. Let's review these countries for which we only have one observation: "
   ]
  },
  {
   "cell_type": "code",
   "execution_count": 14,
   "id": "73873a80",
   "metadata": {
    "ExecuteTime": {
     "end_time": "2022-05-27T16:10:57.277086Z",
     "start_time": "2022-05-27T16:10:57.246519Z"
    }
   },
   "outputs": [
    {
     "data": {
      "text/html": [
       "<div>\n",
       "<style scoped>\n",
       "    .dataframe tbody tr th:only-of-type {\n",
       "        vertical-align: middle;\n",
       "    }\n",
       "\n",
       "    .dataframe tbody tr th {\n",
       "        vertical-align: top;\n",
       "    }\n",
       "\n",
       "    .dataframe thead th {\n",
       "        text-align: right;\n",
       "    }\n",
       "</style>\n",
       "<table border=\"1\" class=\"dataframe\">\n",
       "  <thead>\n",
       "    <tr style=\"text-align: right;\">\n",
       "      <th></th>\n",
       "      <th>Country</th>\n",
       "      <th>Year</th>\n",
       "      <th>Status</th>\n",
       "      <th>Life expectancy</th>\n",
       "      <th>Adult Mortality</th>\n",
       "      <th>infant deaths</th>\n",
       "      <th>Alcohol</th>\n",
       "      <th>percentage expenditure</th>\n",
       "      <th>Hepatitis B</th>\n",
       "      <th>Measles</th>\n",
       "      <th>BMI</th>\n",
       "      <th>under-five deaths</th>\n",
       "      <th>Polio</th>\n",
       "      <th>Total expenditure</th>\n",
       "      <th>Diphtheria</th>\n",
       "      <th>HIV/AIDS</th>\n",
       "      <th>GDP</th>\n",
       "      <th>Population</th>\n",
       "      <th>thinness  1-19 years</th>\n",
       "      <th>thinness 5-9 years</th>\n",
       "      <th>Income composition of resources</th>\n",
       "      <th>Schooling</th>\n",
       "    </tr>\n",
       "  </thead>\n",
       "  <tbody>\n",
       "    <tr>\n",
       "      <th>624</th>\n",
       "      <td>Cook Islands</td>\n",
       "      <td>2013</td>\n",
       "      <td>Developing</td>\n",
       "      <td>NaN</td>\n",
       "      <td>NaN</td>\n",
       "      <td>0</td>\n",
       "      <td>0.01</td>\n",
       "      <td>0.000000</td>\n",
       "      <td>98.0</td>\n",
       "      <td>0</td>\n",
       "      <td>82.8</td>\n",
       "      <td>0</td>\n",
       "      <td>98.0</td>\n",
       "      <td>3.58</td>\n",
       "      <td>98.0</td>\n",
       "      <td>0.1</td>\n",
       "      <td>NaN</td>\n",
       "      <td>NaN</td>\n",
       "      <td>0.1</td>\n",
       "      <td>0.1</td>\n",
       "      <td>NaN</td>\n",
       "      <td>NaN</td>\n",
       "    </tr>\n",
       "    <tr>\n",
       "      <th>769</th>\n",
       "      <td>Dominica</td>\n",
       "      <td>2013</td>\n",
       "      <td>Developing</td>\n",
       "      <td>NaN</td>\n",
       "      <td>NaN</td>\n",
       "      <td>0</td>\n",
       "      <td>0.01</td>\n",
       "      <td>11.419555</td>\n",
       "      <td>96.0</td>\n",
       "      <td>0</td>\n",
       "      <td>58.4</td>\n",
       "      <td>0</td>\n",
       "      <td>96.0</td>\n",
       "      <td>5.58</td>\n",
       "      <td>96.0</td>\n",
       "      <td>0.1</td>\n",
       "      <td>722.756650</td>\n",
       "      <td>NaN</td>\n",
       "      <td>2.7</td>\n",
       "      <td>2.6</td>\n",
       "      <td>0.721</td>\n",
       "      <td>12.7</td>\n",
       "    </tr>\n",
       "    <tr>\n",
       "      <th>1650</th>\n",
       "      <td>Marshall Islands</td>\n",
       "      <td>2013</td>\n",
       "      <td>Developing</td>\n",
       "      <td>NaN</td>\n",
       "      <td>NaN</td>\n",
       "      <td>0</td>\n",
       "      <td>0.01</td>\n",
       "      <td>871.878317</td>\n",
       "      <td>8.0</td>\n",
       "      <td>0</td>\n",
       "      <td>81.6</td>\n",
       "      <td>0</td>\n",
       "      <td>79.0</td>\n",
       "      <td>17.24</td>\n",
       "      <td>79.0</td>\n",
       "      <td>0.1</td>\n",
       "      <td>3617.752354</td>\n",
       "      <td>NaN</td>\n",
       "      <td>0.1</td>\n",
       "      <td>0.1</td>\n",
       "      <td>NaN</td>\n",
       "      <td>0.0</td>\n",
       "    </tr>\n",
       "    <tr>\n",
       "      <th>1715</th>\n",
       "      <td>Monaco</td>\n",
       "      <td>2013</td>\n",
       "      <td>Developing</td>\n",
       "      <td>NaN</td>\n",
       "      <td>NaN</td>\n",
       "      <td>0</td>\n",
       "      <td>0.01</td>\n",
       "      <td>0.000000</td>\n",
       "      <td>99.0</td>\n",
       "      <td>0</td>\n",
       "      <td>NaN</td>\n",
       "      <td>0</td>\n",
       "      <td>99.0</td>\n",
       "      <td>4.30</td>\n",
       "      <td>99.0</td>\n",
       "      <td>0.1</td>\n",
       "      <td>NaN</td>\n",
       "      <td>NaN</td>\n",
       "      <td>NaN</td>\n",
       "      <td>NaN</td>\n",
       "      <td>NaN</td>\n",
       "      <td>NaN</td>\n",
       "    </tr>\n",
       "    <tr>\n",
       "      <th>1812</th>\n",
       "      <td>Nauru</td>\n",
       "      <td>2013</td>\n",
       "      <td>Developing</td>\n",
       "      <td>NaN</td>\n",
       "      <td>NaN</td>\n",
       "      <td>0</td>\n",
       "      <td>0.01</td>\n",
       "      <td>15.606596</td>\n",
       "      <td>87.0</td>\n",
       "      <td>0</td>\n",
       "      <td>87.3</td>\n",
       "      <td>0</td>\n",
       "      <td>87.0</td>\n",
       "      <td>4.65</td>\n",
       "      <td>87.0</td>\n",
       "      <td>0.1</td>\n",
       "      <td>136.183210</td>\n",
       "      <td>NaN</td>\n",
       "      <td>0.1</td>\n",
       "      <td>0.1</td>\n",
       "      <td>NaN</td>\n",
       "      <td>9.6</td>\n",
       "    </tr>\n",
       "    <tr>\n",
       "      <th>1909</th>\n",
       "      <td>Niue</td>\n",
       "      <td>2013</td>\n",
       "      <td>Developing</td>\n",
       "      <td>NaN</td>\n",
       "      <td>NaN</td>\n",
       "      <td>0</td>\n",
       "      <td>0.01</td>\n",
       "      <td>0.000000</td>\n",
       "      <td>99.0</td>\n",
       "      <td>0</td>\n",
       "      <td>77.3</td>\n",
       "      <td>0</td>\n",
       "      <td>99.0</td>\n",
       "      <td>7.20</td>\n",
       "      <td>99.0</td>\n",
       "      <td>0.1</td>\n",
       "      <td>NaN</td>\n",
       "      <td>NaN</td>\n",
       "      <td>0.1</td>\n",
       "      <td>0.1</td>\n",
       "      <td>NaN</td>\n",
       "      <td>NaN</td>\n",
       "    </tr>\n",
       "    <tr>\n",
       "      <th>1958</th>\n",
       "      <td>Palau</td>\n",
       "      <td>2013</td>\n",
       "      <td>Developing</td>\n",
       "      <td>NaN</td>\n",
       "      <td>NaN</td>\n",
       "      <td>0</td>\n",
       "      <td>NaN</td>\n",
       "      <td>344.690631</td>\n",
       "      <td>99.0</td>\n",
       "      <td>0</td>\n",
       "      <td>83.3</td>\n",
       "      <td>0</td>\n",
       "      <td>99.0</td>\n",
       "      <td>9.27</td>\n",
       "      <td>99.0</td>\n",
       "      <td>0.1</td>\n",
       "      <td>1932.122370</td>\n",
       "      <td>292.0</td>\n",
       "      <td>0.1</td>\n",
       "      <td>0.1</td>\n",
       "      <td>0.779</td>\n",
       "      <td>14.2</td>\n",
       "    </tr>\n",
       "    <tr>\n",
       "      <th>2167</th>\n",
       "      <td>Saint Kitts and Nevis</td>\n",
       "      <td>2013</td>\n",
       "      <td>Developing</td>\n",
       "      <td>NaN</td>\n",
       "      <td>NaN</td>\n",
       "      <td>0</td>\n",
       "      <td>8.54</td>\n",
       "      <td>0.000000</td>\n",
       "      <td>97.0</td>\n",
       "      <td>0</td>\n",
       "      <td>5.2</td>\n",
       "      <td>0</td>\n",
       "      <td>96.0</td>\n",
       "      <td>6.14</td>\n",
       "      <td>96.0</td>\n",
       "      <td>0.1</td>\n",
       "      <td>NaN</td>\n",
       "      <td>NaN</td>\n",
       "      <td>3.7</td>\n",
       "      <td>3.6</td>\n",
       "      <td>0.749</td>\n",
       "      <td>13.4</td>\n",
       "    </tr>\n",
       "    <tr>\n",
       "      <th>2216</th>\n",
       "      <td>San Marino</td>\n",
       "      <td>2013</td>\n",
       "      <td>Developing</td>\n",
       "      <td>NaN</td>\n",
       "      <td>NaN</td>\n",
       "      <td>0</td>\n",
       "      <td>0.01</td>\n",
       "      <td>0.000000</td>\n",
       "      <td>69.0</td>\n",
       "      <td>0</td>\n",
       "      <td>NaN</td>\n",
       "      <td>0</td>\n",
       "      <td>69.0</td>\n",
       "      <td>6.50</td>\n",
       "      <td>69.0</td>\n",
       "      <td>0.1</td>\n",
       "      <td>NaN</td>\n",
       "      <td>NaN</td>\n",
       "      <td>NaN</td>\n",
       "      <td>NaN</td>\n",
       "      <td>NaN</td>\n",
       "      <td>15.1</td>\n",
       "    </tr>\n",
       "    <tr>\n",
       "      <th>2713</th>\n",
       "      <td>Tuvalu</td>\n",
       "      <td>2013</td>\n",
       "      <td>Developing</td>\n",
       "      <td>NaN</td>\n",
       "      <td>NaN</td>\n",
       "      <td>0</td>\n",
       "      <td>0.01</td>\n",
       "      <td>78.281203</td>\n",
       "      <td>9.0</td>\n",
       "      <td>0</td>\n",
       "      <td>79.3</td>\n",
       "      <td>0</td>\n",
       "      <td>9.0</td>\n",
       "      <td>16.61</td>\n",
       "      <td>9.0</td>\n",
       "      <td>0.1</td>\n",
       "      <td>3542.135890</td>\n",
       "      <td>1819.0</td>\n",
       "      <td>0.2</td>\n",
       "      <td>0.1</td>\n",
       "      <td>NaN</td>\n",
       "      <td>0.0</td>\n",
       "    </tr>\n",
       "  </tbody>\n",
       "</table>\n",
       "</div>"
      ],
      "text/plain": [
       "                    Country  Year      Status  Life expectancy   \\\n",
       "624            Cook Islands  2013  Developing               NaN   \n",
       "769                Dominica  2013  Developing               NaN   \n",
       "1650       Marshall Islands  2013  Developing               NaN   \n",
       "1715                 Monaco  2013  Developing               NaN   \n",
       "1812                  Nauru  2013  Developing               NaN   \n",
       "1909                   Niue  2013  Developing               NaN   \n",
       "1958                  Palau  2013  Developing               NaN   \n",
       "2167  Saint Kitts and Nevis  2013  Developing               NaN   \n",
       "2216             San Marino  2013  Developing               NaN   \n",
       "2713                 Tuvalu  2013  Developing               NaN   \n",
       "\n",
       "      Adult Mortality  infant deaths  Alcohol  percentage expenditure  \\\n",
       "624               NaN              0     0.01                0.000000   \n",
       "769               NaN              0     0.01               11.419555   \n",
       "1650              NaN              0     0.01              871.878317   \n",
       "1715              NaN              0     0.01                0.000000   \n",
       "1812              NaN              0     0.01               15.606596   \n",
       "1909              NaN              0     0.01                0.000000   \n",
       "1958              NaN              0      NaN              344.690631   \n",
       "2167              NaN              0     8.54                0.000000   \n",
       "2216              NaN              0     0.01                0.000000   \n",
       "2713              NaN              0     0.01               78.281203   \n",
       "\n",
       "      Hepatitis B  Measles    BMI   under-five deaths   Polio  \\\n",
       "624          98.0         0   82.8                   0   98.0   \n",
       "769          96.0         0   58.4                   0   96.0   \n",
       "1650          8.0         0   81.6                   0   79.0   \n",
       "1715         99.0         0    NaN                   0   99.0   \n",
       "1812         87.0         0   87.3                   0   87.0   \n",
       "1909         99.0         0   77.3                   0   99.0   \n",
       "1958         99.0         0   83.3                   0   99.0   \n",
       "2167         97.0         0    5.2                   0   96.0   \n",
       "2216         69.0         0    NaN                   0   69.0   \n",
       "2713          9.0         0   79.3                   0    9.0   \n",
       "\n",
       "      Total expenditure  Diphtheria    HIV/AIDS          GDP  Population  \\\n",
       "624                3.58         98.0        0.1          NaN         NaN   \n",
       "769                5.58         96.0        0.1   722.756650         NaN   \n",
       "1650              17.24         79.0        0.1  3617.752354         NaN   \n",
       "1715               4.30         99.0        0.1          NaN         NaN   \n",
       "1812               4.65         87.0        0.1   136.183210         NaN   \n",
       "1909               7.20         99.0        0.1          NaN         NaN   \n",
       "1958               9.27         99.0        0.1  1932.122370       292.0   \n",
       "2167               6.14         96.0        0.1          NaN         NaN   \n",
       "2216               6.50         69.0        0.1          NaN         NaN   \n",
       "2713              16.61          9.0        0.1  3542.135890      1819.0   \n",
       "\n",
       "       thinness  1-19 years   thinness 5-9 years  \\\n",
       "624                     0.1                  0.1   \n",
       "769                     2.7                  2.6   \n",
       "1650                    0.1                  0.1   \n",
       "1715                    NaN                  NaN   \n",
       "1812                    0.1                  0.1   \n",
       "1909                    0.1                  0.1   \n",
       "1958                    0.1                  0.1   \n",
       "2167                    3.7                  3.6   \n",
       "2216                    NaN                  NaN   \n",
       "2713                    0.2                  0.1   \n",
       "\n",
       "      Income composition of resources  Schooling  \n",
       "624                               NaN        NaN  \n",
       "769                             0.721       12.7  \n",
       "1650                              NaN        0.0  \n",
       "1715                              NaN        NaN  \n",
       "1812                              NaN        9.6  \n",
       "1909                              NaN        NaN  \n",
       "1958                            0.779       14.2  \n",
       "2167                            0.749       13.4  \n",
       "2216                              NaN       15.1  \n",
       "2713                              NaN        0.0  "
      ]
     },
     "execution_count": 14,
     "metadata": {},
     "output_type": "execute_result"
    }
   ],
   "source": [
    "data.groupby('Country').filter(lambda x: len(x) == 1)"
   ]
  },
  {
   "cell_type": "markdown",
   "id": "986ff74c",
   "metadata": {},
   "source": [
    "In these 10 countries where we only have observations for one year we also see that we have several columns with missing values. As it would not be appropriate to fill in these data following the statistics of other countries and we do not have the country's own data, we will eliminate these observations and we will be left only with the countries that have data for 16 years. "
   ]
  },
  {
   "cell_type": "code",
   "execution_count": 15,
   "id": "b472d06d",
   "metadata": {
    "ExecuteTime": {
     "end_time": "2022-05-27T16:10:57.308773Z",
     "start_time": "2022-05-27T16:10:57.278085Z"
    }
   },
   "outputs": [
    {
     "data": {
      "text/plain": [
       "183"
      ]
     },
     "execution_count": 15,
     "metadata": {},
     "output_type": "execute_result"
    }
   ],
   "source": [
    "# we will only keep countries that have 16 years of data\n",
    "data = data[data.groupby('Country').Country.transform(len) == 16]\n",
    "# check how many countries we have now \n",
    "len(data.Country.unique())"
   ]
  },
  {
   "cell_type": "code",
   "execution_count": 16,
   "id": "6286fd54",
   "metadata": {
    "ExecuteTime": {
     "end_time": "2022-05-27T16:10:57.324162Z",
     "start_time": "2022-05-27T16:10:57.310949Z"
    }
   },
   "outputs": [
    {
     "data": {
      "text/plain": [
       "Country                              0\n",
       "Year                                 0\n",
       "Status                               0\n",
       "Life expectancy                      0\n",
       "Adult Mortality                      0\n",
       "infant deaths                        0\n",
       "Alcohol                            193\n",
       "percentage expenditure               0\n",
       "Hepatitis B                        553\n",
       "Measles                              0\n",
       " BMI                                32\n",
       "under-five deaths                    0\n",
       "Polio                               19\n",
       "Total expenditure                  226\n",
       "Diphtheria                          19\n",
       " HIV/AIDS                            0\n",
       "GDP                                443\n",
       "Population                         644\n",
       " thinness  1-19 years               32\n",
       " thinness 5-9 years                 32\n",
       "Income composition of resources    160\n",
       "Schooling                          160\n",
       "dtype: int64"
      ]
     },
     "execution_count": 16,
     "metadata": {},
     "output_type": "execute_result"
    }
   ],
   "source": [
    "data.isnull().sum()"
   ]
  },
  {
   "cell_type": "markdown",
   "id": "9d8ded7f",
   "metadata": {},
   "source": [
    "Now let's treat missing values one by one: "
   ]
  },
  {
   "cell_type": "markdown",
   "id": "f8276997",
   "metadata": {},
   "source": [
    "+ #### Alcohol Column"
   ]
  },
  {
   "cell_type": "code",
   "execution_count": 17,
   "id": "4dbee5d2",
   "metadata": {
    "ExecuteTime": {
     "end_time": "2022-05-27T16:10:57.339385Z",
     "start_time": "2022-05-27T16:10:57.325094Z"
    }
   },
   "outputs": [
    {
     "data": {
      "text/plain": [
       "193"
      ]
     },
     "execution_count": 17,
     "metadata": {},
     "output_type": "execute_result"
    }
   ],
   "source": [
    "# check nan values for Alcohol column \n",
    "data['Alcohol'].isnull().sum()"
   ]
  },
  {
   "cell_type": "markdown",
   "id": "06131879",
   "metadata": {},
   "source": [
    "We will fill nan with the mean of the value grouping for each country: "
   ]
  },
  {
   "cell_type": "code",
   "execution_count": 18,
   "id": "0be68e18",
   "metadata": {
    "ExecuteTime": {
     "end_time": "2022-05-27T16:10:57.354851Z",
     "start_time": "2022-05-27T16:10:57.340449Z"
    }
   },
   "outputs": [
    {
     "data": {
      "text/plain": [
       "16"
      ]
     },
     "execution_count": 18,
     "metadata": {},
     "output_type": "execute_result"
    }
   ],
   "source": [
    "data['Alcohol'] = data['Alcohol'].fillna(data.groupby('Country')['Alcohol'].transform('mean'))\n",
    "data['Alcohol'].isnull().sum()"
   ]
  },
  {
   "cell_type": "markdown",
   "id": "ab8dd034",
   "metadata": {
    "ExecuteTime": {
     "end_time": "2022-05-25T16:29:12.160228Z",
     "start_time": "2022-05-25T16:29:12.154229Z"
    }
   },
   "source": [
    "We still have 16 missing values after imputing nan values, let´s look at them: "
   ]
  },
  {
   "cell_type": "code",
   "execution_count": 19,
   "id": "b1655f0f",
   "metadata": {
    "ExecuteTime": {
     "end_time": "2022-05-27T16:10:57.385796Z",
     "start_time": "2022-05-27T16:10:57.355834Z"
    }
   },
   "outputs": [
    {
     "data": {
      "text/html": [
       "<div>\n",
       "<style scoped>\n",
       "    .dataframe tbody tr th:only-of-type {\n",
       "        vertical-align: middle;\n",
       "    }\n",
       "\n",
       "    .dataframe tbody tr th {\n",
       "        vertical-align: top;\n",
       "    }\n",
       "\n",
       "    .dataframe thead th {\n",
       "        text-align: right;\n",
       "    }\n",
       "</style>\n",
       "<table border=\"1\" class=\"dataframe\">\n",
       "  <thead>\n",
       "    <tr style=\"text-align: right;\">\n",
       "      <th></th>\n",
       "      <th>Country</th>\n",
       "      <th>Year</th>\n",
       "      <th>Status</th>\n",
       "      <th>Life expectancy</th>\n",
       "      <th>Adult Mortality</th>\n",
       "      <th>infant deaths</th>\n",
       "      <th>Alcohol</th>\n",
       "      <th>percentage expenditure</th>\n",
       "      <th>Hepatitis B</th>\n",
       "      <th>Measles</th>\n",
       "      <th>BMI</th>\n",
       "      <th>under-five deaths</th>\n",
       "      <th>Polio</th>\n",
       "      <th>Total expenditure</th>\n",
       "      <th>Diphtheria</th>\n",
       "      <th>HIV/AIDS</th>\n",
       "      <th>GDP</th>\n",
       "      <th>Population</th>\n",
       "      <th>thinness  1-19 years</th>\n",
       "      <th>thinness 5-9 years</th>\n",
       "      <th>Income composition of resources</th>\n",
       "      <th>Schooling</th>\n",
       "    </tr>\n",
       "  </thead>\n",
       "  <tbody>\n",
       "    <tr>\n",
       "      <th>2409</th>\n",
       "      <td>South Sudan</td>\n",
       "      <td>2015</td>\n",
       "      <td>Developing</td>\n",
       "      <td>57.3</td>\n",
       "      <td>332.0</td>\n",
       "      <td>26</td>\n",
       "      <td>NaN</td>\n",
       "      <td>0.000000</td>\n",
       "      <td>31.0</td>\n",
       "      <td>878</td>\n",
       "      <td>NaN</td>\n",
       "      <td>39</td>\n",
       "      <td>41.0</td>\n",
       "      <td>NaN</td>\n",
       "      <td>31.0</td>\n",
       "      <td>3.4</td>\n",
       "      <td>758.725782</td>\n",
       "      <td>11882136.0</td>\n",
       "      <td>NaN</td>\n",
       "      <td>NaN</td>\n",
       "      <td>0.421</td>\n",
       "      <td>4.9</td>\n",
       "    </tr>\n",
       "    <tr>\n",
       "      <th>2410</th>\n",
       "      <td>South Sudan</td>\n",
       "      <td>2014</td>\n",
       "      <td>Developing</td>\n",
       "      <td>56.6</td>\n",
       "      <td>343.0</td>\n",
       "      <td>26</td>\n",
       "      <td>NaN</td>\n",
       "      <td>46.074469</td>\n",
       "      <td>NaN</td>\n",
       "      <td>441</td>\n",
       "      <td>NaN</td>\n",
       "      <td>39</td>\n",
       "      <td>44.0</td>\n",
       "      <td>2.74</td>\n",
       "      <td>39.0</td>\n",
       "      <td>3.5</td>\n",
       "      <td>1151.861715</td>\n",
       "      <td>1153971.0</td>\n",
       "      <td>NaN</td>\n",
       "      <td>NaN</td>\n",
       "      <td>0.421</td>\n",
       "      <td>4.9</td>\n",
       "    </tr>\n",
       "    <tr>\n",
       "      <th>2411</th>\n",
       "      <td>South Sudan</td>\n",
       "      <td>2013</td>\n",
       "      <td>Developing</td>\n",
       "      <td>56.4</td>\n",
       "      <td>345.0</td>\n",
       "      <td>26</td>\n",
       "      <td>NaN</td>\n",
       "      <td>47.444530</td>\n",
       "      <td>NaN</td>\n",
       "      <td>525</td>\n",
       "      <td>NaN</td>\n",
       "      <td>40</td>\n",
       "      <td>5.0</td>\n",
       "      <td>2.62</td>\n",
       "      <td>45.0</td>\n",
       "      <td>3.6</td>\n",
       "      <td>1186.113250</td>\n",
       "      <td>1117749.0</td>\n",
       "      <td>NaN</td>\n",
       "      <td>NaN</td>\n",
       "      <td>0.417</td>\n",
       "      <td>4.9</td>\n",
       "    </tr>\n",
       "    <tr>\n",
       "      <th>2412</th>\n",
       "      <td>South Sudan</td>\n",
       "      <td>2012</td>\n",
       "      <td>Developing</td>\n",
       "      <td>56.0</td>\n",
       "      <td>347.0</td>\n",
       "      <td>26</td>\n",
       "      <td>NaN</td>\n",
       "      <td>38.338232</td>\n",
       "      <td>NaN</td>\n",
       "      <td>1952</td>\n",
       "      <td>NaN</td>\n",
       "      <td>40</td>\n",
       "      <td>64.0</td>\n",
       "      <td>2.77</td>\n",
       "      <td>59.0</td>\n",
       "      <td>3.8</td>\n",
       "      <td>958.455810</td>\n",
       "      <td>1818258.0</td>\n",
       "      <td>NaN</td>\n",
       "      <td>NaN</td>\n",
       "      <td>0.419</td>\n",
       "      <td>4.9</td>\n",
       "    </tr>\n",
       "    <tr>\n",
       "      <th>2413</th>\n",
       "      <td>South Sudan</td>\n",
       "      <td>2011</td>\n",
       "      <td>Developing</td>\n",
       "      <td>55.4</td>\n",
       "      <td>355.0</td>\n",
       "      <td>27</td>\n",
       "      <td>NaN</td>\n",
       "      <td>0.000000</td>\n",
       "      <td>NaN</td>\n",
       "      <td>1256</td>\n",
       "      <td>NaN</td>\n",
       "      <td>41</td>\n",
       "      <td>66.0</td>\n",
       "      <td>NaN</td>\n",
       "      <td>61.0</td>\n",
       "      <td>3.9</td>\n",
       "      <td>176.971300</td>\n",
       "      <td>1448857.0</td>\n",
       "      <td>NaN</td>\n",
       "      <td>NaN</td>\n",
       "      <td>0.429</td>\n",
       "      <td>4.9</td>\n",
       "    </tr>\n",
       "    <tr>\n",
       "      <th>2414</th>\n",
       "      <td>South Sudan</td>\n",
       "      <td>2010</td>\n",
       "      <td>Developing</td>\n",
       "      <td>55.0</td>\n",
       "      <td>359.0</td>\n",
       "      <td>27</td>\n",
       "      <td>NaN</td>\n",
       "      <td>0.000000</td>\n",
       "      <td>NaN</td>\n",
       "      <td>0</td>\n",
       "      <td>NaN</td>\n",
       "      <td>41</td>\n",
       "      <td>NaN</td>\n",
       "      <td>NaN</td>\n",
       "      <td>NaN</td>\n",
       "      <td>4.0</td>\n",
       "      <td>1562.239346</td>\n",
       "      <td>167192.0</td>\n",
       "      <td>NaN</td>\n",
       "      <td>NaN</td>\n",
       "      <td>0.000</td>\n",
       "      <td>0.0</td>\n",
       "    </tr>\n",
       "    <tr>\n",
       "      <th>2415</th>\n",
       "      <td>South Sudan</td>\n",
       "      <td>2009</td>\n",
       "      <td>Developing</td>\n",
       "      <td>54.3</td>\n",
       "      <td>369.0</td>\n",
       "      <td>27</td>\n",
       "      <td>NaN</td>\n",
       "      <td>0.000000</td>\n",
       "      <td>NaN</td>\n",
       "      <td>0</td>\n",
       "      <td>NaN</td>\n",
       "      <td>42</td>\n",
       "      <td>NaN</td>\n",
       "      <td>NaN</td>\n",
       "      <td>NaN</td>\n",
       "      <td>4.2</td>\n",
       "      <td>1264.789980</td>\n",
       "      <td>967667.0</td>\n",
       "      <td>NaN</td>\n",
       "      <td>NaN</td>\n",
       "      <td>0.000</td>\n",
       "      <td>0.0</td>\n",
       "    </tr>\n",
       "    <tr>\n",
       "      <th>2416</th>\n",
       "      <td>South Sudan</td>\n",
       "      <td>2008</td>\n",
       "      <td>Developing</td>\n",
       "      <td>53.6</td>\n",
       "      <td>377.0</td>\n",
       "      <td>27</td>\n",
       "      <td>NaN</td>\n",
       "      <td>0.000000</td>\n",
       "      <td>NaN</td>\n",
       "      <td>0</td>\n",
       "      <td>NaN</td>\n",
       "      <td>42</td>\n",
       "      <td>NaN</td>\n",
       "      <td>NaN</td>\n",
       "      <td>NaN</td>\n",
       "      <td>4.2</td>\n",
       "      <td>1678.711862</td>\n",
       "      <td>9263136.0</td>\n",
       "      <td>NaN</td>\n",
       "      <td>NaN</td>\n",
       "      <td>0.000</td>\n",
       "      <td>0.0</td>\n",
       "    </tr>\n",
       "    <tr>\n",
       "      <th>2417</th>\n",
       "      <td>South Sudan</td>\n",
       "      <td>2007</td>\n",
       "      <td>Developing</td>\n",
       "      <td>53.1</td>\n",
       "      <td>381.0</td>\n",
       "      <td>27</td>\n",
       "      <td>NaN</td>\n",
       "      <td>0.000000</td>\n",
       "      <td>NaN</td>\n",
       "      <td>0</td>\n",
       "      <td>NaN</td>\n",
       "      <td>43</td>\n",
       "      <td>NaN</td>\n",
       "      <td>NaN</td>\n",
       "      <td>NaN</td>\n",
       "      <td>4.2</td>\n",
       "      <td>NaN</td>\n",
       "      <td>88568.0</td>\n",
       "      <td>NaN</td>\n",
       "      <td>NaN</td>\n",
       "      <td>0.000</td>\n",
       "      <td>0.0</td>\n",
       "    </tr>\n",
       "    <tr>\n",
       "      <th>2418</th>\n",
       "      <td>South Sudan</td>\n",
       "      <td>2006</td>\n",
       "      <td>Developing</td>\n",
       "      <td>52.5</td>\n",
       "      <td>383.0</td>\n",
       "      <td>28</td>\n",
       "      <td>NaN</td>\n",
       "      <td>0.000000</td>\n",
       "      <td>NaN</td>\n",
       "      <td>0</td>\n",
       "      <td>NaN</td>\n",
       "      <td>43</td>\n",
       "      <td>NaN</td>\n",
       "      <td>NaN</td>\n",
       "      <td>NaN</td>\n",
       "      <td>4.1</td>\n",
       "      <td>NaN</td>\n",
       "      <td>8468152.0</td>\n",
       "      <td>NaN</td>\n",
       "      <td>NaN</td>\n",
       "      <td>0.000</td>\n",
       "      <td>0.0</td>\n",
       "    </tr>\n",
       "    <tr>\n",
       "      <th>2419</th>\n",
       "      <td>South Sudan</td>\n",
       "      <td>2005</td>\n",
       "      <td>Developing</td>\n",
       "      <td>51.9</td>\n",
       "      <td>383.0</td>\n",
       "      <td>28</td>\n",
       "      <td>NaN</td>\n",
       "      <td>0.000000</td>\n",
       "      <td>NaN</td>\n",
       "      <td>0</td>\n",
       "      <td>NaN</td>\n",
       "      <td>44</td>\n",
       "      <td>NaN</td>\n",
       "      <td>NaN</td>\n",
       "      <td>NaN</td>\n",
       "      <td>3.9</td>\n",
       "      <td>NaN</td>\n",
       "      <td>818877.0</td>\n",
       "      <td>NaN</td>\n",
       "      <td>NaN</td>\n",
       "      <td>0.000</td>\n",
       "      <td>0.0</td>\n",
       "    </tr>\n",
       "    <tr>\n",
       "      <th>2420</th>\n",
       "      <td>South Sudan</td>\n",
       "      <td>2004</td>\n",
       "      <td>Developing</td>\n",
       "      <td>51.4</td>\n",
       "      <td>383.0</td>\n",
       "      <td>29</td>\n",
       "      <td>NaN</td>\n",
       "      <td>0.000000</td>\n",
       "      <td>NaN</td>\n",
       "      <td>0</td>\n",
       "      <td>NaN</td>\n",
       "      <td>45</td>\n",
       "      <td>NaN</td>\n",
       "      <td>NaN</td>\n",
       "      <td>NaN</td>\n",
       "      <td>3.8</td>\n",
       "      <td>NaN</td>\n",
       "      <td>7787655.0</td>\n",
       "      <td>NaN</td>\n",
       "      <td>NaN</td>\n",
       "      <td>0.000</td>\n",
       "      <td>0.0</td>\n",
       "    </tr>\n",
       "    <tr>\n",
       "      <th>2421</th>\n",
       "      <td>South Sudan</td>\n",
       "      <td>2003</td>\n",
       "      <td>Developing</td>\n",
       "      <td>58.0</td>\n",
       "      <td>383.0</td>\n",
       "      <td>29</td>\n",
       "      <td>NaN</td>\n",
       "      <td>0.000000</td>\n",
       "      <td>NaN</td>\n",
       "      <td>0</td>\n",
       "      <td>NaN</td>\n",
       "      <td>46</td>\n",
       "      <td>NaN</td>\n",
       "      <td>NaN</td>\n",
       "      <td>NaN</td>\n",
       "      <td>3.5</td>\n",
       "      <td>NaN</td>\n",
       "      <td>751642.0</td>\n",
       "      <td>NaN</td>\n",
       "      <td>NaN</td>\n",
       "      <td>0.000</td>\n",
       "      <td>0.0</td>\n",
       "    </tr>\n",
       "    <tr>\n",
       "      <th>2422</th>\n",
       "      <td>South Sudan</td>\n",
       "      <td>2002</td>\n",
       "      <td>Developing</td>\n",
       "      <td>52.0</td>\n",
       "      <td>382.0</td>\n",
       "      <td>30</td>\n",
       "      <td>NaN</td>\n",
       "      <td>0.000000</td>\n",
       "      <td>NaN</td>\n",
       "      <td>0</td>\n",
       "      <td>NaN</td>\n",
       "      <td>48</td>\n",
       "      <td>NaN</td>\n",
       "      <td>NaN</td>\n",
       "      <td>NaN</td>\n",
       "      <td>3.3</td>\n",
       "      <td>NaN</td>\n",
       "      <td>7237276.0</td>\n",
       "      <td>NaN</td>\n",
       "      <td>NaN</td>\n",
       "      <td>0.000</td>\n",
       "      <td>0.0</td>\n",
       "    </tr>\n",
       "    <tr>\n",
       "      <th>2423</th>\n",
       "      <td>South Sudan</td>\n",
       "      <td>2001</td>\n",
       "      <td>Developing</td>\n",
       "      <td>49.6</td>\n",
       "      <td>381.0</td>\n",
       "      <td>30</td>\n",
       "      <td>NaN</td>\n",
       "      <td>0.000000</td>\n",
       "      <td>NaN</td>\n",
       "      <td>0</td>\n",
       "      <td>NaN</td>\n",
       "      <td>49</td>\n",
       "      <td>NaN</td>\n",
       "      <td>NaN</td>\n",
       "      <td>NaN</td>\n",
       "      <td>3.0</td>\n",
       "      <td>NaN</td>\n",
       "      <td>6974442.0</td>\n",
       "      <td>NaN</td>\n",
       "      <td>NaN</td>\n",
       "      <td>0.000</td>\n",
       "      <td>0.0</td>\n",
       "    </tr>\n",
       "    <tr>\n",
       "      <th>2424</th>\n",
       "      <td>South Sudan</td>\n",
       "      <td>2000</td>\n",
       "      <td>Developing</td>\n",
       "      <td>48.9</td>\n",
       "      <td>38.0</td>\n",
       "      <td>31</td>\n",
       "      <td>NaN</td>\n",
       "      <td>0.000000</td>\n",
       "      <td>NaN</td>\n",
       "      <td>0</td>\n",
       "      <td>NaN</td>\n",
       "      <td>50</td>\n",
       "      <td>NaN</td>\n",
       "      <td>NaN</td>\n",
       "      <td>NaN</td>\n",
       "      <td>2.7</td>\n",
       "      <td>NaN</td>\n",
       "      <td>67656.0</td>\n",
       "      <td>NaN</td>\n",
       "      <td>NaN</td>\n",
       "      <td>0.000</td>\n",
       "      <td>0.0</td>\n",
       "    </tr>\n",
       "  </tbody>\n",
       "</table>\n",
       "</div>"
      ],
      "text/plain": [
       "          Country  Year      Status  Life expectancy   Adult Mortality  \\\n",
       "2409  South Sudan  2015  Developing              57.3            332.0   \n",
       "2410  South Sudan  2014  Developing              56.6            343.0   \n",
       "2411  South Sudan  2013  Developing              56.4            345.0   \n",
       "2412  South Sudan  2012  Developing              56.0            347.0   \n",
       "2413  South Sudan  2011  Developing              55.4            355.0   \n",
       "2414  South Sudan  2010  Developing              55.0            359.0   \n",
       "2415  South Sudan  2009  Developing              54.3            369.0   \n",
       "2416  South Sudan  2008  Developing              53.6            377.0   \n",
       "2417  South Sudan  2007  Developing              53.1            381.0   \n",
       "2418  South Sudan  2006  Developing              52.5            383.0   \n",
       "2419  South Sudan  2005  Developing              51.9            383.0   \n",
       "2420  South Sudan  2004  Developing              51.4            383.0   \n",
       "2421  South Sudan  2003  Developing              58.0            383.0   \n",
       "2422  South Sudan  2002  Developing              52.0            382.0   \n",
       "2423  South Sudan  2001  Developing              49.6            381.0   \n",
       "2424  South Sudan  2000  Developing              48.9             38.0   \n",
       "\n",
       "      infant deaths  Alcohol  percentage expenditure  Hepatitis B  Measles   \\\n",
       "2409             26      NaN                0.000000         31.0       878   \n",
       "2410             26      NaN               46.074469          NaN       441   \n",
       "2411             26      NaN               47.444530          NaN       525   \n",
       "2412             26      NaN               38.338232          NaN      1952   \n",
       "2413             27      NaN                0.000000          NaN      1256   \n",
       "2414             27      NaN                0.000000          NaN         0   \n",
       "2415             27      NaN                0.000000          NaN         0   \n",
       "2416             27      NaN                0.000000          NaN         0   \n",
       "2417             27      NaN                0.000000          NaN         0   \n",
       "2418             28      NaN                0.000000          NaN         0   \n",
       "2419             28      NaN                0.000000          NaN         0   \n",
       "2420             29      NaN                0.000000          NaN         0   \n",
       "2421             29      NaN                0.000000          NaN         0   \n",
       "2422             30      NaN                0.000000          NaN         0   \n",
       "2423             30      NaN                0.000000          NaN         0   \n",
       "2424             31      NaN                0.000000          NaN         0   \n",
       "\n",
       "       BMI   under-five deaths   Polio  Total expenditure  Diphtheria   \\\n",
       "2409    NaN                  39   41.0                NaN         31.0   \n",
       "2410    NaN                  39   44.0               2.74         39.0   \n",
       "2411    NaN                  40    5.0               2.62         45.0   \n",
       "2412    NaN                  40   64.0               2.77         59.0   \n",
       "2413    NaN                  41   66.0                NaN         61.0   \n",
       "2414    NaN                  41    NaN                NaN          NaN   \n",
       "2415    NaN                  42    NaN                NaN          NaN   \n",
       "2416    NaN                  42    NaN                NaN          NaN   \n",
       "2417    NaN                  43    NaN                NaN          NaN   \n",
       "2418    NaN                  43    NaN                NaN          NaN   \n",
       "2419    NaN                  44    NaN                NaN          NaN   \n",
       "2420    NaN                  45    NaN                NaN          NaN   \n",
       "2421    NaN                  46    NaN                NaN          NaN   \n",
       "2422    NaN                  48    NaN                NaN          NaN   \n",
       "2423    NaN                  49    NaN                NaN          NaN   \n",
       "2424    NaN                  50    NaN                NaN          NaN   \n",
       "\n",
       "       HIV/AIDS          GDP  Population   thinness  1-19 years  \\\n",
       "2409        3.4   758.725782  11882136.0                    NaN   \n",
       "2410        3.5  1151.861715   1153971.0                    NaN   \n",
       "2411        3.6  1186.113250   1117749.0                    NaN   \n",
       "2412        3.8   958.455810   1818258.0                    NaN   \n",
       "2413        3.9   176.971300   1448857.0                    NaN   \n",
       "2414        4.0  1562.239346    167192.0                    NaN   \n",
       "2415        4.2  1264.789980    967667.0                    NaN   \n",
       "2416        4.2  1678.711862   9263136.0                    NaN   \n",
       "2417        4.2          NaN     88568.0                    NaN   \n",
       "2418        4.1          NaN   8468152.0                    NaN   \n",
       "2419        3.9          NaN    818877.0                    NaN   \n",
       "2420        3.8          NaN   7787655.0                    NaN   \n",
       "2421        3.5          NaN    751642.0                    NaN   \n",
       "2422        3.3          NaN   7237276.0                    NaN   \n",
       "2423        3.0          NaN   6974442.0                    NaN   \n",
       "2424        2.7          NaN     67656.0                    NaN   \n",
       "\n",
       "       thinness 5-9 years  Income composition of resources  Schooling  \n",
       "2409                  NaN                            0.421        4.9  \n",
       "2410                  NaN                            0.421        4.9  \n",
       "2411                  NaN                            0.417        4.9  \n",
       "2412                  NaN                            0.419        4.9  \n",
       "2413                  NaN                            0.429        4.9  \n",
       "2414                  NaN                            0.000        0.0  \n",
       "2415                  NaN                            0.000        0.0  \n",
       "2416                  NaN                            0.000        0.0  \n",
       "2417                  NaN                            0.000        0.0  \n",
       "2418                  NaN                            0.000        0.0  \n",
       "2419                  NaN                            0.000        0.0  \n",
       "2420                  NaN                            0.000        0.0  \n",
       "2421                  NaN                            0.000        0.0  \n",
       "2422                  NaN                            0.000        0.0  \n",
       "2423                  NaN                            0.000        0.0  \n",
       "2424                  NaN                            0.000        0.0  "
      ]
     },
     "execution_count": 19,
     "metadata": {},
     "output_type": "execute_result"
    }
   ],
   "source": [
    "data[data['Alcohol'].isnull()]"
   ]
  },
  {
   "cell_type": "markdown",
   "id": "4d8aef37",
   "metadata": {},
   "source": [
    "All observations belong to South Sudan, for which we have no data for any year, not only in the alcohol column but also in other columns, we will eliminate the observations for this country.  "
   ]
  },
  {
   "cell_type": "code",
   "execution_count": 20,
   "id": "24b97204",
   "metadata": {
    "ExecuteTime": {
     "end_time": "2022-05-27T16:10:57.416599Z",
     "start_time": "2022-05-27T16:10:57.390646Z"
    }
   },
   "outputs": [],
   "source": [
    "# delete rows where country is South Sudan \n",
    "data.drop(data[(data['Country'] == 'South Sudan')].index, inplace = True) "
   ]
  },
  {
   "cell_type": "markdown",
   "id": "21bd9a60",
   "metadata": {},
   "source": [
    "#### Hepatitis B column"
   ]
  },
  {
   "cell_type": "code",
   "execution_count": 21,
   "id": "16aa359e",
   "metadata": {
    "ExecuteTime": {
     "end_time": "2022-05-27T16:10:57.432554Z",
     "start_time": "2022-05-27T16:10:57.420580Z"
    }
   },
   "outputs": [
    {
     "data": {
      "text/plain": [
       "538"
      ]
     },
     "execution_count": 21,
     "metadata": {},
     "output_type": "execute_result"
    }
   ],
   "source": [
    "data['Hepatitis B'].isnull().sum()"
   ]
  },
  {
   "cell_type": "code",
   "execution_count": 22,
   "id": "7b2511b6",
   "metadata": {
    "ExecuteTime": {
     "end_time": "2022-05-27T16:10:57.447801Z",
     "start_time": "2022-05-27T16:10:57.433560Z"
    }
   },
   "outputs": [
    {
     "data": {
      "text/plain": [
       "144"
      ]
     },
     "execution_count": 22,
     "metadata": {},
     "output_type": "execute_result"
    }
   ],
   "source": [
    "data['Hepatitis B'] = data['Hepatitis B'].fillna(data.groupby('Country')['Hepatitis B'].transform('mean'))\n",
    "data['Hepatitis B'].isnull().sum()"
   ]
  },
  {
   "cell_type": "markdown",
   "id": "afe42ec0",
   "metadata": {},
   "source": [
    "We still have 144 missing values for hepatitis B, let's see which countries they correspond to, to do that we will create a function that allows us to access a list of countries and the number of nan vales:  "
   ]
  },
  {
   "cell_type": "code",
   "execution_count": 23,
   "id": "b541bab6",
   "metadata": {
    "ExecuteTime": {
     "end_time": "2022-05-27T16:10:57.463156Z",
     "start_time": "2022-05-27T16:10:57.450473Z"
    }
   },
   "outputs": [],
   "source": [
    "# create a function that let us acces countries that have nan values \n",
    "\n",
    "def check_nan(col): \n",
    "    \n",
    "    unique_country = data['Country'].unique()\n",
    "    null_count = []\n",
    "    for i in unique_country: \n",
    "        result = data[data['Country'] == i ][col].isnull().sum()\n",
    "        null_count.append(result)\n",
    "        \n",
    "    df = pd.DataFrame({'Country': unique_country,\n",
    "              'Number of NaN Values': null_count})\n",
    "    \n",
    "    df = df[df['Number of NaN Values']!=0]\n",
    "    \n",
    "    return df"
   ]
  },
  {
   "cell_type": "code",
   "execution_count": 24,
   "id": "393ae111",
   "metadata": {
    "ExecuteTime": {
     "end_time": "2022-05-27T16:10:57.557792Z",
     "start_time": "2022-05-27T16:10:57.466965Z"
    }
   },
   "outputs": [
    {
     "data": {
      "text/html": [
       "<div>\n",
       "<style scoped>\n",
       "    .dataframe tbody tr th:only-of-type {\n",
       "        vertical-align: middle;\n",
       "    }\n",
       "\n",
       "    .dataframe tbody tr th {\n",
       "        vertical-align: top;\n",
       "    }\n",
       "\n",
       "    .dataframe thead th {\n",
       "        text-align: right;\n",
       "    }\n",
       "</style>\n",
       "<table border=\"1\" class=\"dataframe\">\n",
       "  <thead>\n",
       "    <tr style=\"text-align: right;\">\n",
       "      <th></th>\n",
       "      <th>Country</th>\n",
       "      <th>Number of NaN Values</th>\n",
       "    </tr>\n",
       "  </thead>\n",
       "  <tbody>\n",
       "    <tr>\n",
       "      <th>46</th>\n",
       "      <td>Denmark</td>\n",
       "      <td>16</td>\n",
       "    </tr>\n",
       "    <tr>\n",
       "      <th>57</th>\n",
       "      <td>Finland</td>\n",
       "      <td>16</td>\n",
       "    </tr>\n",
       "    <tr>\n",
       "      <th>72</th>\n",
       "      <td>Hungary</td>\n",
       "      <td>16</td>\n",
       "    </tr>\n",
       "    <tr>\n",
       "      <th>73</th>\n",
       "      <td>Iceland</td>\n",
       "      <td>16</td>\n",
       "    </tr>\n",
       "    <tr>\n",
       "      <th>82</th>\n",
       "      <td>Japan</td>\n",
       "      <td>16</td>\n",
       "    </tr>\n",
       "    <tr>\n",
       "      <th>119</th>\n",
       "      <td>Norway</td>\n",
       "      <td>16</td>\n",
       "    </tr>\n",
       "    <tr>\n",
       "      <th>146</th>\n",
       "      <td>Slovenia</td>\n",
       "      <td>16</td>\n",
       "    </tr>\n",
       "    <tr>\n",
       "      <th>156</th>\n",
       "      <td>Switzerland</td>\n",
       "      <td>16</td>\n",
       "    </tr>\n",
       "    <tr>\n",
       "      <th>171</th>\n",
       "      <td>United Kingdom of Great Britain and Northern I...</td>\n",
       "      <td>16</td>\n",
       "    </tr>\n",
       "  </tbody>\n",
       "</table>\n",
       "</div>"
      ],
      "text/plain": [
       "                                               Country  Number of NaN Values\n",
       "46                                             Denmark                    16\n",
       "57                                             Finland                    16\n",
       "72                                             Hungary                    16\n",
       "73                                             Iceland                    16\n",
       "82                                               Japan                    16\n",
       "119                                             Norway                    16\n",
       "146                                           Slovenia                    16\n",
       "156                                        Switzerland                    16\n",
       "171  United Kingdom of Great Britain and Northern I...                    16"
      ]
     },
     "execution_count": 24,
     "metadata": {},
     "output_type": "execute_result"
    }
   ],
   "source": [
    "col1 = 'Hepatitis B'\n",
    "check_nan(col1)"
   ]
  },
  {
   "cell_type": "code",
   "execution_count": 25,
   "id": "c33daa4d",
   "metadata": {
    "ExecuteTime": {
     "end_time": "2022-05-27T16:10:57.636894Z",
     "start_time": "2022-05-27T16:10:57.558784Z"
    }
   },
   "outputs": [
    {
     "name": "stdout",
     "output_type": "stream",
     "text": [
      "We have 9 countries without data for Hepatitis B.\n"
     ]
    }
   ],
   "source": [
    "print('We have', len(check_nan(col1)['Country']), 'countries without data for Hepatitis B.')"
   ]
  },
  {
   "cell_type": "markdown",
   "id": "4516d663",
   "metadata": {},
   "source": [
    "After a Google query, we found that hepatitis B, although with a low prevalence, continues to occur in both developing and developed countries, so we will eliminate these countries for which we have no data (we do not believe it is appropriate to change the nans with zeros). "
   ]
  },
  {
   "cell_type": "code",
   "execution_count": 26,
   "id": "6cb82d44",
   "metadata": {
    "ExecuteTime": {
     "end_time": "2022-05-27T16:10:57.652371Z",
     "start_time": "2022-05-27T16:10:57.637910Z"
    }
   },
   "outputs": [],
   "source": [
    "# deleting rows with nan on Hepatitis B\n",
    "data.drop(data[data['Hepatitis B'].isnull()].index, inplace= True)"
   ]
  },
  {
   "cell_type": "markdown",
   "id": "a3319ed2",
   "metadata": {
    "ExecuteTime": {
     "end_time": "2022-05-25T17:06:31.784066Z",
     "start_time": "2022-05-25T17:06:31.764259Z"
    }
   },
   "source": [
    "#### BMI column"
   ]
  },
  {
   "cell_type": "code",
   "execution_count": 27,
   "id": "f1031cc6",
   "metadata": {
    "ExecuteTime": {
     "end_time": "2022-05-27T16:10:57.684163Z",
     "start_time": "2022-05-27T16:10:57.653902Z"
    }
   },
   "outputs": [
    {
     "data": {
      "text/html": [
       "<div>\n",
       "<style scoped>\n",
       "    .dataframe tbody tr th:only-of-type {\n",
       "        vertical-align: middle;\n",
       "    }\n",
       "\n",
       "    .dataframe tbody tr th {\n",
       "        vertical-align: top;\n",
       "    }\n",
       "\n",
       "    .dataframe thead th {\n",
       "        text-align: right;\n",
       "    }\n",
       "</style>\n",
       "<table border=\"1\" class=\"dataframe\">\n",
       "  <thead>\n",
       "    <tr style=\"text-align: right;\">\n",
       "      <th></th>\n",
       "      <th>Country</th>\n",
       "      <th>Year</th>\n",
       "      <th>Status</th>\n",
       "      <th>Life expectancy</th>\n",
       "      <th>Adult Mortality</th>\n",
       "      <th>infant deaths</th>\n",
       "      <th>Alcohol</th>\n",
       "      <th>percentage expenditure</th>\n",
       "      <th>Hepatitis B</th>\n",
       "      <th>Measles</th>\n",
       "      <th>BMI</th>\n",
       "      <th>under-five deaths</th>\n",
       "      <th>Polio</th>\n",
       "      <th>Total expenditure</th>\n",
       "      <th>Diphtheria</th>\n",
       "      <th>HIV/AIDS</th>\n",
       "      <th>GDP</th>\n",
       "      <th>Population</th>\n",
       "      <th>thinness  1-19 years</th>\n",
       "      <th>thinness 5-9 years</th>\n",
       "      <th>Income composition of resources</th>\n",
       "      <th>Schooling</th>\n",
       "    </tr>\n",
       "  </thead>\n",
       "  <tbody>\n",
       "    <tr>\n",
       "      <th>2457</th>\n",
       "      <td>Sudan</td>\n",
       "      <td>2015</td>\n",
       "      <td>Developing</td>\n",
       "      <td>64.1</td>\n",
       "      <td>225.0</td>\n",
       "      <td>58</td>\n",
       "      <td>1.458</td>\n",
       "      <td>0.000000</td>\n",
       "      <td>93.000000</td>\n",
       "      <td>3585</td>\n",
       "      <td>NaN</td>\n",
       "      <td>85</td>\n",
       "      <td>93.0</td>\n",
       "      <td>NaN</td>\n",
       "      <td>93.0</td>\n",
       "      <td>0.3</td>\n",
       "      <td>2513.884661</td>\n",
       "      <td>3864783.0</td>\n",
       "      <td>NaN</td>\n",
       "      <td>NaN</td>\n",
       "      <td>0.488</td>\n",
       "      <td>7.2</td>\n",
       "    </tr>\n",
       "    <tr>\n",
       "      <th>2458</th>\n",
       "      <td>Sudan</td>\n",
       "      <td>2014</td>\n",
       "      <td>Developing</td>\n",
       "      <td>63.8</td>\n",
       "      <td>229.0</td>\n",
       "      <td>59</td>\n",
       "      <td>0.010</td>\n",
       "      <td>253.608651</td>\n",
       "      <td>94.000000</td>\n",
       "      <td>676</td>\n",
       "      <td>NaN</td>\n",
       "      <td>86</td>\n",
       "      <td>94.0</td>\n",
       "      <td>8.43</td>\n",
       "      <td>94.0</td>\n",
       "      <td>0.3</td>\n",
       "      <td>2176.898290</td>\n",
       "      <td>37737913.0</td>\n",
       "      <td>NaN</td>\n",
       "      <td>NaN</td>\n",
       "      <td>0.485</td>\n",
       "      <td>7.2</td>\n",
       "    </tr>\n",
       "    <tr>\n",
       "      <th>2459</th>\n",
       "      <td>Sudan</td>\n",
       "      <td>2013</td>\n",
       "      <td>Developing</td>\n",
       "      <td>63.5</td>\n",
       "      <td>232.0</td>\n",
       "      <td>60</td>\n",
       "      <td>0.010</td>\n",
       "      <td>227.835321</td>\n",
       "      <td>93.000000</td>\n",
       "      <td>2813</td>\n",
       "      <td>NaN</td>\n",
       "      <td>88</td>\n",
       "      <td>93.0</td>\n",
       "      <td>8.42</td>\n",
       "      <td>93.0</td>\n",
       "      <td>0.3</td>\n",
       "      <td>1955.667990</td>\n",
       "      <td>36849918.0</td>\n",
       "      <td>NaN</td>\n",
       "      <td>NaN</td>\n",
       "      <td>0.478</td>\n",
       "      <td>7.0</td>\n",
       "    </tr>\n",
       "    <tr>\n",
       "      <th>2460</th>\n",
       "      <td>Sudan</td>\n",
       "      <td>2012</td>\n",
       "      <td>Developing</td>\n",
       "      <td>63.2</td>\n",
       "      <td>235.0</td>\n",
       "      <td>61</td>\n",
       "      <td>0.010</td>\n",
       "      <td>220.522192</td>\n",
       "      <td>92.000000</td>\n",
       "      <td>8523</td>\n",
       "      <td>NaN</td>\n",
       "      <td>89</td>\n",
       "      <td>92.0</td>\n",
       "      <td>8.20</td>\n",
       "      <td>92.0</td>\n",
       "      <td>0.3</td>\n",
       "      <td>1892.894352</td>\n",
       "      <td>3599192.0</td>\n",
       "      <td>NaN</td>\n",
       "      <td>NaN</td>\n",
       "      <td>0.468</td>\n",
       "      <td>6.8</td>\n",
       "    </tr>\n",
       "    <tr>\n",
       "      <th>2461</th>\n",
       "      <td>Sudan</td>\n",
       "      <td>2011</td>\n",
       "      <td>Developing</td>\n",
       "      <td>62.7</td>\n",
       "      <td>241.0</td>\n",
       "      <td>61</td>\n",
       "      <td>2.120</td>\n",
       "      <td>196.689215</td>\n",
       "      <td>93.000000</td>\n",
       "      <td>5616</td>\n",
       "      <td>NaN</td>\n",
       "      <td>91</td>\n",
       "      <td>93.0</td>\n",
       "      <td>8.30</td>\n",
       "      <td>93.0</td>\n",
       "      <td>0.3</td>\n",
       "      <td>1666.857757</td>\n",
       "      <td>35167314.0</td>\n",
       "      <td>NaN</td>\n",
       "      <td>NaN</td>\n",
       "      <td>0.463</td>\n",
       "      <td>7.0</td>\n",
       "    </tr>\n",
       "    <tr>\n",
       "      <th>2462</th>\n",
       "      <td>Sudan</td>\n",
       "      <td>2010</td>\n",
       "      <td>Developing</td>\n",
       "      <td>62.5</td>\n",
       "      <td>243.0</td>\n",
       "      <td>62</td>\n",
       "      <td>1.770</td>\n",
       "      <td>172.009788</td>\n",
       "      <td>75.000000</td>\n",
       "      <td>680</td>\n",
       "      <td>NaN</td>\n",
       "      <td>92</td>\n",
       "      <td>9.0</td>\n",
       "      <td>7.97</td>\n",
       "      <td>9.0</td>\n",
       "      <td>0.3</td>\n",
       "      <td>1476.478870</td>\n",
       "      <td>34385963.0</td>\n",
       "      <td>NaN</td>\n",
       "      <td>NaN</td>\n",
       "      <td>0.461</td>\n",
       "      <td>7.0</td>\n",
       "    </tr>\n",
       "    <tr>\n",
       "      <th>2463</th>\n",
       "      <td>Sudan</td>\n",
       "      <td>2009</td>\n",
       "      <td>Developing</td>\n",
       "      <td>62.0</td>\n",
       "      <td>248.0</td>\n",
       "      <td>63</td>\n",
       "      <td>1.990</td>\n",
       "      <td>17.053693</td>\n",
       "      <td>72.000000</td>\n",
       "      <td>68</td>\n",
       "      <td>NaN</td>\n",
       "      <td>94</td>\n",
       "      <td>81.0</td>\n",
       "      <td>8.40</td>\n",
       "      <td>81.0</td>\n",
       "      <td>0.3</td>\n",
       "      <td>1226.884381</td>\n",
       "      <td>3365619.0</td>\n",
       "      <td>NaN</td>\n",
       "      <td>NaN</td>\n",
       "      <td>0.456</td>\n",
       "      <td>6.8</td>\n",
       "    </tr>\n",
       "    <tr>\n",
       "      <th>2464</th>\n",
       "      <td>Sudan</td>\n",
       "      <td>2008</td>\n",
       "      <td>Developing</td>\n",
       "      <td>61.8</td>\n",
       "      <td>251.0</td>\n",
       "      <td>64</td>\n",
       "      <td>2.010</td>\n",
       "      <td>128.636271</td>\n",
       "      <td>78.000000</td>\n",
       "      <td>129</td>\n",
       "      <td>NaN</td>\n",
       "      <td>95</td>\n",
       "      <td>85.0</td>\n",
       "      <td>8.17</td>\n",
       "      <td>86.0</td>\n",
       "      <td>0.3</td>\n",
       "      <td>1291.528826</td>\n",
       "      <td>32955496.0</td>\n",
       "      <td>NaN</td>\n",
       "      <td>NaN</td>\n",
       "      <td>0.444</td>\n",
       "      <td>6.3</td>\n",
       "    </tr>\n",
       "    <tr>\n",
       "      <th>2465</th>\n",
       "      <td>Sudan</td>\n",
       "      <td>2007</td>\n",
       "      <td>Developing</td>\n",
       "      <td>61.4</td>\n",
       "      <td>254.0</td>\n",
       "      <td>65</td>\n",
       "      <td>2.010</td>\n",
       "      <td>86.131669</td>\n",
       "      <td>78.000000</td>\n",
       "      <td>327</td>\n",
       "      <td>NaN</td>\n",
       "      <td>97</td>\n",
       "      <td>84.0</td>\n",
       "      <td>4.72</td>\n",
       "      <td>84.0</td>\n",
       "      <td>0.3</td>\n",
       "      <td>1115.695200</td>\n",
       "      <td>32282526.0</td>\n",
       "      <td>NaN</td>\n",
       "      <td>NaN</td>\n",
       "      <td>0.440</td>\n",
       "      <td>6.4</td>\n",
       "    </tr>\n",
       "    <tr>\n",
       "      <th>2466</th>\n",
       "      <td>Sudan</td>\n",
       "      <td>2006</td>\n",
       "      <td>Developing</td>\n",
       "      <td>61.0</td>\n",
       "      <td>26.0</td>\n",
       "      <td>66</td>\n",
       "      <td>1.900</td>\n",
       "      <td>60.336857</td>\n",
       "      <td>6.000000</td>\n",
       "      <td>228</td>\n",
       "      <td>NaN</td>\n",
       "      <td>99</td>\n",
       "      <td>77.0</td>\n",
       "      <td>3.93</td>\n",
       "      <td>78.0</td>\n",
       "      <td>0.2</td>\n",
       "      <td>893.879364</td>\n",
       "      <td>316764.0</td>\n",
       "      <td>NaN</td>\n",
       "      <td>NaN</td>\n",
       "      <td>0.430</td>\n",
       "      <td>6.2</td>\n",
       "    </tr>\n",
       "    <tr>\n",
       "      <th>2467</th>\n",
       "      <td>Sudan</td>\n",
       "      <td>2005</td>\n",
       "      <td>Developing</td>\n",
       "      <td>67.0</td>\n",
       "      <td>261.0</td>\n",
       "      <td>66</td>\n",
       "      <td>1.550</td>\n",
       "      <td>37.590396</td>\n",
       "      <td>22.000000</td>\n",
       "      <td>1374</td>\n",
       "      <td>NaN</td>\n",
       "      <td>101</td>\n",
       "      <td>78.0</td>\n",
       "      <td>3.18</td>\n",
       "      <td>78.0</td>\n",
       "      <td>0.2</td>\n",
       "      <td>679.753995</td>\n",
       "      <td>3911914.0</td>\n",
       "      <td>NaN</td>\n",
       "      <td>NaN</td>\n",
       "      <td>0.423</td>\n",
       "      <td>6.1</td>\n",
       "    </tr>\n",
       "    <tr>\n",
       "      <th>2468</th>\n",
       "      <td>Sudan</td>\n",
       "      <td>2004</td>\n",
       "      <td>Developing</td>\n",
       "      <td>59.7</td>\n",
       "      <td>278.0</td>\n",
       "      <td>68</td>\n",
       "      <td>1.590</td>\n",
       "      <td>37.044800</td>\n",
       "      <td>72.363636</td>\n",
       "      <td>9562</td>\n",
       "      <td>NaN</td>\n",
       "      <td>102</td>\n",
       "      <td>74.0</td>\n",
       "      <td>3.39</td>\n",
       "      <td>74.0</td>\n",
       "      <td>0.2</td>\n",
       "      <td>565.569459</td>\n",
       "      <td>3186341.0</td>\n",
       "      <td>NaN</td>\n",
       "      <td>NaN</td>\n",
       "      <td>0.415</td>\n",
       "      <td>5.7</td>\n",
       "    </tr>\n",
       "    <tr>\n",
       "      <th>2469</th>\n",
       "      <td>Sudan</td>\n",
       "      <td>2003</td>\n",
       "      <td>Developing</td>\n",
       "      <td>59.6</td>\n",
       "      <td>278.0</td>\n",
       "      <td>69</td>\n",
       "      <td>1.740</td>\n",
       "      <td>35.352647</td>\n",
       "      <td>72.363636</td>\n",
       "      <td>4381</td>\n",
       "      <td>NaN</td>\n",
       "      <td>104</td>\n",
       "      <td>69.0</td>\n",
       "      <td>3.18</td>\n",
       "      <td>69.0</td>\n",
       "      <td>0.2</td>\n",
       "      <td>477.738478</td>\n",
       "      <td>29435944.0</td>\n",
       "      <td>NaN</td>\n",
       "      <td>NaN</td>\n",
       "      <td>0.409</td>\n",
       "      <td>5.6</td>\n",
       "    </tr>\n",
       "    <tr>\n",
       "      <th>2470</th>\n",
       "      <td>Sudan</td>\n",
       "      <td>2002</td>\n",
       "      <td>Developing</td>\n",
       "      <td>59.4</td>\n",
       "      <td>277.0</td>\n",
       "      <td>70</td>\n",
       "      <td>1.590</td>\n",
       "      <td>30.622875</td>\n",
       "      <td>72.363636</td>\n",
       "      <td>4529</td>\n",
       "      <td>NaN</td>\n",
       "      <td>106</td>\n",
       "      <td>6.0</td>\n",
       "      <td>2.95</td>\n",
       "      <td>6.0</td>\n",
       "      <td>0.2</td>\n",
       "      <td>412.151756</td>\n",
       "      <td>28679565.0</td>\n",
       "      <td>NaN</td>\n",
       "      <td>NaN</td>\n",
       "      <td>0.403</td>\n",
       "      <td>5.6</td>\n",
       "    </tr>\n",
       "    <tr>\n",
       "      <th>2471</th>\n",
       "      <td>Sudan</td>\n",
       "      <td>2001</td>\n",
       "      <td>Developing</td>\n",
       "      <td>58.9</td>\n",
       "      <td>283.0</td>\n",
       "      <td>71</td>\n",
       "      <td>1.810</td>\n",
       "      <td>28.880697</td>\n",
       "      <td>72.363636</td>\n",
       "      <td>4362</td>\n",
       "      <td>NaN</td>\n",
       "      <td>108</td>\n",
       "      <td>66.0</td>\n",
       "      <td>2.96</td>\n",
       "      <td>66.0</td>\n",
       "      <td>0.2</td>\n",
       "      <td>377.525445</td>\n",
       "      <td>279455.0</td>\n",
       "      <td>NaN</td>\n",
       "      <td>NaN</td>\n",
       "      <td>0.399</td>\n",
       "      <td>5.6</td>\n",
       "    </tr>\n",
       "    <tr>\n",
       "      <th>2472</th>\n",
       "      <td>Sudan</td>\n",
       "      <td>2000</td>\n",
       "      <td>Developing</td>\n",
       "      <td>58.6</td>\n",
       "      <td>284.0</td>\n",
       "      <td>71</td>\n",
       "      <td>1.760</td>\n",
       "      <td>30.860010</td>\n",
       "      <td>72.363636</td>\n",
       "      <td>2875</td>\n",
       "      <td>NaN</td>\n",
       "      <td>109</td>\n",
       "      <td>62.0</td>\n",
       "      <td>3.23</td>\n",
       "      <td>62.0</td>\n",
       "      <td>0.1</td>\n",
       "      <td>361.358430</td>\n",
       "      <td>2725535.0</td>\n",
       "      <td>NaN</td>\n",
       "      <td>NaN</td>\n",
       "      <td>0.394</td>\n",
       "      <td>5.5</td>\n",
       "    </tr>\n",
       "  </tbody>\n",
       "</table>\n",
       "</div>"
      ],
      "text/plain": [
       "     Country  Year      Status  Life expectancy   Adult Mortality  \\\n",
       "2457   Sudan  2015  Developing              64.1            225.0   \n",
       "2458   Sudan  2014  Developing              63.8            229.0   \n",
       "2459   Sudan  2013  Developing              63.5            232.0   \n",
       "2460   Sudan  2012  Developing              63.2            235.0   \n",
       "2461   Sudan  2011  Developing              62.7            241.0   \n",
       "2462   Sudan  2010  Developing              62.5            243.0   \n",
       "2463   Sudan  2009  Developing              62.0            248.0   \n",
       "2464   Sudan  2008  Developing              61.8            251.0   \n",
       "2465   Sudan  2007  Developing              61.4            254.0   \n",
       "2466   Sudan  2006  Developing              61.0             26.0   \n",
       "2467   Sudan  2005  Developing              67.0            261.0   \n",
       "2468   Sudan  2004  Developing              59.7            278.0   \n",
       "2469   Sudan  2003  Developing              59.6            278.0   \n",
       "2470   Sudan  2002  Developing              59.4            277.0   \n",
       "2471   Sudan  2001  Developing              58.9            283.0   \n",
       "2472   Sudan  2000  Developing              58.6            284.0   \n",
       "\n",
       "      infant deaths  Alcohol  percentage expenditure  Hepatitis B  Measles   \\\n",
       "2457             58    1.458                0.000000    93.000000      3585   \n",
       "2458             59    0.010              253.608651    94.000000       676   \n",
       "2459             60    0.010              227.835321    93.000000      2813   \n",
       "2460             61    0.010              220.522192    92.000000      8523   \n",
       "2461             61    2.120              196.689215    93.000000      5616   \n",
       "2462             62    1.770              172.009788    75.000000       680   \n",
       "2463             63    1.990               17.053693    72.000000        68   \n",
       "2464             64    2.010              128.636271    78.000000       129   \n",
       "2465             65    2.010               86.131669    78.000000       327   \n",
       "2466             66    1.900               60.336857     6.000000       228   \n",
       "2467             66    1.550               37.590396    22.000000      1374   \n",
       "2468             68    1.590               37.044800    72.363636      9562   \n",
       "2469             69    1.740               35.352647    72.363636      4381   \n",
       "2470             70    1.590               30.622875    72.363636      4529   \n",
       "2471             71    1.810               28.880697    72.363636      4362   \n",
       "2472             71    1.760               30.860010    72.363636      2875   \n",
       "\n",
       "       BMI   under-five deaths   Polio  Total expenditure  Diphtheria   \\\n",
       "2457    NaN                  85   93.0                NaN         93.0   \n",
       "2458    NaN                  86   94.0               8.43         94.0   \n",
       "2459    NaN                  88   93.0               8.42         93.0   \n",
       "2460    NaN                  89   92.0               8.20         92.0   \n",
       "2461    NaN                  91   93.0               8.30         93.0   \n",
       "2462    NaN                  92    9.0               7.97          9.0   \n",
       "2463    NaN                  94   81.0               8.40         81.0   \n",
       "2464    NaN                  95   85.0               8.17         86.0   \n",
       "2465    NaN                  97   84.0               4.72         84.0   \n",
       "2466    NaN                  99   77.0               3.93         78.0   \n",
       "2467    NaN                 101   78.0               3.18         78.0   \n",
       "2468    NaN                 102   74.0               3.39         74.0   \n",
       "2469    NaN                 104   69.0               3.18         69.0   \n",
       "2470    NaN                 106    6.0               2.95          6.0   \n",
       "2471    NaN                 108   66.0               2.96         66.0   \n",
       "2472    NaN                 109   62.0               3.23         62.0   \n",
       "\n",
       "       HIV/AIDS          GDP  Population   thinness  1-19 years  \\\n",
       "2457        0.3  2513.884661   3864783.0                    NaN   \n",
       "2458        0.3  2176.898290  37737913.0                    NaN   \n",
       "2459        0.3  1955.667990  36849918.0                    NaN   \n",
       "2460        0.3  1892.894352   3599192.0                    NaN   \n",
       "2461        0.3  1666.857757  35167314.0                    NaN   \n",
       "2462        0.3  1476.478870  34385963.0                    NaN   \n",
       "2463        0.3  1226.884381   3365619.0                    NaN   \n",
       "2464        0.3  1291.528826  32955496.0                    NaN   \n",
       "2465        0.3  1115.695200  32282526.0                    NaN   \n",
       "2466        0.2   893.879364    316764.0                    NaN   \n",
       "2467        0.2   679.753995   3911914.0                    NaN   \n",
       "2468        0.2   565.569459   3186341.0                    NaN   \n",
       "2469        0.2   477.738478  29435944.0                    NaN   \n",
       "2470        0.2   412.151756  28679565.0                    NaN   \n",
       "2471        0.2   377.525445    279455.0                    NaN   \n",
       "2472        0.1   361.358430   2725535.0                    NaN   \n",
       "\n",
       "       thinness 5-9 years  Income composition of resources  Schooling  \n",
       "2457                  NaN                            0.488        7.2  \n",
       "2458                  NaN                            0.485        7.2  \n",
       "2459                  NaN                            0.478        7.0  \n",
       "2460                  NaN                            0.468        6.8  \n",
       "2461                  NaN                            0.463        7.0  \n",
       "2462                  NaN                            0.461        7.0  \n",
       "2463                  NaN                            0.456        6.8  \n",
       "2464                  NaN                            0.444        6.3  \n",
       "2465                  NaN                            0.440        6.4  \n",
       "2466                  NaN                            0.430        6.2  \n",
       "2467                  NaN                            0.423        6.1  \n",
       "2468                  NaN                            0.415        5.7  \n",
       "2469                  NaN                            0.409        5.6  \n",
       "2470                  NaN                            0.403        5.6  \n",
       "2471                  NaN                            0.399        5.6  \n",
       "2472                  NaN                            0.394        5.5  "
      ]
     },
     "execution_count": 27,
     "metadata": {},
     "output_type": "execute_result"
    }
   ],
   "source": [
    "data[data[' BMI '].isnull()]"
   ]
  },
  {
   "cell_type": "markdown",
   "id": "2af01241",
   "metadata": {},
   "source": [
    "All observations belong to Sudan, which also has two other columns with only nan values, we will remove the observations from this country. "
   ]
  },
  {
   "cell_type": "code",
   "execution_count": 28,
   "id": "6f4b9707",
   "metadata": {
    "ExecuteTime": {
     "end_time": "2022-05-27T16:10:57.699580Z",
     "start_time": "2022-05-27T16:10:57.688151Z"
    }
   },
   "outputs": [],
   "source": [
    "# we dont have info about BMI, thinness 1-19 years or thinness 5-9 years for this country \n",
    "data.drop(data[(data['Country'] == 'Sudan')].index, inplace = True) "
   ]
  },
  {
   "cell_type": "markdown",
   "id": "33cf4498",
   "metadata": {
    "ExecuteTime": {
     "end_time": "2022-05-25T17:39:47.177797Z",
     "start_time": "2022-05-25T17:39:47.165158Z"
    }
   },
   "source": [
    "#### Total Expenditure Column"
   ]
  },
  {
   "cell_type": "code",
   "execution_count": 29,
   "id": "41068f7f",
   "metadata": {
    "ExecuteTime": {
     "end_time": "2022-05-27T16:10:57.715277Z",
     "start_time": "2022-05-27T16:10:57.701501Z"
    }
   },
   "outputs": [
    {
     "data": {
      "text/plain": [
       "203"
      ]
     },
     "execution_count": 29,
     "metadata": {},
     "output_type": "execute_result"
    }
   ],
   "source": [
    "data['Total expenditure'].isnull().sum()"
   ]
  },
  {
   "cell_type": "code",
   "execution_count": 30,
   "id": "bab7bff9",
   "metadata": {
    "ExecuteTime": {
     "end_time": "2022-05-27T16:10:57.730730Z",
     "start_time": "2022-05-27T16:10:57.718268Z"
    }
   },
   "outputs": [
    {
     "data": {
      "text/plain": [
       "32"
      ]
     },
     "execution_count": 30,
     "metadata": {},
     "output_type": "execute_result"
    }
   ],
   "source": [
    "# fill nan with the mean grouped by countries\n",
    "data['Total expenditure'] = data['Total expenditure'].fillna(data.groupby('Country')['Total expenditure'].transform('mean'))\n",
    "data['Total expenditure'].isnull().sum()"
   ]
  },
  {
   "cell_type": "markdown",
   "id": "67e54790",
   "metadata": {},
   "source": [
    "Let's check the countries that don't have any value for 'Total expenditure': "
   ]
  },
  {
   "cell_type": "code",
   "execution_count": 31,
   "id": "44af3c6c",
   "metadata": {
    "ExecuteTime": {
     "end_time": "2022-05-27T16:10:57.809467Z",
     "start_time": "2022-05-27T16:10:57.732724Z"
    }
   },
   "outputs": [
    {
     "data": {
      "text/html": [
       "<div>\n",
       "<style scoped>\n",
       "    .dataframe tbody tr th:only-of-type {\n",
       "        vertical-align: middle;\n",
       "    }\n",
       "\n",
       "    .dataframe tbody tr th {\n",
       "        vertical-align: top;\n",
       "    }\n",
       "\n",
       "    .dataframe thead th {\n",
       "        text-align: right;\n",
       "    }\n",
       "</style>\n",
       "<table border=\"1\" class=\"dataframe\">\n",
       "  <thead>\n",
       "    <tr style=\"text-align: right;\">\n",
       "      <th></th>\n",
       "      <th>Country</th>\n",
       "      <th>Number of NaN Values</th>\n",
       "    </tr>\n",
       "  </thead>\n",
       "  <tbody>\n",
       "    <tr>\n",
       "      <th>44</th>\n",
       "      <td>Democratic People's Republic of Korea</td>\n",
       "      <td>16</td>\n",
       "    </tr>\n",
       "    <tr>\n",
       "      <th>141</th>\n",
       "      <td>Somalia</td>\n",
       "      <td>16</td>\n",
       "    </tr>\n",
       "  </tbody>\n",
       "</table>\n",
       "</div>"
      ],
      "text/plain": [
       "                                   Country  Number of NaN Values\n",
       "44   Democratic People's Republic of Korea                    16\n",
       "141                                Somalia                    16"
      ]
     },
     "execution_count": 31,
     "metadata": {},
     "output_type": "execute_result"
    }
   ],
   "source": [
    "col2 = 'Total expenditure'\n",
    "check_nan('Total expenditure')"
   ]
  },
  {
   "cell_type": "code",
   "execution_count": 32,
   "id": "fcf631f5",
   "metadata": {
    "ExecuteTime": {
     "end_time": "2022-05-27T16:10:57.887956Z",
     "start_time": "2022-05-27T16:10:57.810542Z"
    }
   },
   "outputs": [
    {
     "name": "stdout",
     "output_type": "stream",
     "text": [
      "We have 2 countries without any data for Total expenditure.\n"
     ]
    }
   ],
   "source": [
    "print('We have', len(check_nan(col2)['Country']), 'countries without any data for Total expenditure.')"
   ]
  },
  {
   "cell_type": "markdown",
   "id": "47cb98dc",
   "metadata": {},
   "source": [
    "We don't have values for Korea or Somalia, we will delete these 2 countries: "
   ]
  },
  {
   "cell_type": "code",
   "execution_count": 33,
   "id": "739cd851",
   "metadata": {
    "ExecuteTime": {
     "end_time": "2022-05-27T16:10:57.903299Z",
     "start_time": "2022-05-27T16:10:57.889953Z"
    }
   },
   "outputs": [],
   "source": [
    "# we dont have data for Somalia or Korea, we will delete these countries\n",
    "# deleting rows with nan on Total expenditure\n",
    "data.drop(data[data['Total expenditure'].isnull()].index, inplace= True)"
   ]
  },
  {
   "cell_type": "markdown",
   "id": "b7521e10",
   "metadata": {
    "ExecuteTime": {
     "end_time": "2022-05-25T17:44:33.722141Z",
     "start_time": "2022-05-25T17:44:33.701878Z"
    }
   },
   "source": [
    "data.isnull().sum()"
   ]
  },
  {
   "cell_type": "markdown",
   "id": "c8196e63",
   "metadata": {},
   "source": [
    "#### GDP Column"
   ]
  },
  {
   "cell_type": "code",
   "execution_count": 34,
   "id": "515d68d8",
   "metadata": {
    "ExecuteTime": {
     "end_time": "2022-05-27T16:10:57.919393Z",
     "start_time": "2022-05-27T16:10:57.904296Z"
    }
   },
   "outputs": [
    {
     "data": {
      "text/plain": [
       "390"
      ]
     },
     "execution_count": 34,
     "metadata": {},
     "output_type": "execute_result"
    }
   ],
   "source": [
    "# null values for GDP column\n",
    "data['GDP'].isnull().sum()"
   ]
  },
  {
   "cell_type": "code",
   "execution_count": 35,
   "id": "1bcbd765",
   "metadata": {
    "ExecuteTime": {
     "end_time": "2022-05-27T16:10:57.935339Z",
     "start_time": "2022-05-27T16:10:57.920392Z"
    }
   },
   "outputs": [
    {
     "data": {
      "text/plain": [
       "368"
      ]
     },
     "execution_count": 35,
     "metadata": {},
     "output_type": "execute_result"
    }
   ],
   "source": [
    "data['GDP'] = data['GDP'].fillna(data.groupby('Country')['GDP'].transform('mean'))\n",
    "data['GDP'].isnull().sum()"
   ]
  },
  {
   "cell_type": "markdown",
   "id": "6c70e89b",
   "metadata": {},
   "source": [
    "Check these countries: "
   ]
  },
  {
   "cell_type": "code",
   "execution_count": 36,
   "id": "ae780dea",
   "metadata": {
    "ExecuteTime": {
     "end_time": "2022-05-27T16:10:58.012232Z",
     "start_time": "2022-05-27T16:10:57.936407Z"
    }
   },
   "outputs": [
    {
     "data": {
      "text/html": [
       "<div>\n",
       "<style scoped>\n",
       "    .dataframe tbody tr th:only-of-type {\n",
       "        vertical-align: middle;\n",
       "    }\n",
       "\n",
       "    .dataframe tbody tr th {\n",
       "        vertical-align: top;\n",
       "    }\n",
       "\n",
       "    .dataframe thead th {\n",
       "        text-align: right;\n",
       "    }\n",
       "</style>\n",
       "<table border=\"1\" class=\"dataframe\">\n",
       "  <thead>\n",
       "    <tr style=\"text-align: right;\">\n",
       "      <th></th>\n",
       "      <th>Country</th>\n",
       "      <th>Number of NaN Values</th>\n",
       "    </tr>\n",
       "  </thead>\n",
       "  <tbody>\n",
       "    <tr>\n",
       "      <th>10</th>\n",
       "      <td>Bahamas</td>\n",
       "      <td>16</td>\n",
       "    </tr>\n",
       "    <tr>\n",
       "      <th>19</th>\n",
       "      <td>Bolivia (Plurinational State of)</td>\n",
       "      <td>16</td>\n",
       "    </tr>\n",
       "    <tr>\n",
       "      <th>27</th>\n",
       "      <td>Côte d'Ivoire</td>\n",
       "      <td>16</td>\n",
       "    </tr>\n",
       "    <tr>\n",
       "      <th>38</th>\n",
       "      <td>Congo</td>\n",
       "      <td>16</td>\n",
       "    </tr>\n",
       "    <tr>\n",
       "      <th>43</th>\n",
       "      <td>Czechia</td>\n",
       "      <td>16</td>\n",
       "    </tr>\n",
       "    <tr>\n",
       "      <th>44</th>\n",
       "      <td>Democratic Republic of the Congo</td>\n",
       "      <td>16</td>\n",
       "    </tr>\n",
       "    <tr>\n",
       "      <th>48</th>\n",
       "      <td>Egypt</td>\n",
       "      <td>16</td>\n",
       "    </tr>\n",
       "    <tr>\n",
       "      <th>57</th>\n",
       "      <td>Gambia</td>\n",
       "      <td>16</td>\n",
       "    </tr>\n",
       "    <tr>\n",
       "      <th>71</th>\n",
       "      <td>Iran (Islamic Republic of)</td>\n",
       "      <td>16</td>\n",
       "    </tr>\n",
       "    <tr>\n",
       "      <th>82</th>\n",
       "      <td>Kyrgyzstan</td>\n",
       "      <td>16</td>\n",
       "    </tr>\n",
       "    <tr>\n",
       "      <th>83</th>\n",
       "      <td>Lao People's Democratic Republic</td>\n",
       "      <td>16</td>\n",
       "    </tr>\n",
       "    <tr>\n",
       "      <th>100</th>\n",
       "      <td>Micronesia (Federated States of)</td>\n",
       "      <td>16</td>\n",
       "    </tr>\n",
       "    <tr>\n",
       "      <th>123</th>\n",
       "      <td>Republic of Korea</td>\n",
       "      <td>16</td>\n",
       "    </tr>\n",
       "    <tr>\n",
       "      <th>124</th>\n",
       "      <td>Republic of Moldova</td>\n",
       "      <td>16</td>\n",
       "    </tr>\n",
       "    <tr>\n",
       "      <th>128</th>\n",
       "      <td>Saint Lucia</td>\n",
       "      <td>16</td>\n",
       "    </tr>\n",
       "    <tr>\n",
       "      <th>129</th>\n",
       "      <td>Saint Vincent and the Grenadines</td>\n",
       "      <td>16</td>\n",
       "    </tr>\n",
       "    <tr>\n",
       "      <th>138</th>\n",
       "      <td>Slovakia</td>\n",
       "      <td>16</td>\n",
       "    </tr>\n",
       "    <tr>\n",
       "      <th>149</th>\n",
       "      <td>The former Yugoslav republic of Macedonia</td>\n",
       "      <td>16</td>\n",
       "    </tr>\n",
       "    <tr>\n",
       "      <th>160</th>\n",
       "      <td>United Republic of Tanzania</td>\n",
       "      <td>16</td>\n",
       "    </tr>\n",
       "    <tr>\n",
       "      <th>161</th>\n",
       "      <td>United States of America</td>\n",
       "      <td>16</td>\n",
       "    </tr>\n",
       "    <tr>\n",
       "      <th>165</th>\n",
       "      <td>Venezuela (Bolivarian Republic of)</td>\n",
       "      <td>16</td>\n",
       "    </tr>\n",
       "    <tr>\n",
       "      <th>166</th>\n",
       "      <td>Viet Nam</td>\n",
       "      <td>16</td>\n",
       "    </tr>\n",
       "    <tr>\n",
       "      <th>167</th>\n",
       "      <td>Yemen</td>\n",
       "      <td>16</td>\n",
       "    </tr>\n",
       "  </tbody>\n",
       "</table>\n",
       "</div>"
      ],
      "text/plain": [
       "                                       Country  Number of NaN Values\n",
       "10                                     Bahamas                    16\n",
       "19            Bolivia (Plurinational State of)                    16\n",
       "27                               Côte d'Ivoire                    16\n",
       "38                                       Congo                    16\n",
       "43                                     Czechia                    16\n",
       "44            Democratic Republic of the Congo                    16\n",
       "48                                       Egypt                    16\n",
       "57                                      Gambia                    16\n",
       "71                  Iran (Islamic Republic of)                    16\n",
       "82                                  Kyrgyzstan                    16\n",
       "83            Lao People's Democratic Republic                    16\n",
       "100           Micronesia (Federated States of)                    16\n",
       "123                          Republic of Korea                    16\n",
       "124                        Republic of Moldova                    16\n",
       "128                                Saint Lucia                    16\n",
       "129           Saint Vincent and the Grenadines                    16\n",
       "138                                   Slovakia                    16\n",
       "149  The former Yugoslav republic of Macedonia                    16\n",
       "160                United Republic of Tanzania                    16\n",
       "161                   United States of America                    16\n",
       "165         Venezuela (Bolivarian Republic of)                    16\n",
       "166                                   Viet Nam                    16\n",
       "167                                      Yemen                    16"
      ]
     },
     "execution_count": 36,
     "metadata": {},
     "output_type": "execute_result"
    }
   ],
   "source": [
    "col3 = 'GDP'\n",
    "check_nan(col3)"
   ]
  },
  {
   "cell_type": "code",
   "execution_count": 37,
   "id": "2e31cf2c",
   "metadata": {
    "ExecuteTime": {
     "end_time": "2022-05-27T16:10:58.091141Z",
     "start_time": "2022-05-27T16:10:58.013135Z"
    }
   },
   "outputs": [
    {
     "name": "stdout",
     "output_type": "stream",
     "text": [
      "We have 23 countries without any data for GDP.\n"
     ]
    }
   ],
   "source": [
    "print('We have', len(check_nan(col3)['Country']), 'countries without any data for GDP.')"
   ]
  },
  {
   "cell_type": "markdown",
   "id": "24cffdf6",
   "metadata": {},
   "source": [
    "Since GDP is such an important economic metric, it is possible that we can find this data through other sources, but to keep the exercise simple we will eliminate these countries. "
   ]
  },
  {
   "cell_type": "code",
   "execution_count": 38,
   "id": "0935306b",
   "metadata": {
    "ExecuteTime": {
     "end_time": "2022-05-27T16:10:58.107080Z",
     "start_time": "2022-05-27T16:10:58.092130Z"
    }
   },
   "outputs": [],
   "source": [
    "# deleting rows with nan on GDP\n",
    "data.drop(data[data['GDP'].isnull()].index, inplace= True)"
   ]
  },
  {
   "cell_type": "markdown",
   "id": "a96b59db",
   "metadata": {},
   "source": [
    "#### Population Column"
   ]
  },
  {
   "cell_type": "code",
   "execution_count": 39,
   "id": "90ddd2de",
   "metadata": {
    "ExecuteTime": {
     "end_time": "2022-05-27T16:10:58.122555Z",
     "start_time": "2022-05-27T16:10:58.108077Z"
    }
   },
   "outputs": [
    {
     "data": {
      "text/plain": [
       "228"
      ]
     },
     "execution_count": 39,
     "metadata": {},
     "output_type": "execute_result"
    }
   ],
   "source": [
    "data['Population'].isnull().sum()"
   ]
  },
  {
   "cell_type": "code",
   "execution_count": 40,
   "id": "9b3326f1",
   "metadata": {
    "ExecuteTime": {
     "end_time": "2022-05-27T16:10:58.137936Z",
     "start_time": "2022-05-27T16:10:58.124980Z"
    }
   },
   "outputs": [
    {
     "data": {
      "text/plain": [
       "224"
      ]
     },
     "execution_count": 40,
     "metadata": {},
     "output_type": "execute_result"
    }
   ],
   "source": [
    "# fill nan with mean according to each country \n",
    "data['Population'] = data['Population'].fillna(data.groupby('Country')['Population'].transform('mean'))\n",
    "data['Population'].isnull().sum()"
   ]
  },
  {
   "cell_type": "code",
   "execution_count": 41,
   "id": "9be57962",
   "metadata": {
    "ExecuteTime": {
     "end_time": "2022-05-27T16:10:58.217275Z",
     "start_time": "2022-05-27T16:10:58.138933Z"
    }
   },
   "outputs": [
    {
     "data": {
      "text/html": [
       "<div>\n",
       "<style scoped>\n",
       "    .dataframe tbody tr th:only-of-type {\n",
       "        vertical-align: middle;\n",
       "    }\n",
       "\n",
       "    .dataframe tbody tr th {\n",
       "        vertical-align: top;\n",
       "    }\n",
       "\n",
       "    .dataframe thead th {\n",
       "        text-align: right;\n",
       "    }\n",
       "</style>\n",
       "<table border=\"1\" class=\"dataframe\">\n",
       "  <thead>\n",
       "    <tr style=\"text-align: right;\">\n",
       "      <th></th>\n",
       "      <th>Country</th>\n",
       "      <th>Number of NaN Values</th>\n",
       "    </tr>\n",
       "  </thead>\n",
       "  <tbody>\n",
       "    <tr>\n",
       "      <th>4</th>\n",
       "      <td>Antigua and Barbuda</td>\n",
       "      <td>16</td>\n",
       "    </tr>\n",
       "    <tr>\n",
       "      <th>10</th>\n",
       "      <td>Bahrain</td>\n",
       "      <td>16</td>\n",
       "    </tr>\n",
       "    <tr>\n",
       "      <th>12</th>\n",
       "      <td>Barbados</td>\n",
       "      <td>16</td>\n",
       "    </tr>\n",
       "    <tr>\n",
       "      <th>21</th>\n",
       "      <td>Brunei Darussalam</td>\n",
       "      <td>16</td>\n",
       "    </tr>\n",
       "    <tr>\n",
       "      <th>37</th>\n",
       "      <td>Cuba</td>\n",
       "      <td>16</td>\n",
       "    </tr>\n",
       "    <tr>\n",
       "      <th>54</th>\n",
       "      <td>Grenada</td>\n",
       "      <td>16</td>\n",
       "    </tr>\n",
       "    <tr>\n",
       "      <th>72</th>\n",
       "      <td>Kuwait</td>\n",
       "      <td>16</td>\n",
       "    </tr>\n",
       "    <tr>\n",
       "      <th>77</th>\n",
       "      <td>Libya</td>\n",
       "      <td>16</td>\n",
       "    </tr>\n",
       "    <tr>\n",
       "      <th>97</th>\n",
       "      <td>New Zealand</td>\n",
       "      <td>16</td>\n",
       "    </tr>\n",
       "    <tr>\n",
       "      <th>101</th>\n",
       "      <td>Oman</td>\n",
       "      <td>16</td>\n",
       "    </tr>\n",
       "    <tr>\n",
       "      <th>110</th>\n",
       "      <td>Qatar</td>\n",
       "      <td>16</td>\n",
       "    </tr>\n",
       "    <tr>\n",
       "      <th>116</th>\n",
       "      <td>Saudi Arabia</td>\n",
       "      <td>16</td>\n",
       "    </tr>\n",
       "    <tr>\n",
       "      <th>121</th>\n",
       "      <td>Singapore</td>\n",
       "      <td>16</td>\n",
       "    </tr>\n",
       "    <tr>\n",
       "      <th>141</th>\n",
       "      <td>United Arab Emirates</td>\n",
       "      <td>16</td>\n",
       "    </tr>\n",
       "  </tbody>\n",
       "</table>\n",
       "</div>"
      ],
      "text/plain": [
       "                  Country  Number of NaN Values\n",
       "4     Antigua and Barbuda                    16\n",
       "10                Bahrain                    16\n",
       "12               Barbados                    16\n",
       "21      Brunei Darussalam                    16\n",
       "37                   Cuba                    16\n",
       "54                Grenada                    16\n",
       "72                 Kuwait                    16\n",
       "77                  Libya                    16\n",
       "97            New Zealand                    16\n",
       "101                  Oman                    16\n",
       "110                 Qatar                    16\n",
       "116          Saudi Arabia                    16\n",
       "121             Singapore                    16\n",
       "141  United Arab Emirates                    16"
      ]
     },
     "execution_count": 41,
     "metadata": {},
     "output_type": "execute_result"
    }
   ],
   "source": [
    "# check countries with no values for population: \n",
    "col4= 'Population'\n",
    "check_nan(col4)"
   ]
  },
  {
   "cell_type": "code",
   "execution_count": 42,
   "id": "7146235d",
   "metadata": {
    "ExecuteTime": {
     "end_time": "2022-05-27T16:10:58.279413Z",
     "start_time": "2022-05-27T16:10:58.219345Z"
    }
   },
   "outputs": [
    {
     "name": "stdout",
     "output_type": "stream",
     "text": [
      "We have 14 countries without data for Population.\n"
     ]
    }
   ],
   "source": [
    "print('We have', len(check_nan(col4)['Country']), 'countries without data for Population.')"
   ]
  },
  {
   "cell_type": "code",
   "execution_count": 43,
   "id": "6a9f6c94",
   "metadata": {
    "ExecuteTime": {
     "end_time": "2022-05-27T16:10:58.294993Z",
     "start_time": "2022-05-27T16:10:58.280327Z"
    }
   },
   "outputs": [],
   "source": [
    "# delete this countries with no data on population\n",
    "data.drop(data[data['Population'].isnull()].index, inplace= True)"
   ]
  },
  {
   "cell_type": "markdown",
   "id": "7911d21a",
   "metadata": {},
   "source": [
    "#### Polio Column "
   ]
  },
  {
   "cell_type": "code",
   "execution_count": 44,
   "id": "fedd9e6f",
   "metadata": {
    "ExecuteTime": {
     "end_time": "2022-05-27T16:10:58.310519Z",
     "start_time": "2022-05-27T16:10:58.296916Z"
    }
   },
   "outputs": [
    {
     "data": {
      "text/plain": [
       "8"
      ]
     },
     "execution_count": 44,
     "metadata": {},
     "output_type": "execute_result"
    }
   ],
   "source": [
    "data['Polio'].isnull().sum()"
   ]
  },
  {
   "cell_type": "markdown",
   "id": "fdade593",
   "metadata": {},
   "source": [
    "We have 8 observations with nan values on this column, let´s fill them with the mean for their respective country: "
   ]
  },
  {
   "cell_type": "code",
   "execution_count": 45,
   "id": "e54d3fde",
   "metadata": {
    "ExecuteTime": {
     "end_time": "2022-05-27T16:10:58.326454Z",
     "start_time": "2022-05-27T16:10:58.311506Z"
    }
   },
   "outputs": [
    {
     "data": {
      "text/plain": [
       "0"
      ]
     },
     "execution_count": 45,
     "metadata": {},
     "output_type": "execute_result"
    }
   ],
   "source": [
    "data['Polio'] = data['Polio'].fillna(data.groupby('Country')['Polio'].transform('mean'))\n",
    "data['Polio'].isnull().sum()"
   ]
  },
  {
   "cell_type": "markdown",
   "id": "2ab8490b",
   "metadata": {},
   "source": [
    "Now we don't have any missing values for Polio column. "
   ]
  },
  {
   "cell_type": "markdown",
   "id": "7928c772",
   "metadata": {
    "ExecuteTime": {
     "end_time": "2022-05-25T17:59:41.953275Z",
     "start_time": "2022-05-25T17:59:41.936621Z"
    }
   },
   "source": [
    "#### Diphteria Column"
   ]
  },
  {
   "cell_type": "code",
   "execution_count": 46,
   "id": "89a8b487",
   "metadata": {
    "ExecuteTime": {
     "end_time": "2022-05-27T16:10:58.342350Z",
     "start_time": "2022-05-27T16:10:58.329039Z"
    }
   },
   "outputs": [
    {
     "data": {
      "text/plain": [
       "8"
      ]
     },
     "execution_count": 46,
     "metadata": {},
     "output_type": "execute_result"
    }
   ],
   "source": [
    "data['Diphtheria '].isnull().sum()"
   ]
  },
  {
   "cell_type": "markdown",
   "id": "6a940614",
   "metadata": {},
   "source": [
    "Again we will fill this observations with the mean for their respective country: "
   ]
  },
  {
   "cell_type": "code",
   "execution_count": 47,
   "id": "19924132",
   "metadata": {
    "ExecuteTime": {
     "end_time": "2022-05-27T16:10:58.358183Z",
     "start_time": "2022-05-27T16:10:58.343894Z"
    }
   },
   "outputs": [
    {
     "data": {
      "text/plain": [
       "0"
      ]
     },
     "execution_count": 47,
     "metadata": {},
     "output_type": "execute_result"
    }
   ],
   "source": [
    "data['Diphtheria '] = data['Diphtheria '].fillna(data.groupby('Country')['Diphtheria '].transform('mean'))\n",
    "data['Diphtheria '].isnull().sum()"
   ]
  },
  {
   "cell_type": "markdown",
   "id": "9cb2df41",
   "metadata": {},
   "source": [
    "We don't have null values in this column anymore. "
   ]
  },
  {
   "cell_type": "code",
   "execution_count": 48,
   "id": "c4cab37b",
   "metadata": {
    "ExecuteTime": {
     "end_time": "2022-05-27T16:10:58.373018Z",
     "start_time": "2022-05-27T16:10:58.359184Z"
    }
   },
   "outputs": [
    {
     "data": {
      "text/plain": [
       "Country                            0\n",
       "Year                               0\n",
       "Status                             0\n",
       "Life expectancy                    0\n",
       "Adult Mortality                    0\n",
       "infant deaths                      0\n",
       "Alcohol                            0\n",
       "percentage expenditure             0\n",
       "Hepatitis B                        0\n",
       "Measles                            0\n",
       " BMI                               0\n",
       "under-five deaths                  0\n",
       "Polio                              0\n",
       "Total expenditure                  0\n",
       "Diphtheria                         0\n",
       " HIV/AIDS                          0\n",
       "GDP                                0\n",
       "Population                         0\n",
       " thinness  1-19 years              0\n",
       " thinness 5-9 years                0\n",
       "Income composition of resources    0\n",
       "Schooling                          0\n",
       "dtype: int64"
      ]
     },
     "execution_count": 48,
     "metadata": {},
     "output_type": "execute_result"
    }
   ],
   "source": [
    "data.isnull().sum()"
   ]
  },
  {
   "cell_type": "markdown",
   "id": "04250502",
   "metadata": {},
   "source": [
    "Now we don't have any nan values in our dataset. "
   ]
  },
  {
   "cell_type": "markdown",
   "id": "65e21048",
   "metadata": {},
   "source": [
    "#### Exploratory Analysis"
   ]
  },
  {
   "cell_type": "code",
   "execution_count": 49,
   "id": "82bde274",
   "metadata": {
    "ExecuteTime": {
     "end_time": "2022-05-27T16:10:58.388068Z",
     "start_time": "2022-05-27T16:10:58.374006Z"
    }
   },
   "outputs": [
    {
     "data": {
      "text/plain": [
       "(2128, 22)"
      ]
     },
     "execution_count": 49,
     "metadata": {},
     "output_type": "execute_result"
    }
   ],
   "source": [
    "data.shape"
   ]
  },
  {
   "cell_type": "code",
   "execution_count": 50,
   "id": "8baa4e43",
   "metadata": {
    "ExecuteTime": {
     "end_time": "2022-05-27T16:10:58.403017Z",
     "start_time": "2022-05-27T16:10:58.389053Z"
    }
   },
   "outputs": [
    {
     "name": "stdout",
     "output_type": "stream",
     "text": [
      "We have observations for 133 different countries.\n"
     ]
    }
   ],
   "source": [
    "print('We have observations for', len(data.Country.unique()), 'different countries.')"
   ]
  },
  {
   "cell_type": "markdown",
   "id": "36297202",
   "metadata": {},
   "source": [
    "After cleaning the data, our study about Life Expectancy will center around **133 countries.**"
   ]
  },
  {
   "cell_type": "code",
   "execution_count": 51,
   "id": "3376406f",
   "metadata": {
    "ExecuteTime": {
     "end_time": "2022-05-27T16:10:58.418319Z",
     "start_time": "2022-05-27T16:10:58.405003Z"
    }
   },
   "outputs": [
    {
     "name": "stdout",
     "output_type": "stream",
     "text": [
      "<class 'pandas.core.frame.DataFrame'>\n",
      "Int64Index: 2128 entries, 0 to 2937\n",
      "Data columns (total 22 columns):\n",
      " #   Column                           Non-Null Count  Dtype  \n",
      "---  ------                           --------------  -----  \n",
      " 0   Country                          2128 non-null   object \n",
      " 1   Year                             2128 non-null   int64  \n",
      " 2   Status                           2128 non-null   object \n",
      " 3   Life expectancy                  2128 non-null   float64\n",
      " 4   Adult Mortality                  2128 non-null   float64\n",
      " 5   infant deaths                    2128 non-null   int64  \n",
      " 6   Alcohol                          2128 non-null   float64\n",
      " 7   percentage expenditure           2128 non-null   float64\n",
      " 8   Hepatitis B                      2128 non-null   float64\n",
      " 9   Measles                          2128 non-null   int64  \n",
      " 10   BMI                             2128 non-null   float64\n",
      " 11  under-five deaths                2128 non-null   int64  \n",
      " 12  Polio                            2128 non-null   float64\n",
      " 13  Total expenditure                2128 non-null   float64\n",
      " 14  Diphtheria                       2128 non-null   float64\n",
      " 15   HIV/AIDS                        2128 non-null   float64\n",
      " 16  GDP                              2128 non-null   float64\n",
      " 17  Population                       2128 non-null   float64\n",
      " 18   thinness  1-19 years            2128 non-null   float64\n",
      " 19   thinness 5-9 years              2128 non-null   float64\n",
      " 20  Income composition of resources  2128 non-null   float64\n",
      " 21  Schooling                        2128 non-null   float64\n",
      "dtypes: float64(16), int64(4), object(2)\n",
      "memory usage: 382.4+ KB\n"
     ]
    }
   ],
   "source": [
    "data.info()"
   ]
  },
  {
   "cell_type": "code",
   "execution_count": 52,
   "id": "e31cd7d5",
   "metadata": {
    "ExecuteTime": {
     "end_time": "2022-05-27T16:10:58.479588Z",
     "start_time": "2022-05-27T16:10:58.419535Z"
    }
   },
   "outputs": [
    {
     "data": {
      "text/html": [
       "<div>\n",
       "<style scoped>\n",
       "    .dataframe tbody tr th:only-of-type {\n",
       "        vertical-align: middle;\n",
       "    }\n",
       "\n",
       "    .dataframe tbody tr th {\n",
       "        vertical-align: top;\n",
       "    }\n",
       "\n",
       "    .dataframe thead th {\n",
       "        text-align: right;\n",
       "    }\n",
       "</style>\n",
       "<table border=\"1\" class=\"dataframe\">\n",
       "  <thead>\n",
       "    <tr style=\"text-align: right;\">\n",
       "      <th></th>\n",
       "      <th>Year</th>\n",
       "      <th>Life expectancy</th>\n",
       "      <th>Adult Mortality</th>\n",
       "      <th>infant deaths</th>\n",
       "      <th>Alcohol</th>\n",
       "      <th>percentage expenditure</th>\n",
       "      <th>Hepatitis B</th>\n",
       "      <th>Measles</th>\n",
       "      <th>BMI</th>\n",
       "      <th>under-five deaths</th>\n",
       "      <th>Polio</th>\n",
       "      <th>Total expenditure</th>\n",
       "      <th>Diphtheria</th>\n",
       "      <th>HIV/AIDS</th>\n",
       "      <th>GDP</th>\n",
       "      <th>Population</th>\n",
       "      <th>thinness  1-19 years</th>\n",
       "      <th>thinness 5-9 years</th>\n",
       "      <th>Income composition of resources</th>\n",
       "      <th>Schooling</th>\n",
       "    </tr>\n",
       "  </thead>\n",
       "  <tbody>\n",
       "    <tr>\n",
       "      <th>count</th>\n",
       "      <td>2128.00</td>\n",
       "      <td>2128.00</td>\n",
       "      <td>2128.00</td>\n",
       "      <td>2128.00</td>\n",
       "      <td>2128.00</td>\n",
       "      <td>2128.00</td>\n",
       "      <td>2128.00</td>\n",
       "      <td>2128.00</td>\n",
       "      <td>2128.00</td>\n",
       "      <td>2128.00</td>\n",
       "      <td>2128.00</td>\n",
       "      <td>2128.00</td>\n",
       "      <td>2128.00</td>\n",
       "      <td>2128.00</td>\n",
       "      <td>2128.00</td>\n",
       "      <td>2.128000e+03</td>\n",
       "      <td>2128.00</td>\n",
       "      <td>2128.00</td>\n",
       "      <td>2128.00</td>\n",
       "      <td>2128.00</td>\n",
       "    </tr>\n",
       "    <tr>\n",
       "      <th>mean</th>\n",
       "      <td>2007.50</td>\n",
       "      <td>68.14</td>\n",
       "      <td>174.30</td>\n",
       "      <td>35.90</td>\n",
       "      <td>4.44</td>\n",
       "      <td>640.07</td>\n",
       "      <td>77.27</td>\n",
       "      <td>2657.47</td>\n",
       "      <td>36.69</td>\n",
       "      <td>49.82</td>\n",
       "      <td>80.57</td>\n",
       "      <td>5.89</td>\n",
       "      <td>80.70</td>\n",
       "      <td>2.17</td>\n",
       "      <td>5408.64</td>\n",
       "      <td>1.340066e+07</td>\n",
       "      <td>5.11</td>\n",
       "      <td>5.18</td>\n",
       "      <td>0.61</td>\n",
       "      <td>11.69</td>\n",
       "    </tr>\n",
       "    <tr>\n",
       "      <th>std</th>\n",
       "      <td>4.61</td>\n",
       "      <td>9.61</td>\n",
       "      <td>129.76</td>\n",
       "      <td>136.22</td>\n",
       "      <td>3.96</td>\n",
       "      <td>1710.80</td>\n",
       "      <td>25.26</td>\n",
       "      <td>11912.24</td>\n",
       "      <td>19.84</td>\n",
       "      <td>185.15</td>\n",
       "      <td>24.17</td>\n",
       "      <td>2.26</td>\n",
       "      <td>24.17</td>\n",
       "      <td>5.83</td>\n",
       "      <td>11374.23</td>\n",
       "      <td>6.315714e+07</td>\n",
       "      <td>4.71</td>\n",
       "      <td>4.81</td>\n",
       "      <td>0.20</td>\n",
       "      <td>3.20</td>\n",
       "    </tr>\n",
       "    <tr>\n",
       "      <th>min</th>\n",
       "      <td>2000.00</td>\n",
       "      <td>36.30</td>\n",
       "      <td>1.00</td>\n",
       "      <td>0.00</td>\n",
       "      <td>0.01</td>\n",
       "      <td>0.00</td>\n",
       "      <td>2.00</td>\n",
       "      <td>0.00</td>\n",
       "      <td>1.40</td>\n",
       "      <td>0.00</td>\n",
       "      <td>3.00</td>\n",
       "      <td>0.37</td>\n",
       "      <td>2.00</td>\n",
       "      <td>0.10</td>\n",
       "      <td>1.68</td>\n",
       "      <td>3.400000e+01</td>\n",
       "      <td>0.10</td>\n",
       "      <td>0.10</td>\n",
       "      <td>0.00</td>\n",
       "      <td>0.00</td>\n",
       "    </tr>\n",
       "    <tr>\n",
       "      <th>25%</th>\n",
       "      <td>2003.75</td>\n",
       "      <td>62.00</td>\n",
       "      <td>76.00</td>\n",
       "      <td>1.00</td>\n",
       "      <td>0.83</td>\n",
       "      <td>19.88</td>\n",
       "      <td>68.00</td>\n",
       "      <td>0.00</td>\n",
       "      <td>18.40</td>\n",
       "      <td>1.00</td>\n",
       "      <td>75.00</td>\n",
       "      <td>4.37</td>\n",
       "      <td>76.00</td>\n",
       "      <td>0.10</td>\n",
       "      <td>395.91</td>\n",
       "      <td>1.989615e+05</td>\n",
       "      <td>1.60</td>\n",
       "      <td>1.60</td>\n",
       "      <td>0.48</td>\n",
       "      <td>9.80</td>\n",
       "    </tr>\n",
       "    <tr>\n",
       "      <th>50%</th>\n",
       "      <td>2007.50</td>\n",
       "      <td>69.95</td>\n",
       "      <td>152.00</td>\n",
       "      <td>4.00</td>\n",
       "      <td>3.74</td>\n",
       "      <td>83.68</td>\n",
       "      <td>87.00</td>\n",
       "      <td>20.00</td>\n",
       "      <td>38.85</td>\n",
       "      <td>4.00</td>\n",
       "      <td>91.00</td>\n",
       "      <td>5.80</td>\n",
       "      <td>91.00</td>\n",
       "      <td>0.10</td>\n",
       "      <td>1351.18</td>\n",
       "      <td>1.433672e+06</td>\n",
       "      <td>3.40</td>\n",
       "      <td>3.40</td>\n",
       "      <td>0.65</td>\n",
       "      <td>11.90</td>\n",
       "    </tr>\n",
       "    <tr>\n",
       "      <th>75%</th>\n",
       "      <td>2011.25</td>\n",
       "      <td>74.80</td>\n",
       "      <td>241.25</td>\n",
       "      <td>24.00</td>\n",
       "      <td>7.16</td>\n",
       "      <td>431.37</td>\n",
       "      <td>95.00</td>\n",
       "      <td>459.25</td>\n",
       "      <td>55.20</td>\n",
       "      <td>34.25</td>\n",
       "      <td>96.00</td>\n",
       "      <td>7.33</td>\n",
       "      <td>96.00</td>\n",
       "      <td>1.30</td>\n",
       "      <td>4494.29</td>\n",
       "      <td>7.785482e+06</td>\n",
       "      <td>7.52</td>\n",
       "      <td>7.60</td>\n",
       "      <td>0.75</td>\n",
       "      <td>13.80</td>\n",
       "    </tr>\n",
       "    <tr>\n",
       "      <th>max</th>\n",
       "      <td>2015.00</td>\n",
       "      <td>89.00</td>\n",
       "      <td>723.00</td>\n",
       "      <td>1800.00</td>\n",
       "      <td>17.87</td>\n",
       "      <td>18961.35</td>\n",
       "      <td>99.00</td>\n",
       "      <td>212183.00</td>\n",
       "      <td>77.60</td>\n",
       "      <td>2500.00</td>\n",
       "      <td>99.00</td>\n",
       "      <td>14.39</td>\n",
       "      <td>99.00</td>\n",
       "      <td>50.60</td>\n",
       "      <td>119172.74</td>\n",
       "      <td>1.293859e+09</td>\n",
       "      <td>27.70</td>\n",
       "      <td>28.60</td>\n",
       "      <td>0.94</td>\n",
       "      <td>20.70</td>\n",
       "    </tr>\n",
       "  </tbody>\n",
       "</table>\n",
       "</div>"
      ],
      "text/plain": [
       "          Year  Life expectancy   Adult Mortality  infant deaths  Alcohol  \\\n",
       "count  2128.00           2128.00          2128.00        2128.00  2128.00   \n",
       "mean   2007.50             68.14           174.30          35.90     4.44   \n",
       "std       4.61              9.61           129.76         136.22     3.96   \n",
       "min    2000.00             36.30             1.00           0.00     0.01   \n",
       "25%    2003.75             62.00            76.00           1.00     0.83   \n",
       "50%    2007.50             69.95           152.00           4.00     3.74   \n",
       "75%    2011.25             74.80           241.25          24.00     7.16   \n",
       "max    2015.00             89.00           723.00        1800.00    17.87   \n",
       "\n",
       "       percentage expenditure  Hepatitis B   Measles      BMI   \\\n",
       "count                 2128.00      2128.00    2128.00  2128.00   \n",
       "mean                   640.07        77.27    2657.47    36.69   \n",
       "std                   1710.80        25.26   11912.24    19.84   \n",
       "min                      0.00         2.00       0.00     1.40   \n",
       "25%                     19.88        68.00       0.00    18.40   \n",
       "50%                     83.68        87.00      20.00    38.85   \n",
       "75%                    431.37        95.00     459.25    55.20   \n",
       "max                  18961.35        99.00  212183.00    77.60   \n",
       "\n",
       "       under-five deaths     Polio  Total expenditure  Diphtheria    HIV/AIDS  \\\n",
       "count             2128.00  2128.00            2128.00      2128.00    2128.00   \n",
       "mean                49.82    80.57               5.89        80.70       2.17   \n",
       "std                185.15    24.17               2.26        24.17       5.83   \n",
       "min                  0.00     3.00               0.37         2.00       0.10   \n",
       "25%                  1.00    75.00               4.37        76.00       0.10   \n",
       "50%                  4.00    91.00               5.80        91.00       0.10   \n",
       "75%                 34.25    96.00               7.33        96.00       1.30   \n",
       "max               2500.00    99.00              14.39        99.00      50.60   \n",
       "\n",
       "             GDP    Population   thinness  1-19 years   thinness 5-9 years  \\\n",
       "count    2128.00  2.128000e+03                2128.00              2128.00   \n",
       "mean     5408.64  1.340066e+07                   5.11                 5.18   \n",
       "std     11374.23  6.315714e+07                   4.71                 4.81   \n",
       "min         1.68  3.400000e+01                   0.10                 0.10   \n",
       "25%       395.91  1.989615e+05                   1.60                 1.60   \n",
       "50%      1351.18  1.433672e+06                   3.40                 3.40   \n",
       "75%      4494.29  7.785482e+06                   7.52                 7.60   \n",
       "max    119172.74  1.293859e+09                  27.70                28.60   \n",
       "\n",
       "       Income composition of resources  Schooling  \n",
       "count                          2128.00    2128.00  \n",
       "mean                              0.61      11.69  \n",
       "std                               0.20       3.20  \n",
       "min                               0.00       0.00  \n",
       "25%                               0.48       9.80  \n",
       "50%                               0.65      11.90  \n",
       "75%                               0.75      13.80  \n",
       "max                               0.94      20.70  "
      ]
     },
     "execution_count": 52,
     "metadata": {},
     "output_type": "execute_result"
    }
   ],
   "source": [
    "# summary statistics \n",
    "data.describe().round(2)"
   ]
  },
  {
   "cell_type": "markdown",
   "id": "bef36281",
   "metadata": {},
   "source": [
    "We notice that the dataset is composed of features that seem to have in general many outliers, we see that we have very high standard deviations and maximum values compared to the mean in many of our features. \n",
    "\n",
    "Let´s see this graphically, first we will look for the distribution on the numeric columns: "
   ]
  },
  {
   "cell_type": "code",
   "execution_count": 53,
   "id": "ac84b493",
   "metadata": {
    "ExecuteTime": {
     "end_time": "2022-05-27T16:10:58.495589Z",
     "start_time": "2022-05-27T16:10:58.482591Z"
    }
   },
   "outputs": [],
   "source": [
    "plot_cols = ['Adult Mortality',\n",
    "       'infant deaths', 'Alcohol', 'percentage expenditure', 'Hepatitis B',\n",
    "       'Measles ', ' BMI ', 'under-five deaths ', 'Polio', 'Total expenditure',\n",
    "       'Diphtheria ', ' HIV/AIDS', 'GDP', 'Population',\n",
    "       ' thinness  1-19 years', ' thinness 5-9 years',\n",
    "       'Income composition of resources', 'Schooling']"
   ]
  },
  {
   "cell_type": "code",
   "execution_count": 91,
   "id": "4e736b66",
   "metadata": {
    "ExecuteTime": {
     "end_time": "2022-05-27T16:23:58.408245Z",
     "start_time": "2022-05-27T16:23:55.990779Z"
    }
   },
   "outputs": [
    {
     "data": {
      "image/png": "[encoded data removed]",
      "text/plain": [
       "<Figure size 1080x1584 with 18 Axes>"
      ]
     },
     "metadata": {
      "needs_background": "light"
     },
     "output_type": "display_data"
    }
   ],
   "source": [
    "colors =[\"#9979c1\", \"#eba2ae\", \"#8dc146\"]\n",
    "\n",
    "f, axes = plt.subplots(6,3, figsize = (15, 22))\n",
    "f.suptitle('Distribution of predictors of Life Expectancy', fontsize = 17 )\n",
    "\n",
    "for i, ax in enumerate(axes.flatten()): \n",
    "    sns.distplot(data[plot_cols].iloc[: , i], color = colors[i%3], ax = ax, kde_kws=dict(linewidth=3)); "
   ]
  },
  {
   "cell_type": "markdown",
   "id": "75dd7b9e",
   "metadata": {},
   "source": [
    "We see that most of the distributions do not look normal, some even appear to be multimodal, probably due to the differences between developing and developed countries. "
   ]
  },
  {
   "cell_type": "code",
   "execution_count": 55,
   "id": "e7af5c63",
   "metadata": {
    "ExecuteTime": {
     "end_time": "2022-05-27T16:11:01.095703Z",
     "start_time": "2022-05-27T16:11:01.081867Z"
    }
   },
   "outputs": [
    {
     "data": {
      "text/plain": [
       "Developing    0.857143\n",
       "Developed     0.142857\n",
       "Name: Status, dtype: float64"
      ]
     },
     "execution_count": 55,
     "metadata": {},
     "output_type": "execute_result"
    }
   ],
   "source": [
    "data.Status.value_counts(normalize= True)"
   ]
  },
  {
   "cell_type": "markdown",
   "id": "2166433d",
   "metadata": {},
   "source": [
    "The dataset is composed of 85% of developing countries and 15% of developed countries. "
   ]
  },
  {
   "cell_type": "markdown",
   "id": "ad3554d3",
   "metadata": {
    "ExecuteTime": {
     "end_time": "2022-05-25T18:17:01.967601Z",
     "start_time": "2022-05-25T18:17:01.960891Z"
    }
   },
   "source": [
    "Now let´s chech the distribution of our target: Life Expectancy. "
   ]
  },
  {
   "cell_type": "code",
   "execution_count": 56,
   "id": "978e3b7b",
   "metadata": {
    "ExecuteTime": {
     "end_time": "2022-05-27T16:11:01.265107Z",
     "start_time": "2022-05-27T16:11:01.096700Z"
    }
   },
   "outputs": [
    {
     "data": {
      "text/plain": [
       "<AxesSubplot:xlabel='Life expectancy ', ylabel='Density'>"
      ]
     },
     "execution_count": 56,
     "metadata": {},
     "output_type": "execute_result"
    },
    {
     "data": {
      "image/png": "[encoded data removed]",
      "text/plain": [
       "<Figure size 432x288 with 1 Axes>"
      ]
     },
     "metadata": {
      "needs_background": "light"
     },
     "output_type": "display_data"
    }
   ],
   "source": [
    "# distribution of the target \n",
    "sns.distplot(data['Life expectancy '], color= \"#9979c1\")"
   ]
  },
  {
   "cell_type": "markdown",
   "id": "7d75298a",
   "metadata": {},
   "source": [
    "This features has a left skewed distribution with outliers in low values. "
   ]
  },
  {
   "cell_type": "markdown",
   "id": "b2072830",
   "metadata": {},
   "source": [
    "We can draw boxplots of these features separating observations by developed and developing countries: "
   ]
  },
  {
   "cell_type": "code",
   "execution_count": 92,
   "id": "baa38bce",
   "metadata": {
    "ExecuteTime": {
     "end_time": "2022-05-27T16:24:06.750386Z",
     "start_time": "2022-05-27T16:24:05.641473Z"
    }
   },
   "outputs": [
    {
     "data": {
      "image/png": "[encoded data removed]",
      "text/plain": [
       "<Figure size 1080x1584 with 18 Axes>"
      ]
     },
     "metadata": {
      "needs_background": "light"
     },
     "output_type": "display_data"
    }
   ],
   "source": [
    "colors =[\"#9979c1\", \"#eba2ae\", \"#8dc146\"]\n",
    "\n",
    "f, axes = plt.subplots(6,3, figsize = (15, 22))\n",
    "f.suptitle('Boxplot of predictors of Life Expectancy divided by Status (Developed vs Developing Countries)', fontsize = 17 )\n",
    "\n",
    "for i, ax in enumerate(axes.flatten()): \n",
    "    sns.boxplot(y = data[plot_cols].iloc[: , i], color = colors[i%3], ax = ax, x = data['Status']); \n"
   ]
  },
  {
   "cell_type": "markdown",
   "id": "0fbb48f1",
   "metadata": {},
   "source": [
    "Clearly there are many differences between developed and developing countries, with outliers being much more significant in the latter group. Let´s check our target: "
   ]
  },
  {
   "cell_type": "code",
   "execution_count": 58,
   "id": "4b60c0c0",
   "metadata": {
    "ExecuteTime": {
     "end_time": "2022-05-27T16:11:02.467463Z",
     "start_time": "2022-05-27T16:11:02.389410Z"
    }
   },
   "outputs": [
    {
     "data": {
      "image/png": "[encoded data removed]",
      "text/plain": [
       "<Figure size 504x360 with 1 Axes>"
      ]
     },
     "metadata": {
      "needs_background": "light"
     },
     "output_type": "display_data"
    }
   ],
   "source": [
    "plt.figure(figsize = (7,5))\n",
    "\n",
    "sns.boxplot(x= data['Status'], y = data['Life expectancy '], palette = [\"#9979c1\", \"#eba2ae\"])\n",
    "plt.title('Life Expectancy Boxplot divided by Status (Developed vs Developing Countries)'); "
   ]
  },
  {
   "cell_type": "markdown",
   "id": "be01e6f5",
   "metadata": {},
   "source": [
    "The values are much higher for developed countries and lower and more spread for developing countries. "
   ]
  },
  {
   "cell_type": "markdown",
   "id": "4e5dfa13",
   "metadata": {
    "ExecuteTime": {
     "end_time": "2022-05-25T18:35:49.318988Z",
     "start_time": "2022-05-25T18:35:49.306036Z"
    }
   },
   "source": [
    "Before creating our model we will change the order of the columns: "
   ]
  },
  {
   "cell_type": "code",
   "execution_count": 59,
   "id": "eb919507",
   "metadata": {
    "ExecuteTime": {
     "end_time": "2022-05-27T16:11:02.483219Z",
     "start_time": "2022-05-27T16:11:02.468461Z"
    }
   },
   "outputs": [],
   "source": [
    "#change order of the columns \n",
    "cols = ['Life expectancy ','Country', 'Year', 'Status', 'Adult Mortality',\n",
    "       'infant deaths', 'Alcohol', 'percentage expenditure', 'Hepatitis B',\n",
    "       'Measles ', ' BMI ', 'under-five deaths ', 'Polio', 'Total expenditure',\n",
    "       'Diphtheria ', ' HIV/AIDS', 'GDP', 'Population',\n",
    "       ' thinness  1-19 years', ' thinness 5-9 years',\n",
    "       'Income composition of resources', 'Schooling']\n",
    "data = data[cols]"
   ]
  },
  {
   "cell_type": "code",
   "execution_count": 60,
   "id": "c1df6425",
   "metadata": {
    "ExecuteTime": {
     "end_time": "2022-05-27T16:11:02.513716Z",
     "start_time": "2022-05-27T16:11:02.484561Z"
    }
   },
   "outputs": [
    {
     "data": {
      "text/html": [
       "<div>\n",
       "<style scoped>\n",
       "    .dataframe tbody tr th:only-of-type {\n",
       "        vertical-align: middle;\n",
       "    }\n",
       "\n",
       "    .dataframe tbody tr th {\n",
       "        vertical-align: top;\n",
       "    }\n",
       "\n",
       "    .dataframe thead th {\n",
       "        text-align: right;\n",
       "    }\n",
       "</style>\n",
       "<table border=\"1\" class=\"dataframe\">\n",
       "  <thead>\n",
       "    <tr style=\"text-align: right;\">\n",
       "      <th></th>\n",
       "      <th>Life expectancy</th>\n",
       "      <th>Country</th>\n",
       "      <th>Year</th>\n",
       "      <th>Status</th>\n",
       "      <th>Adult Mortality</th>\n",
       "      <th>infant deaths</th>\n",
       "      <th>Alcohol</th>\n",
       "      <th>percentage expenditure</th>\n",
       "      <th>Hepatitis B</th>\n",
       "      <th>Measles</th>\n",
       "      <th>BMI</th>\n",
       "      <th>under-five deaths</th>\n",
       "      <th>Polio</th>\n",
       "      <th>Total expenditure</th>\n",
       "      <th>Diphtheria</th>\n",
       "      <th>HIV/AIDS</th>\n",
       "      <th>GDP</th>\n",
       "      <th>Population</th>\n",
       "      <th>thinness  1-19 years</th>\n",
       "      <th>thinness 5-9 years</th>\n",
       "      <th>Income composition of resources</th>\n",
       "      <th>Schooling</th>\n",
       "    </tr>\n",
       "  </thead>\n",
       "  <tbody>\n",
       "    <tr>\n",
       "      <th>0</th>\n",
       "      <td>65.0</td>\n",
       "      <td>Afghanistan</td>\n",
       "      <td>2015</td>\n",
       "      <td>Developing</td>\n",
       "      <td>263.0</td>\n",
       "      <td>62</td>\n",
       "      <td>0.01</td>\n",
       "      <td>71.279624</td>\n",
       "      <td>65.0</td>\n",
       "      <td>1154</td>\n",
       "      <td>19.1</td>\n",
       "      <td>83</td>\n",
       "      <td>6.0</td>\n",
       "      <td>8.16</td>\n",
       "      <td>65.0</td>\n",
       "      <td>0.1</td>\n",
       "      <td>584.259210</td>\n",
       "      <td>33736494.0</td>\n",
       "      <td>17.2</td>\n",
       "      <td>17.3</td>\n",
       "      <td>0.479</td>\n",
       "      <td>10.1</td>\n",
       "    </tr>\n",
       "    <tr>\n",
       "      <th>1</th>\n",
       "      <td>59.9</td>\n",
       "      <td>Afghanistan</td>\n",
       "      <td>2014</td>\n",
       "      <td>Developing</td>\n",
       "      <td>271.0</td>\n",
       "      <td>64</td>\n",
       "      <td>0.01</td>\n",
       "      <td>73.523582</td>\n",
       "      <td>62.0</td>\n",
       "      <td>492</td>\n",
       "      <td>18.6</td>\n",
       "      <td>86</td>\n",
       "      <td>58.0</td>\n",
       "      <td>8.18</td>\n",
       "      <td>62.0</td>\n",
       "      <td>0.1</td>\n",
       "      <td>612.696514</td>\n",
       "      <td>327582.0</td>\n",
       "      <td>17.5</td>\n",
       "      <td>17.5</td>\n",
       "      <td>0.476</td>\n",
       "      <td>10.0</td>\n",
       "    </tr>\n",
       "    <tr>\n",
       "      <th>2</th>\n",
       "      <td>59.9</td>\n",
       "      <td>Afghanistan</td>\n",
       "      <td>2013</td>\n",
       "      <td>Developing</td>\n",
       "      <td>268.0</td>\n",
       "      <td>66</td>\n",
       "      <td>0.01</td>\n",
       "      <td>73.219243</td>\n",
       "      <td>64.0</td>\n",
       "      <td>430</td>\n",
       "      <td>18.1</td>\n",
       "      <td>89</td>\n",
       "      <td>62.0</td>\n",
       "      <td>8.13</td>\n",
       "      <td>64.0</td>\n",
       "      <td>0.1</td>\n",
       "      <td>631.744976</td>\n",
       "      <td>31731688.0</td>\n",
       "      <td>17.7</td>\n",
       "      <td>17.7</td>\n",
       "      <td>0.470</td>\n",
       "      <td>9.9</td>\n",
       "    </tr>\n",
       "    <tr>\n",
       "      <th>3</th>\n",
       "      <td>59.5</td>\n",
       "      <td>Afghanistan</td>\n",
       "      <td>2012</td>\n",
       "      <td>Developing</td>\n",
       "      <td>272.0</td>\n",
       "      <td>69</td>\n",
       "      <td>0.01</td>\n",
       "      <td>78.184215</td>\n",
       "      <td>67.0</td>\n",
       "      <td>2787</td>\n",
       "      <td>17.6</td>\n",
       "      <td>93</td>\n",
       "      <td>67.0</td>\n",
       "      <td>8.52</td>\n",
       "      <td>67.0</td>\n",
       "      <td>0.1</td>\n",
       "      <td>669.959000</td>\n",
       "      <td>3696958.0</td>\n",
       "      <td>17.9</td>\n",
       "      <td>18.0</td>\n",
       "      <td>0.463</td>\n",
       "      <td>9.8</td>\n",
       "    </tr>\n",
       "    <tr>\n",
       "      <th>4</th>\n",
       "      <td>59.2</td>\n",
       "      <td>Afghanistan</td>\n",
       "      <td>2011</td>\n",
       "      <td>Developing</td>\n",
       "      <td>275.0</td>\n",
       "      <td>71</td>\n",
       "      <td>0.01</td>\n",
       "      <td>7.097109</td>\n",
       "      <td>68.0</td>\n",
       "      <td>3013</td>\n",
       "      <td>17.2</td>\n",
       "      <td>97</td>\n",
       "      <td>68.0</td>\n",
       "      <td>7.87</td>\n",
       "      <td>68.0</td>\n",
       "      <td>0.1</td>\n",
       "      <td>63.537231</td>\n",
       "      <td>2978599.0</td>\n",
       "      <td>18.2</td>\n",
       "      <td>18.2</td>\n",
       "      <td>0.454</td>\n",
       "      <td>9.5</td>\n",
       "    </tr>\n",
       "  </tbody>\n",
       "</table>\n",
       "</div>"
      ],
      "text/plain": [
       "   Life expectancy       Country  Year      Status  Adult Mortality  \\\n",
       "0              65.0  Afghanistan  2015  Developing            263.0   \n",
       "1              59.9  Afghanistan  2014  Developing            271.0   \n",
       "2              59.9  Afghanistan  2013  Developing            268.0   \n",
       "3              59.5  Afghanistan  2012  Developing            272.0   \n",
       "4              59.2  Afghanistan  2011  Developing            275.0   \n",
       "\n",
       "   infant deaths  Alcohol  percentage expenditure  Hepatitis B  Measles   \\\n",
       "0             62     0.01               71.279624         65.0      1154   \n",
       "1             64     0.01               73.523582         62.0       492   \n",
       "2             66     0.01               73.219243         64.0       430   \n",
       "3             69     0.01               78.184215         67.0      2787   \n",
       "4             71     0.01                7.097109         68.0      3013   \n",
       "\n",
       "    BMI   under-five deaths   Polio  Total expenditure  Diphtheria   \\\n",
       "0   19.1                  83    6.0               8.16         65.0   \n",
       "1   18.6                  86   58.0               8.18         62.0   \n",
       "2   18.1                  89   62.0               8.13         64.0   \n",
       "3   17.6                  93   67.0               8.52         67.0   \n",
       "4   17.2                  97   68.0               7.87         68.0   \n",
       "\n",
       "    HIV/AIDS         GDP  Population   thinness  1-19 years  \\\n",
       "0        0.1  584.259210  33736494.0                   17.2   \n",
       "1        0.1  612.696514    327582.0                   17.5   \n",
       "2        0.1  631.744976  31731688.0                   17.7   \n",
       "3        0.1  669.959000   3696958.0                   17.9   \n",
       "4        0.1   63.537231   2978599.0                   18.2   \n",
       "\n",
       "    thinness 5-9 years  Income composition of resources  Schooling  \n",
       "0                 17.3                            0.479       10.1  \n",
       "1                 17.5                            0.476       10.0  \n",
       "2                 17.7                            0.470        9.9  \n",
       "3                 18.0                            0.463        9.8  \n",
       "4                 18.2                            0.454        9.5  "
      ]
     },
     "execution_count": 60,
     "metadata": {},
     "output_type": "execute_result"
    }
   ],
   "source": [
    "data.head()"
   ]
  },
  {
   "cell_type": "markdown",
   "id": "1d507f73",
   "metadata": {},
   "source": [
    "#### Preparing our model "
   ]
  },
  {
   "cell_type": "markdown",
   "id": "ae58ce35",
   "metadata": {},
   "source": [
    "Foer our model we will scale all numerical features using RobustScaler to handle outliers, but I think it may be a good idea to treat year as a categorical feature rather than apply a scaler since it doesn't have a continuous value, so we will convert this column to string.  "
   ]
  },
  {
   "cell_type": "code",
   "execution_count": 61,
   "id": "71ace090",
   "metadata": {
    "ExecuteTime": {
     "end_time": "2022-05-27T16:11:02.529479Z",
     "start_time": "2022-05-27T16:11:02.514756Z"
    }
   },
   "outputs": [],
   "source": [
    "data['Year'] = data['Year'].astype('str')"
   ]
  },
  {
   "cell_type": "code",
   "execution_count": 62,
   "id": "d90ec92a",
   "metadata": {
    "ExecuteTime": {
     "end_time": "2022-05-27T16:11:02.545426Z",
     "start_time": "2022-05-27T16:11:02.530476Z"
    }
   },
   "outputs": [
    {
     "name": "stdout",
     "output_type": "stream",
     "text": [
      "<class 'pandas.core.frame.DataFrame'>\n",
      "Int64Index: 2128 entries, 0 to 2937\n",
      "Data columns (total 22 columns):\n",
      " #   Column                           Non-Null Count  Dtype  \n",
      "---  ------                           --------------  -----  \n",
      " 0   Life expectancy                  2128 non-null   float64\n",
      " 1   Country                          2128 non-null   object \n",
      " 2   Year                             2128 non-null   object \n",
      " 3   Status                           2128 non-null   object \n",
      " 4   Adult Mortality                  2128 non-null   float64\n",
      " 5   infant deaths                    2128 non-null   int64  \n",
      " 6   Alcohol                          2128 non-null   float64\n",
      " 7   percentage expenditure           2128 non-null   float64\n",
      " 8   Hepatitis B                      2128 non-null   float64\n",
      " 9   Measles                          2128 non-null   int64  \n",
      " 10   BMI                             2128 non-null   float64\n",
      " 11  under-five deaths                2128 non-null   int64  \n",
      " 12  Polio                            2128 non-null   float64\n",
      " 13  Total expenditure                2128 non-null   float64\n",
      " 14  Diphtheria                       2128 non-null   float64\n",
      " 15   HIV/AIDS                        2128 non-null   float64\n",
      " 16  GDP                              2128 non-null   float64\n",
      " 17  Population                       2128 non-null   float64\n",
      " 18   thinness  1-19 years            2128 non-null   float64\n",
      " 19   thinness 5-9 years              2128 non-null   float64\n",
      " 20  Income composition of resources  2128 non-null   float64\n",
      " 21  Schooling                        2128 non-null   float64\n",
      "dtypes: float64(16), int64(3), object(3)\n",
      "memory usage: 382.4+ KB\n"
     ]
    }
   ],
   "source": [
    "data.info()"
   ]
  },
  {
   "cell_type": "markdown",
   "id": "2647ec5c",
   "metadata": {},
   "source": [
    "Now we will separate target from predictors and split our datasert between train and test: "
   ]
  },
  {
   "cell_type": "code",
   "execution_count": 63,
   "id": "e651f931",
   "metadata": {
    "ExecuteTime": {
     "end_time": "2022-05-27T16:11:02.561439Z",
     "start_time": "2022-05-27T16:11:02.546425Z"
    }
   },
   "outputs": [],
   "source": [
    "# Separate target from predictors\n",
    "y = data['Life expectancy ']\n",
    "X = data.drop(['Life expectancy '], axis = 1)"
   ]
  },
  {
   "cell_type": "code",
   "execution_count": 64,
   "id": "9c4144e7",
   "metadata": {
    "ExecuteTime": {
     "end_time": "2022-05-27T16:11:02.764754Z",
     "start_time": "2022-05-27T16:11:02.562426Z"
    }
   },
   "outputs": [],
   "source": [
    "from sklearn.model_selection import train_test_split\n",
    "\n",
    "# divide into train and test\n",
    "X_train, X_test, y_train, y_test = train_test_split(X, y, test_size= 0.3, random_state= 24)"
   ]
  },
  {
   "cell_type": "markdown",
   "id": "6959afff",
   "metadata": {},
   "source": [
    "Before applying the model, we differenciate between numerical and categorical columns: "
   ]
  },
  {
   "cell_type": "code",
   "execution_count": 65,
   "id": "a00dc28c",
   "metadata": {
    "ExecuteTime": {
     "end_time": "2022-05-27T16:11:02.779899Z",
     "start_time": "2022-05-27T16:11:02.765751Z"
    }
   },
   "outputs": [],
   "source": [
    "# select categorical columns \n",
    "categorical_cols = [cname for cname in X_train.columns if X_train[cname].dtype == 'object']"
   ]
  },
  {
   "cell_type": "code",
   "execution_count": 66,
   "id": "72e6f53f",
   "metadata": {
    "ExecuteTime": {
     "end_time": "2022-05-27T16:11:02.795880Z",
     "start_time": "2022-05-27T16:11:02.780825Z"
    }
   },
   "outputs": [],
   "source": [
    "# select numerical columns \n",
    "numerical_cols = [cname for cname in X_train.columns if X_train[cname].dtype in ['int64', 'float64']]"
   ]
  },
  {
   "cell_type": "markdown",
   "id": "ce5a9628",
   "metadata": {},
   "source": [
    "#### Apply a Pipeline"
   ]
  },
  {
   "cell_type": "markdown",
   "id": "fd504336",
   "metadata": {},
   "source": [
    "Inside the pipeline, we will apply: \n",
    "\n",
    "+ One Hot Encoder: For categorical columns \n",
    "+ RobustScaler : For numerical columns (we have already checked for the presence of outliers in the numerical features)\n"
   ]
  },
  {
   "cell_type": "code",
   "execution_count": 67,
   "id": "7791dcda",
   "metadata": {
    "ExecuteTime": {
     "end_time": "2022-05-27T16:11:02.811141Z",
     "start_time": "2022-05-27T16:11:02.796833Z"
    }
   },
   "outputs": [],
   "source": [
    "# import libraries\n",
    "from sklearn.compose import ColumnTransformer\n",
    "from sklearn.pipeline import Pipeline\n",
    "from sklearn.preprocessing import OneHotEncoder\n",
    "from sklearn.preprocessing import RobustScaler"
   ]
  },
  {
   "cell_type": "code",
   "execution_count": 68,
   "id": "7ee81455",
   "metadata": {
    "ExecuteTime": {
     "end_time": "2022-05-27T16:11:02.826429Z",
     "start_time": "2022-05-27T16:11:02.812139Z"
    }
   },
   "outputs": [],
   "source": [
    "# Define Preprocessing Steps\n",
    "# for categorical features we will use OneHotEncoder\n",
    "categorical_transformer = OneHotEncoder()\n",
    "\n",
    "# we will use RobustScaler() for numerical cols\n",
    "numerical_transformer = RobustScaler()\n",
    "\n",
    "# Bundle preprocessing for numerical and categorical data\n",
    "preprocessor = ColumnTransformer(\n",
    "                transformers = [\n",
    "                    ('num', numerical_transformer, numerical_cols), \n",
    "                    #('num2', numerical_transformer2, numerical_cols), \n",
    "                    ('cat', categorical_transformer, categorical_cols), \n",
    "                ])"
   ]
  },
  {
   "cell_type": "code",
   "execution_count": 69,
   "id": "db7e693f",
   "metadata": {
    "ExecuteTime": {
     "end_time": "2022-05-27T16:11:03.000170Z",
     "start_time": "2022-05-27T16:11:02.827426Z"
    }
   },
   "outputs": [],
   "source": [
    "# define the model \n",
    "from sklearn.ensemble import RandomForestRegressor\n",
    "\n",
    "model = RandomForestRegressor(random_state= 24)"
   ]
  },
  {
   "cell_type": "code",
   "execution_count": 70,
   "id": "9551c60a",
   "metadata": {
    "ExecuteTime": {
     "end_time": "2022-05-27T16:11:06.351685Z",
     "start_time": "2022-05-27T16:11:03.001244Z"
    }
   },
   "outputs": [
    {
     "name": "stdout",
     "output_type": "stream",
     "text": [
      "R2 :  0.9688831438019203\n",
      "MSE:  2.909140640062597\n"
     ]
    }
   ],
   "source": [
    "from sklearn.metrics import r2_score\n",
    "from sklearn.metrics import mean_squared_error\n",
    "\n",
    "# Bundle preprocessing and modeling code in a pipeline\n",
    "pipeline = Pipeline(steps = [('preprocessor', preprocessor), \n",
    "                             ('model', model)])\n",
    "\n",
    "# Preprocessing of training data, fit model \n",
    "pipeline.fit(X_train, y_train)\n",
    "\n",
    "# Preprocessing of validation data, get predictions\n",
    "predictions = pipeline.predict(X_test)\n",
    "\n",
    "# Evaluate the model\n",
    "r2 = r2_score(y_test, predictions)\n",
    "mse = mean_squared_error(y_test, predictions)\n",
    "\n",
    "# show results \n",
    "print('R2 : ', r2)\n",
    "print('MSE: ', mse)"
   ]
  },
  {
   "cell_type": "markdown",
   "id": "632bfa19",
   "metadata": {},
   "source": [
    "We have a pretty good result, 0.9688 R2 and 2.91 of MSE. Now let´s check if we can improve our model. We will try two different ways: \n",
    "\n",
    "+ GridSearch\n",
    "+ RandomSearch"
   ]
  },
  {
   "cell_type": "markdown",
   "id": "d60d184b",
   "metadata": {},
   "source": [
    "#### GridSearh on our model"
   ]
  },
  {
   "cell_type": "code",
   "execution_count": 71,
   "id": "a71168e1",
   "metadata": {
    "ExecuteTime": {
     "end_time": "2022-05-27T16:11:06.367559Z",
     "start_time": "2022-05-27T16:11:06.352579Z"
    }
   },
   "outputs": [
    {
     "data": {
      "text/plain": [
       "{'bootstrap': True,\n",
       " 'ccp_alpha': 0.0,\n",
       " 'criterion': 'squared_error',\n",
       " 'max_depth': None,\n",
       " 'max_features': 'auto',\n",
       " 'max_leaf_nodes': None,\n",
       " 'max_samples': None,\n",
       " 'min_impurity_decrease': 0.0,\n",
       " 'min_samples_leaf': 1,\n",
       " 'min_samples_split': 2,\n",
       " 'min_weight_fraction_leaf': 0.0,\n",
       " 'n_estimators': 100,\n",
       " 'n_jobs': None,\n",
       " 'oob_score': False,\n",
       " 'random_state': 24,\n",
       " 'verbose': 0,\n",
       " 'warm_start': False}"
      ]
     },
     "execution_count": 71,
     "metadata": {},
     "output_type": "execute_result"
    }
   ],
   "source": [
    "# cheking original parameters\n",
    "pipeline['model'].get_params()"
   ]
  },
  {
   "cell_type": "code",
   "execution_count": 72,
   "id": "104106fe",
   "metadata": {
    "ExecuteTime": {
     "end_time": "2022-05-27T16:11:06.383201Z",
     "start_time": "2022-05-27T16:11:06.368569Z"
    }
   },
   "outputs": [],
   "source": [
    "from sklearn.model_selection import GridSearchCV\n",
    "\n",
    "parameters = {'model__n_estimators': [10, 50, 100, 150], 'model__max_depth': [1, 10, 30], \n",
    "              'model__min_samples_leaf': [0.2, .5, 1] }\n",
    "\n",
    "grid = GridSearchCV(pipeline, param_grid=parameters, cv=5, scoring = 'r2')"
   ]
  },
  {
   "cell_type": "markdown",
   "id": "baf6484c",
   "metadata": {},
   "source": [
    "We will fit our GridSearch parameters on the train set and check the results on test set."
   ]
  },
  {
   "cell_type": "code",
   "execution_count": 73,
   "id": "ad55184c",
   "metadata": {
    "ExecuteTime": {
     "end_time": "2022-05-27T16:12:29.275043Z",
     "start_time": "2022-05-27T16:11:06.384193Z"
    }
   },
   "outputs": [
    {
     "name": "stdout",
     "output_type": "stream",
     "text": [
      "score = 0.96925\n",
      "{'model__max_depth': 30, 'model__min_samples_leaf': 1, 'model__n_estimators': 150}\n"
     ]
    }
   ],
   "source": [
    "# apply to train set \n",
    "grid.fit(X_train, y_train)\n",
    "\n",
    "# print results based on test set \n",
    "print(\"score = %3.5f\" %(grid.score(X_test,y_test)))\n",
    "print(grid.best_params_) "
   ]
  },
  {
   "cell_type": "markdown",
   "id": "42753a8a",
   "metadata": {},
   "source": [
    "With these parameters we get a result of 0.96925 on test set, it is a little improvement compared to our original model (0.9688 R2). "
   ]
  },
  {
   "cell_type": "markdown",
   "id": "2d4f3c99",
   "metadata": {},
   "source": [
    "#### RandomSearch on our model"
   ]
  },
  {
   "cell_type": "markdown",
   "id": "cc0b06ce",
   "metadata": {},
   "source": [
    "With random search, instead of defining the values for the parameters, we look for a range of values for the best value. "
   ]
  },
  {
   "cell_type": "code",
   "execution_count": 74,
   "id": "bb131228",
   "metadata": {
    "ExecuteTime": {
     "end_time": "2022-05-27T16:12:29.290420Z",
     "start_time": "2022-05-27T16:12:29.276070Z"
    }
   },
   "outputs": [],
   "source": [
    "from sklearn.model_selection import RandomizedSearchCV\n",
    "\n",
    "# first we definde the parameters grid\n",
    "# Number of trees in random forest\n",
    "n_estimators = [int(x) for x in np.linspace(start = 100, stop = 1000, num = 10)]\n",
    "\n",
    "# Maximum number of levels in tree\n",
    "max_depth = [int(x) for x in np.linspace(10, 110, num = 10)]\n",
    "\n",
    "\n",
    "# Minimum number of samples required at each leaf node\n",
    "min_samples_leaf = [1, 2, 4]\n",
    "\n",
    "random_param = {'model__n_estimators': n_estimators, 'model__max_depth': max_depth,\n",
    "                'model__min_samples_leaf': min_samples_leaf }\n",
    "\n",
    "random_grid = RandomizedSearchCV(pipeline, param_distributions= random_param, cv = 5, scoring= 'r2')"
   ]
  },
  {
   "cell_type": "code",
   "execution_count": 75,
   "id": "e9ebd3db",
   "metadata": {
    "ExecuteTime": {
     "end_time": "2022-05-27T16:21:20.195511Z",
     "start_time": "2022-05-27T16:12:29.291708Z"
    }
   },
   "outputs": [
    {
     "name": "stdout",
     "output_type": "stream",
     "text": [
      "score = 0.96904\n",
      "{'model__n_estimators': 700, 'model__min_samples_leaf': 1, 'model__max_depth': 32}\n"
     ]
    }
   ],
   "source": [
    "# apply to train set \n",
    "random_grid.fit(X_train, y_train)\n",
    "\n",
    "# print results based on test set \n",
    "print(\"score = %3.5f\" %(random_grid.score(X_test,y_test)))\n",
    "print(random_grid.best_params_) "
   ]
  },
  {
   "cell_type": "markdown",
   "id": "9eff37c3",
   "metadata": {},
   "source": [
    "In this case, selecting the parameters with RandomSearch gives a slightly better result on test set (0.96938) for R2 than GridSearch (0.96925). "
   ]
  },
  {
   "cell_type": "markdown",
   "id": "c07f9f84",
   "metadata": {},
   "source": [
    "### - Exercici 2\n",
    "\n",
    "Agafa un text en anglès que vulguis, i calcula'n la freqüència de les paraules"
   ]
  },
  {
   "cell_type": "markdown",
   "id": "1187b3f2",
   "metadata": {},
   "source": [
    "For this exercice I am taking an excerpt from the book 'The Little Prince'. "
   ]
  },
  {
   "cell_type": "code",
   "execution_count": 1,
   "id": "62777408",
   "metadata": {
    "ExecuteTime": {
     "end_time": "2022-05-30T18:59:05.842358Z",
     "start_time": "2022-05-30T18:59:04.527475Z"
    }
   },
   "outputs": [],
   "source": [
    "# importing libraries \n",
    "import nltk\n",
    "from nltk.tokenize import word_tokenize"
   ]
  },
  {
   "cell_type": "code",
   "execution_count": 2,
   "id": "26917bf2",
   "metadata": {
    "ExecuteTime": {
     "end_time": "2022-05-30T18:59:07.620725Z",
     "start_time": "2022-05-30T18:59:07.610702Z"
    }
   },
   "outputs": [],
   "source": [
    "text = \"\"\"\n",
    "All men have stars, but they are not the same things for different people. For some, who are travelers,\n",
    "the stars are guides. For others they are no more than little lights in the sky. For others, who are scholars,\n",
    "they are problems... But all these stars are silent. You-You alone will have stars as no one else has them... \n",
    "In one of the stars I shall be living. In one of them I shall be laughing. And so it will be as if all the stars will\n",
    "be laughing when you look at the sky at night..You, only you, will have stars that can laugh! And when your sorrow is \n",
    "comforted (time soothes all sorrows) you will be content that you have known me... You will always be my friend. You will\n",
    "want to laugh with me. And you will sometimes open your window, so, for that pleasure... It will be as if, in place of the\n",
    "stars, I had given you a great number of little bells that knew how to laugh.\n",
    "\"\"\""
   ]
  },
  {
   "cell_type": "markdown",
   "id": "f7bc33ac",
   "metadata": {},
   "source": [
    "First we will break text paragraph into words."
   ]
  },
  {
   "cell_type": "code",
   "execution_count": 3,
   "id": "a76ae635",
   "metadata": {
    "ExecuteTime": {
     "end_time": "2022-05-30T18:59:09.620620Z",
     "start_time": "2022-05-30T18:59:09.579406Z"
    }
   },
   "outputs": [
    {
     "name": "stdout",
     "output_type": "stream",
     "text": [
      "['All', 'men', 'have', 'stars', ',', 'but', 'they', 'are', 'not', 'the', 'same', 'things', 'for', 'different', 'people', '.', 'For', 'some', ',', 'who', 'are', 'travelers', ',', 'the', 'stars', 'are', 'guides', '.', 'For', 'others', 'they', 'are', 'no', 'more', 'than', 'little', 'lights', 'in', 'the', 'sky', '.', 'For', 'others', ',', 'who', 'are', 'scholars', ',', 'they', 'are', 'problems', '...', 'But', 'all', 'these', 'stars', 'are', 'silent', '.', 'You-You', 'alone', 'will', 'have', 'stars', 'as', 'no', 'one', 'else', 'has', 'them', '...', 'In', 'one', 'of', 'the', 'stars', 'I', 'shall', 'be', 'living', '.', 'In', 'one', 'of', 'them', 'I', 'shall', 'be', 'laughing', '.', 'And', 'so', 'it', 'will', 'be', 'as', 'if', 'all', 'the', 'stars', 'will', 'be', 'laughing', 'when', 'you', 'look', 'at', 'the', 'sky', 'at', 'night', '..', 'You', ',', 'only', 'you', ',', 'will', 'have', 'stars', 'that', 'can', 'laugh', '!', 'And', 'when', 'your', 'sorrow', 'is', 'comforted', '(', 'time', 'soothes', 'all', 'sorrows', ')', 'you', 'will', 'be', 'content', 'that', 'you', 'have', 'known', 'me', '...', 'You', 'will', 'always', 'be', 'my', 'friend', '.', 'You', 'will', 'want', 'to', 'laugh', 'with', 'me', '.', 'And', 'you', 'will', 'sometimes', 'open', 'your', 'window', ',', 'so', ',', 'for', 'that', 'pleasure', '...', 'It', 'will', 'be', 'as', 'if', ',', 'in', 'place', 'of', 'the', 'stars', ',', 'I', 'had', 'given', 'you', 'a', 'great', 'number', 'of', 'little', 'bells', 'that', 'knew', 'how', 'to', 'laugh', '.']\n"
     ]
    }
   ],
   "source": [
    "tokenized_word = word_tokenize(text)\n",
    "\n",
    "print(tokenized_word)"
   ]
  },
  {
   "cell_type": "markdown",
   "id": "544e7a25",
   "metadata": {
    "ExecuteTime": {
     "end_time": "2022-05-25T20:57:39.247239Z",
     "start_time": "2022-05-25T20:57:39.229598Z"
    }
   },
   "source": [
    "We see this text contains a lot of punctuation marks, we will remove the punctuation marks to keep only the words: "
   ]
  },
  {
   "cell_type": "code",
   "execution_count": 4,
   "id": "76b9c021",
   "metadata": {
    "ExecuteTime": {
     "end_time": "2022-05-30T18:59:14.132503Z",
     "start_time": "2022-05-30T18:59:14.116533Z"
    }
   },
   "outputs": [
    {
     "name": "stdout",
     "output_type": "stream",
     "text": [
      "['All', 'men', 'have', 'stars', 'but', 'they', 'are', 'not', 'the', 'same', 'things', 'for', 'different', 'people', 'For', 'some', 'who', 'are', 'travelers', 'the', 'stars', 'are', 'guides', 'For', 'others', 'they', 'are', 'no', 'more', 'than', 'little', 'lights', 'in', 'the', 'sky', 'For', 'others', 'who', 'are', 'scholars', 'they', 'are', 'problems', 'But', 'all', 'these', 'stars', 'are', 'silent', 'alone', 'will', 'have', 'stars', 'as', 'no', 'one', 'else', 'has', 'them', 'In', 'one', 'of', 'the', 'stars', 'I', 'shall', 'be', 'living', 'In', 'one', 'of', 'them', 'I', 'shall', 'be', 'laughing', 'And', 'so', 'it', 'will', 'be', 'as', 'if', 'all', 'the', 'stars', 'will', 'be', 'laughing', 'when', 'you', 'look', 'at', 'the', 'sky', 'at', 'night', 'You', 'only', 'you', 'will', 'have', 'stars', 'that', 'can', 'laugh', 'And', 'when', 'your', 'sorrow', 'is', 'comforted', 'time', 'soothes', 'all', 'sorrows', 'you', 'will', 'be', 'content', 'that', 'you', 'have', 'known', 'me', 'You', 'will', 'always', 'be', 'my', 'friend', 'You', 'will', 'want', 'to', 'laugh', 'with', 'me', 'And', 'you', 'will', 'sometimes', 'open', 'your', 'window', 'so', 'for', 'that', 'pleasure', 'It', 'will', 'be', 'as', 'if', 'in', 'place', 'of', 'the', 'stars', 'I', 'had', 'given', 'you', 'a', 'great', 'number', 'of', 'little', 'bells', 'that', 'knew', 'how', 'to', 'laugh']\n"
     ]
    }
   ],
   "source": [
    "only_words_tokenized = [word for word in tokenized_word if word.isalpha()]\n",
    "print(only_words_tokenized)"
   ]
  },
  {
   "cell_type": "markdown",
   "id": "df14804e",
   "metadata": {},
   "source": [
    "#### Frequency Distribution"
   ]
  },
  {
   "cell_type": "code",
   "execution_count": 5,
   "id": "9eb2317a",
   "metadata": {
    "ExecuteTime": {
     "end_time": "2022-05-30T18:59:18.220737Z",
     "start_time": "2022-05-30T18:59:18.208266Z"
    }
   },
   "outputs": [
    {
     "name": "stdout",
     "output_type": "stream",
     "text": [
      "<FreqDist with 91 samples and 174 outcomes>\n"
     ]
    }
   ],
   "source": [
    "from nltk.probability import FreqDist\n",
    "\n",
    "fdist = FreqDist(only_words_tokenized)\n",
    "print(fdist)"
   ]
  },
  {
   "cell_type": "markdown",
   "id": "9d881e2e",
   "metadata": {},
   "source": [
    "The text has 91 different words and the lenght is 174. "
   ]
  },
  {
   "cell_type": "code",
   "execution_count": 6,
   "id": "9b9717e7",
   "metadata": {
    "ExecuteTime": {
     "end_time": "2022-05-30T18:59:20.267668Z",
     "start_time": "2022-05-30T18:59:20.246646Z"
    }
   },
   "outputs": [
    {
     "data": {
      "text/plain": [
       "[('will', 9),\n",
       " ('stars', 8),\n",
       " ('are', 7),\n",
       " ('the', 7),\n",
       " ('be', 7),\n",
       " ('you', 6),\n",
       " ('have', 4),\n",
       " ('of', 4),\n",
       " ('that', 4),\n",
       " ('they', 3)]"
      ]
     },
     "execution_count": 6,
     "metadata": {},
     "output_type": "execute_result"
    }
   ],
   "source": [
    "# show the top 10 most common words \n",
    "fdist.most_common(10)"
   ]
  },
  {
   "cell_type": "code",
   "execution_count": 7,
   "id": "23a74620",
   "metadata": {
    "ExecuteTime": {
     "end_time": "2022-05-30T18:59:25.275238Z",
     "start_time": "2022-05-30T18:59:25.266737Z"
    }
   },
   "outputs": [
    {
     "name": "stdout",
     "output_type": "stream",
     "text": [
      " will stars   are   the    be   you  have    of  that  they \n",
      "    9     8     7     7     7     6     4     4     4     3 \n"
     ]
    }
   ],
   "source": [
    "# show the same but in another format \n",
    "fdist.tabulate(10)"
   ]
  },
  {
   "cell_type": "markdown",
   "id": "49f7e69e",
   "metadata": {},
   "source": [
    "We can also do a plot with the 30 most common words: "
   ]
  },
  {
   "cell_type": "code",
   "execution_count": 8,
   "id": "0581a2da",
   "metadata": {
    "ExecuteTime": {
     "end_time": "2022-05-30T18:59:27.843094Z",
     "start_time": "2022-05-30T18:59:26.929826Z"
    }
   },
   "outputs": [
    {
     "data": {
      "image/png": "[encoded data removed]",
      "text/plain": [
       "<Figure size 720x576 with 1 Axes>"
      ]
     },
     "metadata": {
      "needs_background": "light"
     },
     "output_type": "display_data"
    }
   ],
   "source": [
    "import matplotlib.pyplot as plt\n",
    "\n",
    "plt.figure(figsize=(10,8))\n",
    "fdist.plot(30,cumulative=False, color = 'm', linewidth = 4)\n",
    "plt.show()"
   ]
  },
  {
   "cell_type": "markdown",
   "id": "57cd2c6f",
   "metadata": {},
   "source": [
    "### Nivell 2\n",
    "\n",
    "#### - Exercici 1\n",
    "\n",
    "Treu les stopwords i realitza stemming al teu conjunt de dades."
   ]
  },
  {
   "cell_type": "code",
   "execution_count": 9,
   "id": "35ae4676",
   "metadata": {
    "ExecuteTime": {
     "end_time": "2022-05-30T18:59:32.749647Z",
     "start_time": "2022-05-30T18:59:32.712775Z"
    }
   },
   "outputs": [
    {
     "name": "stdout",
     "output_type": "stream",
     "text": [
      "{'hadn', \"won't\", 'some', \"you'd\", 'yourself', 'here', \"wouldn't\", 'other', 'ours', 'again', 'both', 'as', 'than', 'ma', 'she', 'too', 'so', \"that'll\", 'of', \"hadn't\", 'we', 'in', 'where', \"isn't\", 'mustn', \"didn't\", \"shan't\", 'needn', 'isn', 'about', 't', \"she's\", 'below', 'did', 'am', 'now', 'with', \"shouldn't\", \"weren't\", \"you'll\", 'to', 've', 'o', 'doesn', 'does', 'haven', 'them', 'up', 'didn', 're', 'by', 'hasn', 'you', 'herself', 'once', \"you've\", 'having', 'few', 'when', 'for', 'your', 'wouldn', 'myself', 'while', 'against', 'do', 'over', 'being', 'its', 'the', 'mightn', 'he', \"haven't\", 'y', 'hers', 'is', 'been', 'at', 'shan', 'then', 'weren', 'and', 'off', \"needn't\", \"doesn't\", 'was', 'which', 'this', 'theirs', \"couldn't\", 'very', \"mustn't\", 'after', 'through', 'or', 'should', 'those', 'will', 'nor', 'these', 'itself', 'can', 'ourselves', 'what', 'i', 'ain', 'be', \"it's\", 'how', 'yours', 'an', 'himself', 'couldn', 'were', 'same', \"you're\", \"mightn't\", 'there', 'had', 'it', 'are', 'because', 'no', 'not', 'shouldn', \"don't\", 'their', \"hasn't\", 'if', 'during', \"should've\", 'until', \"wasn't\", 'd', 'further', \"aren't\", 'have', 'who', 'each', 'own', 'his', 'won', 'down', 'most', 'm', 'don', 'themselves', 'yourselves', 'aren', 'why', 'all', 'out', 'between', 'her', 'only', 'just', 'but', 'our', 'whom', 'they', 'wasn', 'that', 'has', 'me', 's', 'more', 'before', 'my', 'any', 'under', 'above', 'on', 'such', 'into', 'doing', 'a', 'him', 'll', 'from'}\n"
     ]
    }
   ],
   "source": [
    "# let´s look at stopwords in English\n",
    "from nltk.corpus import stopwords\n",
    "\n",
    "stop_words = set(stopwords.words(\"english\"))\n",
    "print(stop_words)"
   ]
  },
  {
   "cell_type": "markdown",
   "id": "2f190c7b",
   "metadata": {},
   "source": [
    "Now we will remove these words from our text, either in uppercase and in lowercase: "
   ]
  },
  {
   "cell_type": "code",
   "execution_count": 10,
   "id": "3b1964da",
   "metadata": {
    "ExecuteTime": {
     "end_time": "2022-05-30T19:00:04.374739Z",
     "start_time": "2022-05-30T19:00:04.356928Z"
    }
   },
   "outputs": [
    {
     "name": "stdout",
     "output_type": "stream",
     "text": [
      "['men', 'stars', 'things', 'different', 'people', 'travelers', 'stars', 'guides', 'others', 'little', 'lights', 'sky', 'others', 'scholars', 'problems', 'stars', 'silent', 'alone', 'stars', 'one', 'else', 'one', 'stars', 'shall', 'living', 'one', 'shall', 'laughing', 'stars', 'laughing', 'look', 'sky', 'night', 'stars', 'laugh', 'sorrow', 'comforted', 'time', 'soothes', 'sorrows', 'content', 'known', 'always', 'friend', 'want', 'laugh', 'sometimes', 'open', 'window', 'pleasure', 'place', 'stars', 'given', 'great', 'number', 'little', 'bells', 'knew', 'laugh']\n"
     ]
    }
   ],
   "source": [
    "# we are removing all stop words either in uppercase and in lowercase \n",
    "filtered_text = [w for w in only_words_tokenized if w.lower() not in stop_words]\n",
    "print(filtered_text)"
   ]
  },
  {
   "cell_type": "code",
   "execution_count": 11,
   "id": "658b394c",
   "metadata": {
    "ExecuteTime": {
     "end_time": "2022-05-30T19:00:06.274830Z",
     "start_time": "2022-05-30T19:00:06.262434Z"
    }
   },
   "outputs": [
    {
     "data": {
      "text/plain": [
       "59"
      ]
     },
     "execution_count": 11,
     "metadata": {},
     "output_type": "execute_result"
    }
   ],
   "source": [
    "len(filtered_text)"
   ]
  },
  {
   "cell_type": "markdown",
   "id": "e1051d26",
   "metadata": {},
   "source": [
    "Now we have 59 words."
   ]
  },
  {
   "cell_type": "markdown",
   "id": "9a8d21e2",
   "metadata": {},
   "source": [
    "#### Stemming\n",
    "\n",
    "Stemming is a process of linguistic normalization, which reduces words to their word root word or chops off the derivational affixes."
   ]
  },
  {
   "cell_type": "code",
   "execution_count": 15,
   "id": "68d1092b",
   "metadata": {
    "ExecuteTime": {
     "end_time": "2022-05-30T19:01:00.382688Z",
     "start_time": "2022-05-30T19:01:00.375388Z"
    }
   },
   "outputs": [
    {
     "name": "stdout",
     "output_type": "stream",
     "text": [
      "Filtered Text: ['men', 'stars', 'things', 'different', 'people', 'travelers', 'stars', 'guides', 'others', 'little', 'lights', 'sky', 'others', 'scholars', 'problems', 'stars', 'silent', 'alone', 'stars', 'one', 'else', 'one', 'stars', 'shall', 'living', 'one', 'shall', 'laughing', 'stars', 'laughing', 'look', 'sky', 'night', 'stars', 'laugh', 'sorrow', 'comforted', 'time', 'soothes', 'sorrows', 'content', 'known', 'always', 'friend', 'want', 'laugh', 'sometimes', 'open', 'window', 'pleasure', 'place', 'stars', 'given', 'great', 'number', 'little', 'bells', 'knew', 'laugh']\n",
      "______________________________________________________________________________________________________________________________\n",
      " \n",
      "Stemmed Text: ['men', 'star', 'thing', 'differ', 'peopl', 'travel', 'star', 'guid', 'other', 'littl', 'light', 'sky', 'other', 'scholar', 'problem', 'star', 'silent', 'alon', 'star', 'one', 'els', 'one', 'star', 'shall', 'live', 'one', 'shall', 'laugh', 'star', 'laugh', 'look', 'sky', 'night', 'star', 'laugh', 'sorrow', 'comfort', 'time', 'sooth', 'sorrow', 'content', 'known', 'alway', 'friend', 'want', 'laugh', 'sometim', 'open', 'window', 'pleasur', 'place', 'star', 'given', 'great', 'number', 'littl', 'bell', 'knew', 'laugh']\n"
     ]
    }
   ],
   "source": [
    "from nltk.stem import PorterStemmer\n",
    "\n",
    "ps = PorterStemmer()\n",
    "\n",
    "stemmed_words = []\n",
    "\n",
    "for word in filtered_text: \n",
    "    stemmed_words.append(ps.stem(word))\n",
    "    \n",
    "\n",
    "print(\"Filtered Text:\",filtered_text)\n",
    "print(\"______________________________________________________________________________________________________________________________\")\n",
    "print(\" \")\n",
    "print(\"Stemmed Text:\",stemmed_words)\n"
   ]
  },
  {
   "cell_type": "markdown",
   "id": "d8d911d2",
   "metadata": {},
   "source": [
    "We print the text without stopwords next to stemmed text to appreciate the differences in the words. "
   ]
  },
  {
   "cell_type": "markdown",
   "id": "3cfe3521",
   "metadata": {},
   "source": [
    "### Nivell 3\n",
    "\n",
    "### - Exercici 1\n",
    "\n",
    "Realitza sentiment analysis al teu conjunt de dades."
   ]
  },
  {
   "cell_type": "markdown",
   "id": "a5b7a23d",
   "metadata": {},
   "source": [
    "We can do Sentiment Analysis for the whole text: "
   ]
  },
  {
   "cell_type": "code",
   "execution_count": 12,
   "id": "4ffef761",
   "metadata": {
    "ExecuteTime": {
     "end_time": "2022-05-29T16:40:30.520314Z",
     "start_time": "2022-05-29T16:40:30.448482Z"
    }
   },
   "outputs": [
    {
     "data": {
      "text/plain": [
       "{'neg': 0.061, 'neu': 0.747, 'pos': 0.192, 'compound': 0.9841}"
      ]
     },
     "execution_count": 12,
     "metadata": {},
     "output_type": "execute_result"
    }
   ],
   "source": [
    "from nltk.sentiment.vader import SentimentIntensityAnalyzer\n",
    "\n",
    "# we use the original text\n",
    "sentiment = SentimentIntensityAnalyzer()\n",
    "sentiment.polarity_scores(text)"
   ]
  },
  {
   "cell_type": "markdown",
   "id": "02636d7c",
   "metadata": {},
   "source": [
    "This returns a dictionary with the percentages of negative, neutral and positive words, and the final result, the compund 0.9841, tells us the analysis is positive. \n",
    "\n",
    "\"The compound score is the sum of positive, negative & neutral scores which is then normalized between -1(most extreme negative) and +1 (most extreme positive).The more Compound score closer to +1, the higher the positivity of the text.\" Source: https://analyticsindiamag.com/sentiment-analysis-made-easy-using-vader/"
   ]
  },
  {
   "cell_type": "code",
   "execution_count": 13,
   "id": "15772ad9",
   "metadata": {
    "ExecuteTime": {
     "end_time": "2022-05-29T16:40:32.297227Z",
     "start_time": "2022-05-29T16:40:32.291195Z"
    }
   },
   "outputs": [],
   "source": [
    "sent_dict = sentiment.polarity_scores(text)"
   ]
  },
  {
   "cell_type": "code",
   "execution_count": 14,
   "id": "0ce899db",
   "metadata": {
    "ExecuteTime": {
     "end_time": "2022-05-29T16:40:34.481956Z",
     "start_time": "2022-05-29T16:40:34.424002Z"
    }
   },
   "outputs": [
    {
     "name": "stdout",
     "output_type": "stream",
     "text": [
      "Overall text is :  {'neg': 0.061, 'neu': 0.747, 'pos': 0.192, 'compound': 0.9841}\n",
      "Text was rated as  6.1 % Negative\n",
      "Text was rated as  74.7 % Neutral\n",
      "Text was rated as  19.2 % Positive\n",
      "The overall text was rated as Positive with a score of 0.9841 .\n"
     ]
    }
   ],
   "source": [
    "def sent_score(): \n",
    "    \n",
    "    if sent_dict['compound'] >= 0.05 :\n",
    "        return 'Positive'\n",
    "    elif sent_dict['compound'] <= - 0.05 :\n",
    "        return 'Negative'\n",
    "    else :\n",
    "        return 'Neutral'\n",
    "\n",
    "result = sent_score()\n",
    "\n",
    "print(\"Overall text is : \", sent_dict)\n",
    "print(\"Text was rated as \", sent_dict['neg']*100, \"% Negative\")\n",
    "print(\"Text was rated as \", sent_dict['neu']*100, \"% Neutral\")\n",
    "print(\"Text was rated as \", sent_dict['pos']*100, \"% Positive\")\n",
    "\n",
    "print(\"The overall text was rated as\",result, \"with a score of\", sent_dict['compound'], \".\")\n"
   ]
  },
  {
   "cell_type": "markdown",
   "id": "6d27996f",
   "metadata": {},
   "source": [
    "#### Sentiment Analysis on individual sentences of the text: "
   ]
  },
  {
   "cell_type": "markdown",
   "id": "83928fd7",
   "metadata": {},
   "source": [
    "We can also analyze the sentences individually in the text: "
   ]
  },
  {
   "cell_type": "code",
   "execution_count": 19,
   "id": "9f70ad82",
   "metadata": {
    "ExecuteTime": {
     "end_time": "2022-05-29T16:49:47.745229Z",
     "start_time": "2022-05-29T16:49:47.726981Z"
    }
   },
   "outputs": [
    {
     "data": {
      "text/plain": [
       "['\\nAll men have stars, but they are not the same things for different people.',\n",
       " 'For some, who are travelers,\\nthe stars are guides.',\n",
       " 'For others they are no more than little lights in the sky.',\n",
       " 'For others, who are scholars,\\nthey are problems...',\n",
       " 'But all these stars are silent.',\n",
       " 'You-You alone will have stars as no one else has them...',\n",
       " 'In one of the stars I shall be living.',\n",
       " 'In one of them I shall be laughing.',\n",
       " 'And so it will be as if all the stars will\\nbe laughing when you look at the sky at night..You, only you, will have stars that can laugh!',\n",
       " 'And when your sorrow is \\ncomforted (time soothes all sorrows) you will be content that you have known me... You will always be my friend.',\n",
       " 'You will\\nwant to laugh with me.',\n",
       " 'And you will sometimes open your window, so, for that pleasure...',\n",
       " 'It will be as if, in place of the\\nstars, I had given you a great number of little bells that knew how to laugh.']"
      ]
     },
     "execution_count": 19,
     "metadata": {},
     "output_type": "execute_result"
    }
   ],
   "source": [
    "# first we split the text into sentences \n",
    "sentences = nltk.sent_tokenize(text)\n",
    "sentences"
   ]
  },
  {
   "cell_type": "code",
   "execution_count": 40,
   "id": "f1bece4b",
   "metadata": {
    "ExecuteTime": {
     "end_time": "2022-05-29T17:09:17.586194Z",
     "start_time": "2022-05-29T17:09:17.487670Z"
    },
    "scrolled": false
   },
   "outputs": [
    {
     "name": "stdout",
     "output_type": "stream",
     "text": [
      "\n",
      "All men have stars, but they are not the same things for different people.\n",
      "\n",
      "compound: 0.0, \n",
      "neg: 0.0, \n",
      "neu: 1.0, \n",
      "pos: 0.0, \n",
      "\n",
      "------------------------------------------------------------------------------\n",
      "\n",
      "\n",
      "For some, who are travelers,\n",
      "the stars are guides.\n",
      "\n",
      "compound: 0.0, \n",
      "neg: 0.0, \n",
      "neu: 1.0, \n",
      "pos: 0.0, \n",
      "\n",
      "------------------------------------------------------------------------------\n",
      "\n",
      "\n",
      "For others they are no more than little lights in the sky.\n",
      "\n",
      "compound: -0.296, \n",
      "neg: 0.167, \n",
      "neu: 0.833, \n",
      "pos: 0.0, \n",
      "\n",
      "------------------------------------------------------------------------------\n",
      "\n",
      "\n",
      "For others, who are scholars,\n",
      "they are problems...\n",
      "\n",
      "compound: 0.0, \n",
      "neg: 0.0, \n",
      "neu: 1.0, \n",
      "pos: 0.0, \n",
      "\n",
      "------------------------------------------------------------------------------\n",
      "\n",
      "\n",
      "But all these stars are silent.\n",
      "\n",
      "compound: 0.0, \n",
      "neg: 0.0, \n",
      "neu: 1.0, \n",
      "pos: 0.0, \n",
      "\n",
      "------------------------------------------------------------------------------\n",
      "\n",
      "\n",
      "You-You alone will have stars as no one else has them...\n",
      "\n",
      "compound: -0.4939, \n",
      "neg: 0.318, \n",
      "neu: 0.682, \n",
      "pos: 0.0, \n",
      "\n",
      "------------------------------------------------------------------------------\n",
      "\n",
      "\n",
      "In one of the stars I shall be living.\n",
      "\n",
      "compound: 0.0, \n",
      "neg: 0.0, \n",
      "neu: 1.0, \n",
      "pos: 0.0, \n",
      "\n",
      "------------------------------------------------------------------------------\n",
      "\n",
      "\n",
      "In one of them I shall be laughing.\n",
      "\n",
      "compound: 0.4939, \n",
      "neg: 0.0, \n",
      "neu: 0.652, \n",
      "pos: 0.348, \n",
      "\n",
      "------------------------------------------------------------------------------\n",
      "\n",
      "\n",
      "And so it will be as if all the stars will\n",
      "be laughing when you look at the sky at night..You, only you, will have stars that can laugh!\n",
      "\n",
      "compound: 0.7959, \n",
      "neg: 0.0, \n",
      "neu: 0.792, \n",
      "pos: 0.208, \n",
      "\n",
      "------------------------------------------------------------------------------\n",
      "\n",
      "\n",
      "And when your sorrow is \n",
      "comforted (time soothes all sorrows) you will be content that you have known me... You will always be my friend.\n",
      "\n",
      "compound: 0.3818, \n",
      "neg: 0.108, \n",
      "neu: 0.701, \n",
      "pos: 0.191, \n",
      "\n",
      "------------------------------------------------------------------------------\n",
      "\n",
      "\n",
      "You will\n",
      "want to laugh with me.\n",
      "\n",
      "compound: 0.5994, \n",
      "neg: 0.0, \n",
      "neu: 0.505, \n",
      "pos: 0.495, \n",
      "\n",
      "------------------------------------------------------------------------------\n",
      "\n",
      "\n",
      "And you will sometimes open your window, so, for that pleasure...\n",
      "\n",
      "compound: 0.0, \n",
      "neg: 0.0, \n",
      "neu: 1.0, \n",
      "pos: 0.0, \n",
      "\n",
      "------------------------------------------------------------------------------\n",
      "\n",
      "\n",
      "It will be as if, in place of the\n",
      "stars, I had given you a great number of little bells that knew how to laugh.\n",
      "\n",
      "compound: 0.8402, \n",
      "neg: 0.0, \n",
      "neu: 0.69, \n",
      "pos: 0.31, \n",
      "\n",
      "------------------------------------------------------------------------------\n",
      "\n",
      "\n"
     ]
    }
   ],
   "source": [
    "# we apply Sentiment analysis individually on each sentence of the text \n",
    "for sentence in sentences: \n",
    "    sentiment = SentimentIntensityAnalyzer()\n",
    "    print(sentence)\n",
    "    print('')\n",
    "    scores = sentiment.polarity_scores(sentence)\n",
    "    for i in sorted (scores): \n",
    "        print('{0}: {1}, '.format(i, scores[i]), end='\\n')\n",
    "    print('')\n",
    "    print('------------------------------------------------------------------------------')\n",
    "    print('\\n')"
   ]
  }
 ],
 "metadata": {
  "kernelspec": {
   "display_name": "Python 3 (ipykernel)",
   "language": "python",
   "name": "python3"
  },
  "language_info": {
   "codemirror_mode": {
    "name": "ipython",
    "version": 3
   },
   "file_extension": ".py",
   "mimetype": "text/x-python",
   "name": "python",
   "nbconvert_exporter": "python",
   "pygments_lexer": "ipython3",
   "version": "3.9.7"
  }
 },
 "nbformat": 4,
 "nbformat_minor": 5
}
